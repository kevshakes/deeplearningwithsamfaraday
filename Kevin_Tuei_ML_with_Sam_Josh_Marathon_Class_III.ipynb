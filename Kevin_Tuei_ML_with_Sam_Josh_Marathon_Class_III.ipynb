{
  "nbformat": 4,
  "nbformat_minor": 0,
  "metadata": {
    "colab": {
      "name": "Kevin_Tuei ML_with_Sam_Josh_Marathon_Class_III.ipynb",
      "provenance": [],
      "authorship_tag": "ABX9TyPO2h9RToGQLcLFcEZnt5xy",
      "include_colab_link": true
    },
    "kernelspec": {
      "name": "python3",
      "display_name": "Python 3"
    },
    "language_info": {
      "name": "python"
    }
  },
  "cells": [
    {
      "cell_type": "markdown",
      "metadata": {
        "id": "view-in-github",
        "colab_type": "text"
      },
      "source": [
        "<a href=\"https://colab.research.google.com/github/kevshakes/deeplearningwithsamfaraday/blob/main/Kevin_Tuei_ML_with_Sam_Josh_Marathon_Class_III.ipynb\" target=\"_parent\"><img src=\"https://colab.research.google.com/assets/colab-badge.svg\" alt=\"Open In Colab\"/></a>"
      ]
    },
    {
      "cell_type": "code",
      "execution_count": 1,
      "metadata": {
        "colab": {
          "base_uri": "https://localhost:8080/"
        },
        "id": "evYKf6f-b3oY",
        "outputId": "56a1e825-0bb6-47eb-a495-b623c5dc6b4c"
      },
      "outputs": [
        {
          "output_type": "stream",
          "name": "stdout",
          "text": [
            "Looking in indexes: https://pypi.org/simple, https://us-python.pkg.dev/colab-wheels/public/simple/\n",
            "Collecting wget\n",
            "  Downloading wget-3.2.zip (10 kB)\n",
            "Building wheels for collected packages: wget\n",
            "  Building wheel for wget (setup.py) ... \u001b[?25l\u001b[?25hdone\n",
            "  Created wheel for wget: filename=wget-3.2-py3-none-any.whl size=9675 sha256=dee9111bc833cb1b2fcf57d21b3f208ae3b4d775fc07cf073322c408ed997ded\n",
            "  Stored in directory: /root/.cache/pip/wheels/a1/b6/7c/0e63e34eb06634181c63adacca38b79ff8f35c37e3c13e3c02\n",
            "Successfully built wget\n",
            "Installing collected packages: wget\n",
            "Successfully installed wget-3.2\n"
          ]
        }
      ],
      "source": [
        "pip install wget"
      ]
    },
    {
      "cell_type": "code",
      "source": [
        "import wget"
      ],
      "metadata": {
        "id": "CuNOmHZccGIr"
      },
      "execution_count": 3,
      "outputs": []
    },
    {
      "cell_type": "code",
      "source": [
        "import os"
      ],
      "metadata": {
        "id": "UsELKwTOcCGm"
      },
      "execution_count": 2,
      "outputs": []
    },
    {
      "cell_type": "code",
      "source": [
        "import shutil"
      ],
      "metadata": {
        "id": "CisbkksqcKAF"
      },
      "execution_count": 4,
      "outputs": []
    },
    {
      "cell_type": "code",
      "source": [
        "import zipfile"
      ],
      "metadata": {
        "id": "it-7e9v7cdI3"
      },
      "execution_count": 6,
      "outputs": []
    },
    {
      "cell_type": "code",
      "source": [
        "import matplotlib.pyplot as plt"
      ],
      "metadata": {
        "id": "c7uKNWqWnAYW"
      },
      "execution_count": 22,
      "outputs": []
    },
    {
      "cell_type": "code",
      "source": [
        "import matplotlib.image as mpimg"
      ],
      "metadata": {
        "id": "655ZMxw4nDBg"
      },
      "execution_count": 23,
      "outputs": []
    },
    {
      "cell_type": "code",
      "source": [
        "os.environ['TF_CPP_MIN_LOG_LEVEL'] = '3'"
      ],
      "metadata": {
        "id": "WMSxIxg0nFXd"
      },
      "execution_count": 24,
      "outputs": []
    },
    {
      "cell_type": "code",
      "source": [
        "import tensorflow as tf"
      ],
      "metadata": {
        "id": "zltW-CBbnJ5E"
      },
      "execution_count": 25,
      "outputs": []
    },
    {
      "cell_type": "code",
      "source": [
        "from tensorflow.keras.preprocessing.image import ImageDataGenerator"
      ],
      "metadata": {
        "id": "wHs-9OndnMrh"
      },
      "execution_count": 26,
      "outputs": []
    },
    {
      "cell_type": "code",
      "source": [
        "wget.download(\"https://storage.googleapis.com/tensorflow-1-public/course2/cats_and_dogs_filtered.zip\")"
      ],
      "metadata": {
        "colab": {
          "base_uri": "https://localhost:8080/",
          "height": 37
        },
        "id": "LqyUuWxscSXg",
        "outputId": "d1f3841b-0986-4b75-f5a3-c2d468a194c4"
      },
      "execution_count": 5,
      "outputs": [
        {
          "output_type": "execute_result",
          "data": {
            "text/plain": [
              "'cats_and_dogs_filtered.zip'"
            ],
            "application/vnd.google.colaboratory.intrinsic+json": {
              "type": "string"
            }
          },
          "metadata": {},
          "execution_count": 5
        }
      ]
    },
    {
      "cell_type": "markdown",
      "source": [
        "#Unzip File"
      ],
      "metadata": {
        "id": "k3aK1X_NdgUA"
      }
    },
    {
      "cell_type": "code",
      "source": [
        "zip_ref = zipfile.ZipFile(\"cats_and_dogs_filtered.zip\", 'r')\n",
        "zip_ref.extractall('./')"
      ],
      "metadata": {
        "id": "4JFjyPwucjtL"
      },
      "execution_count": 8,
      "outputs": []
    },
    {
      "cell_type": "markdown",
      "source": [
        "#Get rid of Vectorize.py"
      ],
      "metadata": {
        "id": "lHk7TJ-edVkQ"
      }
    },
    {
      "cell_type": "code",
      "source": [
        "if os.path.exists(\"./cats_and_dogs_filtered/vectorize.py\"):\n",
        "        os.remove(\"./cats_and_dogs_filtered/vectorize.py\")"
      ],
      "metadata": {
        "id": "m8Hfm6QWdToU"
      },
      "execution_count": 9,
      "outputs": []
    },
    {
      "cell_type": "code",
      "source": [
        "# Get the Current Working Directory\n",
        "os.getcwd()"
      ],
      "metadata": {
        "colab": {
          "base_uri": "https://localhost:8080/",
          "height": 37
        },
        "id": "KG3L7c3leaWl",
        "outputId": "8a3fb94d-4b30-4e67-8f7d-9255333ebe04"
      },
      "execution_count": 10,
      "outputs": [
        {
          "output_type": "execute_result",
          "data": {
            "text/plain": [
              "'/content'"
            ],
            "application/vnd.google.colaboratory.intrinsic+json": {
              "type": "string"
            }
          },
          "metadata": {},
          "execution_count": 10
        }
      ]
    },
    {
      "cell_type": "code",
      "source": [
        "#list directory\n",
        "!ls"
      ],
      "metadata": {
        "colab": {
          "base_uri": "https://localhost:8080/"
        },
        "id": "OiQZenDYfPj1",
        "outputId": "790dd214-e8b3-41a7-f880-71ac8b2b541c"
      },
      "execution_count": 13,
      "outputs": [
        {
          "output_type": "stream",
          "name": "stdout",
          "text": [
            "train  validation\n"
          ]
        }
      ]
    },
    {
      "cell_type": "code",
      "source": [
        "os.chdir('/content/')"
      ],
      "metadata": {
        "id": "z2QYQUnZeok6"
      },
      "execution_count": 27,
      "outputs": []
    },
    {
      "cell_type": "code",
      "source": [
        "os.getcwd()"
      ],
      "metadata": {
        "colab": {
          "base_uri": "https://localhost:8080/",
          "height": 37
        },
        "id": "ThJxOklHe0TT",
        "outputId": "a03d85f7-ce13-45f9-f9b1-d4b3aab2a0c2"
      },
      "execution_count": 12,
      "outputs": [
        {
          "output_type": "execute_result",
          "data": {
            "text/plain": [
              "'/content/cats_and_dogs_filtered'"
            ],
            "application/vnd.google.colaboratory.intrinsic+json": {
              "type": "string"
            }
          },
          "metadata": {},
          "execution_count": 12
        }
      ]
    },
    {
      "cell_type": "code",
      "source": [
        "base_dir = 'cats_and_dogs_filtered'"
      ],
      "metadata": {
        "id": "OgsvqlqXfY4P"
      },
      "execution_count": 14,
      "outputs": []
    },
    {
      "cell_type": "code",
      "source": [
        "train_dir = os.path.join(base_dir, \"train\")"
      ],
      "metadata": {
        "id": "HXWuH0MYgo6M"
      },
      "execution_count": 15,
      "outputs": []
    },
    {
      "cell_type": "code",
      "source": [
        "validation_dir = os.path.join(base_dir, \"validation\")"
      ],
      "metadata": {
        "id": "bDvrTFGnguTR"
      },
      "execution_count": 16,
      "outputs": []
    },
    {
      "cell_type": "code",
      "source": [
        "train_cats_dir = os.path.join(train_dir, \"cats\")"
      ],
      "metadata": {
        "id": "suunlz20g_XN"
      },
      "execution_count": 17,
      "outputs": []
    },
    {
      "cell_type": "code",
      "source": [
        "train_dogs_dir = os.path.join(train_dir, \"dogs\")"
      ],
      "metadata": {
        "id": "WRJ1Pcu8hCcE"
      },
      "execution_count": 30,
      "outputs": []
    },
    {
      "cell_type": "code",
      "source": [
        "train_cats_dir"
      ],
      "metadata": {
        "colab": {
          "base_uri": "https://localhost:8080/",
          "height": 37
        },
        "id": "uqKNICD_hGA-",
        "outputId": "f3c8ded6-3209-4639-ec05-4d6ab3a6edfe"
      },
      "execution_count": 19,
      "outputs": [
        {
          "output_type": "execute_result",
          "data": {
            "text/plain": [
              "'cats_and_dogs_filtered/train/cats'"
            ],
            "application/vnd.google.colaboratory.intrinsic+json": {
              "type": "string"
            }
          },
          "metadata": {},
          "execution_count": 19
        }
      ]
    },
    {
      "cell_type": "code",
      "source": [
        "validation_cats_dir = os.path.join(validation_dir, 'cats')"
      ],
      "metadata": {
        "id": "0DInJKeehTE8"
      },
      "execution_count": 20,
      "outputs": []
    },
    {
      "cell_type": "code",
      "source": [
        "validation_dogs_dir = os.path.join(validation_dir, 'dogs')"
      ],
      "metadata": {
        "id": "kCcAXQe3haL6"
      },
      "execution_count": 21,
      "outputs": []
    },
    {
      "cell_type": "markdown",
      "source": [
        "# Check Directories Length"
      ],
      "metadata": {
        "id": "tVb52lsznn1o"
      }
    },
    {
      "cell_type": "code",
      "source": [
        "print(\"total training cats images: \", len(os.listdir(train_cats_dir)))"
      ],
      "metadata": {
        "colab": {
          "base_uri": "https://localhost:8080/"
        },
        "id": "kOGnY63onndJ",
        "outputId": "b6ee904e-50f5-4c9f-e182-d786ee568988"
      },
      "execution_count": 28,
      "outputs": [
        {
          "output_type": "stream",
          "name": "stdout",
          "text": [
            "total training cats images:  1000\n"
          ]
        }
      ]
    },
    {
      "cell_type": "code",
      "source": [
        "print(\"total training dogs images: \", len(os.listdir(train_dogs_dir)))"
      ],
      "metadata": {
        "colab": {
          "base_uri": "https://localhost:8080/"
        },
        "id": "nDtEP0ZfnvkI",
        "outputId": "c87517a2-c4f7-4b7e-d587-a20fb5ae1c5d"
      },
      "execution_count": 31,
      "outputs": [
        {
          "output_type": "stream",
          "name": "stdout",
          "text": [
            "total training dogs images:  1000\n"
          ]
        }
      ]
    },
    {
      "cell_type": "code",
      "source": [
        "print(\"total validation cats images: \", len(os.listdir(validation_cats_dir)))"
      ],
      "metadata": {
        "colab": {
          "base_uri": "https://localhost:8080/"
        },
        "id": "rkdxvgw-nx65",
        "outputId": "0c0aa676-77ff-4cb0-8a45-73f114bf89ec"
      },
      "execution_count": 32,
      "outputs": [
        {
          "output_type": "stream",
          "name": "stdout",
          "text": [
            "total validation cats images:  500\n"
          ]
        }
      ]
    },
    {
      "cell_type": "code",
      "source": [
        "print(\"total validation dogs images: \", len(os.listdir(validation_dogs_dir)))"
      ],
      "metadata": {
        "colab": {
          "base_uri": "https://localhost:8080/"
        },
        "id": "iYdq_Tt9n0YD",
        "outputId": "78a33ef7-828c-48a3-d6fb-1e8dd517ccda"
      },
      "execution_count": 33,
      "outputs": [
        {
          "output_type": "stream",
          "name": "stdout",
          "text": [
            "total validation dogs images:  500\n"
          ]
        }
      ]
    },
    {
      "cell_type": "markdown",
      "source": [
        "# Show Images"
      ],
      "metadata": {
        "id": "s0DPZcf6o1Ic"
      }
    },
    {
      "cell_type": "code",
      "source": [
        "# Parameters for our graph; we'll output images in a 4x4 configuration\n",
        "number_Of_rows = 4\n",
        "number_of_columns = 4"
      ],
      "metadata": {
        "id": "wyt7LJj2o21e"
      },
      "execution_count": 34,
      "outputs": []
    },
    {
      "cell_type": "code",
      "source": [
        "fig = plt.gcf()  # Set up matplotlib fig\n",
        "fig.set_size_inches(ncols * 4, nrows * 4)  # then size it to fit 4x4 pics"
      ],
      "metadata": {
        "colab": {
          "base_uri": "https://localhost:8080/",
          "height": 198
        },
        "id": "-qIzwTInpB7W",
        "outputId": "62694e47-24a4-4f3b-d08a-2ed3ad82d2ab"
      },
      "execution_count": 35,
      "outputs": [
        {
          "output_type": "error",
          "ename": "NameError",
          "evalue": "ignored",
          "traceback": [
            "\u001b[0;31m---------------------------------------------------------------------------\u001b[0m",
            "\u001b[0;31mNameError\u001b[0m                                 Traceback (most recent call last)",
            "\u001b[0;32m<ipython-input-35-f467b7a21e84>\u001b[0m in \u001b[0;36m<module>\u001b[0;34m\u001b[0m\n\u001b[1;32m      1\u001b[0m \u001b[0mfig\u001b[0m \u001b[0;34m=\u001b[0m \u001b[0mplt\u001b[0m\u001b[0;34m.\u001b[0m\u001b[0mgcf\u001b[0m\u001b[0;34m(\u001b[0m\u001b[0;34m)\u001b[0m  \u001b[0;31m# Set up matplotlib fig\u001b[0m\u001b[0;34m\u001b[0m\u001b[0;34m\u001b[0m\u001b[0m\n\u001b[0;32m----> 2\u001b[0;31m \u001b[0mfig\u001b[0m\u001b[0;34m.\u001b[0m\u001b[0mset_size_inches\u001b[0m\u001b[0;34m(\u001b[0m\u001b[0mncols\u001b[0m \u001b[0;34m*\u001b[0m \u001b[0;36m4\u001b[0m\u001b[0;34m,\u001b[0m \u001b[0mnrows\u001b[0m \u001b[0;34m*\u001b[0m \u001b[0;36m4\u001b[0m\u001b[0;34m)\u001b[0m  \u001b[0;31m# then size it to fit 4x4 pics\u001b[0m\u001b[0;34m\u001b[0m\u001b[0;34m\u001b[0m\u001b[0m\n\u001b[0m",
            "\u001b[0;31mNameError\u001b[0m: name 'ncols' is not defined"
          ]
        },
        {
          "output_type": "display_data",
          "data": {
            "text/plain": [
              "<Figure size 432x288 with 0 Axes>"
            ]
          },
          "metadata": {}
        }
      ]
    },
    {
      "cell_type": "code",
      "source": [
        "train_cats_names = os.listdir(train_cats_dir)"
      ],
      "metadata": {
        "id": "SyG4Ewp7pGMA"
      },
      "execution_count": null,
      "outputs": []
    },
    {
      "cell_type": "code",
      "source": [
        "train_dogs_names = os.listdir(train_dogs_dir)"
      ],
      "metadata": {
        "id": "IXYNjR3Qpggz"
      },
      "execution_count": null,
      "outputs": []
    },
    {
      "cell_type": "code",
      "source": [
        "train_cats_names"
      ],
      "metadata": {
        "id": "V-BJbhpmpgbx"
      },
      "execution_count": null,
      "outputs": []
    },
    {
      "cell_type": "code",
      "source": [
        "picture_index = 0"
      ],
      "metadata": {
        "id": "-__al8AcpgWk"
      },
      "execution_count": null,
      "outputs": []
    },
    {
      "cell_type": "code",
      "source": [
        "picture_index += 8"
      ],
      "metadata": {
        "id": "I0O8CU-DpgQm"
      },
      "execution_count": null,
      "outputs": []
    },
    {
      "cell_type": "code",
      "source": [
        "next_cat_pix = [os.path.join(train_cats_dir, fname)  # create a list with 8 horses pictures\n",
        "                  for fname in train_cats_names[picture_index-8:picture_index]]"
      ],
      "metadata": {
        "id": "UFjLdrqgpgH3"
      },
      "execution_count": null,
      "outputs": []
    },
    {
      "cell_type": "code",
      "source": [
        "next_dog_pix = [os.path.join(train_dogs_dir, fname)  # create a list with 8 human pictures\n",
        "                  for fname in train_dogs_names[picture_index-8:picture_index]]"
      ],
      "metadata": {
        "id": "PCuYbc1opf9M"
      },
      "execution_count": null,
      "outputs": []
    },
    {
      "cell_type": "code",
      "source": [
        "for i, img_path in enumerate(next_cat_pix+next_dog_pix):\n",
        "    sp = plt.subplot(nrows, ncols, i + 1)  # Set up subplot; subplot indices start at 1\n",
        "    sp.axis('Off')  # Don't show axes (or gridlines)\n",
        "\n",
        "    img = mpimg.imread(img_path)\n",
        "    plt.imshow(img)\n",
        "\n",
        "plt.show()"
      ],
      "metadata": {
        "id": "3gAr_WpBpfvz"
      },
      "execution_count": null,
      "outputs": []
    },
    {
      "cell_type": "markdown",
      "source": [
        "# Create Deep Neural Network Model"
      ],
      "metadata": {
        "id": "D9_QkFMLqR6a"
      }
    },
    {
      "cell_type": "code",
      "source": [
        "seqmodel = tf.keras.models.Sequential([ tf.keras.layers.Conv2D(32,(3, 3), activation='relu', input_shape=(150,150,3) ),\n",
        "                                       tf.keras.layers.MaxPooling2D(2,2),\n",
        "                                       tf.keras.layers.Conv2D(64,(3, 3), activation='relu' ),\n",
        "                                       tf.keras.layers.MaxPooling2D(2,2),\n",
        "                                       tf.keras.layers.Flatten(),\n",
        "                                       tf.keras.layers.Dense(512, activation='relu'),\n",
        "                                       tf.keras.layers.Dense(1, activation='sigmoid')\n",
        "    \n",
        "      \n",
        "                              ])"
      ],
      "metadata": {
        "id": "f7kDbInuqUQo"
      },
      "execution_count": 36,
      "outputs": []
    },
    {
      "cell_type": "code",
      "source": [
        "seqmodel.summary()"
      ],
      "metadata": {
        "colab": {
          "base_uri": "https://localhost:8080/"
        },
        "id": "K7goAnrxqbxw",
        "outputId": "9ca193bc-7798-4bef-eb69-74f471ed9262"
      },
      "execution_count": 37,
      "outputs": [
        {
          "output_type": "stream",
          "name": "stdout",
          "text": [
            "Model: \"sequential\"\n",
            "_________________________________________________________________\n",
            " Layer (type)                Output Shape              Param #   \n",
            "=================================================================\n",
            " conv2d (Conv2D)             (None, 148, 148, 32)      896       \n",
            "                                                                 \n",
            " max_pooling2d (MaxPooling2D  (None, 74, 74, 32)       0         \n",
            " )                                                               \n",
            "                                                                 \n",
            " conv2d_1 (Conv2D)           (None, 72, 72, 64)        18496     \n",
            "                                                                 \n",
            " max_pooling2d_1 (MaxPooling  (None, 36, 36, 64)       0         \n",
            " 2D)                                                             \n",
            "                                                                 \n",
            " flatten (Flatten)           (None, 82944)             0         \n",
            "                                                                 \n",
            " dense (Dense)               (None, 512)               42467840  \n",
            "                                                                 \n",
            " dense_1 (Dense)             (None, 1)                 513       \n",
            "                                                                 \n",
            "=================================================================\n",
            "Total params: 42,487,745\n",
            "Trainable params: 42,487,745\n",
            "Non-trainable params: 0\n",
            "_________________________________________________________________\n"
          ]
        }
      ]
    },
    {
      "cell_type": "code",
      "source": [
        "seqmodel.compile(loss=\"binary_crossentropy\",\n",
        "                 optimizer=tf.keras.optimizers.RMSprop(learning_rate=1e-4),\n",
        "                 metrics=['accuracy'])"
      ],
      "metadata": {
        "id": "hXa0of1Tqhp8"
      },
      "execution_count": 38,
      "outputs": []
    },
    {
      "cell_type": "markdown",
      "source": [
        "# ImageDataGenerator\n"
      ],
      "metadata": {
        "id": "XvcAtHkhqqx7"
      }
    },
    {
      "cell_type": "code",
      "source": [
        "train_data_gen = ImageDataGenerator(rescale=1. / 255,\n",
        "                                    rotation_range=40,\n",
        "                                    width_shift_range=0.2,\n",
        "                                    height_shift_range=0.2,\n",
        "                                    shear_range=0.2,\n",
        "                                    zoom_range=0.2,\n",
        "                                    horizontal_flip=True,\n",
        "                                    fill_mode='nearest')"
      ],
      "metadata": {
        "id": "JnmWqEqUqs1l"
      },
      "execution_count": 39,
      "outputs": []
    },
    {
      "cell_type": "code",
      "source": [
        "validation_datagen = ImageDataGenerator(rescale=1./255.)"
      ],
      "metadata": {
        "id": "op-QGq9txmLq"
      },
      "execution_count": 40,
      "outputs": []
    },
    {
      "cell_type": "code",
      "source": [
        "train_grenerator = train_data_gen.flow_from_directory('./cats_and_dogs_filtered/train/',\n",
        "target_size=(150,150),\n",
        "batch_size=20,\n",
        "class_mode='binary')"
      ],
      "metadata": {
        "colab": {
          "base_uri": "https://localhost:8080/"
        },
        "id": "XQwJbDN_xpsE",
        "outputId": "73ed7cd0-375b-47c7-f5bc-e266f3e25e85"
      },
      "execution_count": 41,
      "outputs": [
        {
          "output_type": "stream",
          "name": "stdout",
          "text": [
            "Found 2000 images belonging to 2 classes.\n"
          ]
        }
      ]
    },
    {
      "cell_type": "code",
      "source": [
        "validation_generator = validation_datagen.flow_from_directory('./cats_and_dogs_filtered/validation/',\n",
        "                                                              target_size=(150,150),\n",
        "batch_size=20,\n",
        "class_mode='binary')"
      ],
      "metadata": {
        "colab": {
          "base_uri": "https://localhost:8080/"
        },
        "id": "JM8lr3AqxtlO",
        "outputId": "643df989-1ff3-4573-a20f-d65662fcaa4d"
      },
      "execution_count": 42,
      "outputs": [
        {
          "output_type": "stream",
          "name": "stdout",
          "text": [
            "Found 1000 images belonging to 2 classes.\n"
          ]
        }
      ]
    },
    {
      "cell_type": "code",
      "source": [
        "history= seqmodel.fit(train_grenerator, \n",
        "             steps_per_epoch=100,\n",
        "             epochs=20,\n",
        "             verbose=1,\n",
        "             validation_data=validation_generator,\n",
        "             validation_steps=8)"
      ],
      "metadata": {
        "colab": {
          "base_uri": "https://localhost:8080/"
        },
        "id": "gofegq1xxyxC",
        "outputId": "fdfc3341-e006-4a6c-8a5b-de7163ff51b1"
      },
      "execution_count": null,
      "outputs": [
        {
          "output_type": "stream",
          "name": "stdout",
          "text": [
            "Epoch 1/20\n",
            " 43/100 [===========>..................] - ETA: 1:01 - loss: 0.5660 - accuracy: 0.7012"
          ]
        }
      ]
    }
  ]
}