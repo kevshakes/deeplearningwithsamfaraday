{
  "cells": [
    {
      "cell_type": "markdown",
      "metadata": {
        "id": "rYMtREVH7qFo"
      },
      "source": [
        "### Deep Learning with Sam Faraday - from Zero to Hero - Lesson 1\n",
        "\n",
        "# Downloading Images and Working with the Operating System\n"
      ]
    },
    {
      "cell_type": "markdown",
      "metadata": {
        "id": "p-84YKJVLlI7"
      },
      "source": [
        "# Note\n",
        "\n",
        "In case you'd like to run the whole notebook from start, first go to Runtime --> Disconnect and Delete Runtime\n",
        "\n",
        "All folders and files will be deleted, then run each cell again\n",
        "\n",
        "Select the Files icon to left to see the Directories\n",
        "\n",
        "Use the Refresh Button whenever you create or delete any object\n",
        "\n",
        "**Linux** does not allow to delete a directory that contains any object, that's why it is easier to disconnect and  Delete Runtime."
      ]
    },
    {
      "cell_type": "markdown",
      "metadata": {
        "id": "GxKDI_pOE5zP"
      },
      "source": [
        "# 1. Create Working Folders\n",
        "\n",
        "! is used to run Linux Commands in Google Colab\n",
        "\n",
        "mkdir - makes/ creates a directory"
      ]
    },
    {
      "cell_type": "code",
      "execution_count": 1,
      "metadata": {
        "id": "3R9iFfGMDKSQ"
      },
      "outputs": [],
      "source": [
        "!mkdir TF_images_lab"
      ]
    },
    {
      "cell_type": "code",
      "execution_count": 2,
      "metadata": {
        "id": "mQoQYE5uDXMh"
      },
      "outputs": [],
      "source": [
        "!mkdir TF_images_lab/c2"
      ]
    },
    {
      "cell_type": "code",
      "execution_count": 3,
      "metadata": {
        "id": "9aRKQ9AVET6h"
      },
      "outputs": [],
      "source": [
        "!mkdir TF_images_lab/c2/images"
      ]
    },
    {
      "cell_type": "markdown",
      "metadata": {
        "id": "35QUCbYXFlCw"
      },
      "source": [
        "# 2. Install and Import Working Libraries"
      ]
    },
    {
      "cell_type": "code",
      "execution_count": 4,
      "metadata": {
        "id": "zjMF1ruw7jPl"
      },
      "outputs": [],
      "source": [
        "# os - Operating System - It allows you to run os commands\n",
        "# it is usually install with Python default installation\n",
        "import os"
      ]
    },
    {
      "cell_type": "code",
      "execution_count": 5,
      "metadata": {
        "id": "uGx6FrgxGFP-"
      },
      "outputs": [],
      "source": [
        "# pip is a command to install Python Libraries"
      ]
    },
    {
      "cell_type": "code",
      "execution_count": 6,
      "metadata": {
        "id": "O1hY7ZyOI88W"
      },
      "outputs": [],
      "source": [
        "# wget - it downloads files from the web"
      ]
    },
    {
      "cell_type": "code",
      "execution_count": 7,
      "metadata": {
        "colab": {
          "base_uri": "https://localhost:8080/"
        },
        "id": "dpRzx_mMGY9l",
        "outputId": "6ff0e840-a4f8-4f4b-aa32-ce814c5871c3"
      },
      "outputs": [
        {
          "name": "stdout",
          "output_type": "stream",
          "text": [
            "Looking in indexes: https://pypi.org/simple, https://us-python.pkg.dev/colab-wheels/public/simple/\n",
            "Collecting wget\n",
            "  Downloading wget-3.2.zip (10 kB)\n",
            "Building wheels for collected packages: wget\n",
            "  Building wheel for wget (setup.py) ... \u001b[?25l\u001b[?25hdone\n",
            "  Created wheel for wget: filename=wget-3.2-py3-none-any.whl size=9675 sha256=85df17b81d1fce72160258c8d74cd154b8443e4da3452a58d835837e638907c4\n",
            "  Stored in directory: /root/.cache/pip/wheels/a1/b6/7c/0e63e34eb06634181c63adacca38b79ff8f35c37e3c13e3c02\n",
            "Successfully built wget\n",
            "Installing collected packages: wget\n",
            "Successfully installed wget-3.2\n"
          ]
        }
      ],
      "source": [
        "pip install wget"
      ]
    },
    {
      "cell_type": "code",
      "execution_count": 8,
      "metadata": {
        "id": "E-eqfpbXF1OO"
      },
      "outputs": [],
      "source": [
        "import wget"
      ]
    },
    {
      "cell_type": "code",
      "execution_count": 9,
      "metadata": {
        "id": "K1hkJOUqH_zU"
      },
      "outputs": [],
      "source": [
        "# zipfile - Lib to zip and unzip files\n",
        "from zipfile import ZipFile"
      ]
    },
    {
      "cell_type": "markdown",
      "metadata": {
        "id": "hv50HPUdGyMW"
      },
      "source": [
        "# 3. Change Working Directory"
      ]
    },
    {
      "cell_type": "code",
      "execution_count": 10,
      "metadata": {
        "colab": {
          "base_uri": "https://localhost:8080/",
          "height": 35
        },
        "id": "kxy903_DFS6z",
        "outputId": "e415d837-6afa-49e0-8708-cb25b90d1a58"
      },
      "outputs": [
        {
          "data": {
            "application/vnd.google.colaboratory.intrinsic+json": {
              "type": "string"
            },
            "text/plain": [
              "'/content'"
            ]
          },
          "execution_count": 10,
          "metadata": {},
          "output_type": "execute_result"
        }
      ],
      "source": [
        "# Get the Current Working Directory\n",
        "os.getcwd()"
      ]
    },
    {
      "cell_type": "code",
      "execution_count": 11,
      "metadata": {
        "id": "9vfB5L6BFWBE"
      },
      "outputs": [],
      "source": [
        "# Change Directory \n",
        "os.chdir(\"/content/TF_images_lab/c2\")"
      ]
    },
    {
      "cell_type": "code",
      "execution_count": 12,
      "metadata": {
        "colab": {
          "base_uri": "https://localhost:8080/",
          "height": 35
        },
        "id": "Zx2QVBHbHPAj",
        "outputId": "1d653d60-a071-4a6f-8ad4-b368448146d3"
      },
      "outputs": [
        {
          "data": {
            "application/vnd.google.colaboratory.intrinsic+json": {
              "type": "string"
            },
            "text/plain": [
              "'/content/TF_images_lab/c2'"
            ]
          },
          "execution_count": 12,
          "metadata": {},
          "output_type": "execute_result"
        }
      ],
      "source": [
        "# Get the Current Working Directory\n",
        "os.getcwd()"
      ]
    },
    {
      "cell_type": "markdown",
      "metadata": {
        "id": "UU3Kfi3OHl4W"
      },
      "source": [
        "# 4. Create a function to download and unzip the images files"
      ]
    },
    {
      "cell_type": "code",
      "execution_count": 13,
      "metadata": {
        "id": "a7SsTlJbHmU0"
      },
      "outputs": [],
      "source": [
        "# wget.download(\"file url\", out=\"folder and file name\")\n",
        "def download_and_unzip_files():\n",
        "    print(\"Downloading Images\")\n",
        "    wget.download(\"https://download.microsoft.com/download/3/E/1/3E1C3F21-ECDB-4869-8368-6DEBA77B919F/kagglecatsanddogs_5340.zip\",\n",
        "                  out=\"./images/cats-and-dogs.zip\")\n",
        "\n",
        "    \n",
        "    print(\"Unzipping files\")\n",
        "    with ZipFile('./images/cats-and-dogs.zip', 'r') as zipObject:\n",
        "        listOfFileNames = zipObject.namelist() # creates a list (listOfFileNames) and and the files names  retrived with zipObject.namelist()\n",
        "        for fileName in listOfFileNames:  # then iterate over the list to get the file names\n",
        "            if fileName.startswith(\"PetImages\"): # check it is PetImages as there are other files we do not need to unzip\n",
        "                zipObject.extract(fileName, \"./images\") # if so, download it to the folder images\n",
        "\n"
      ]
    },
    {
      "cell_type": "code",
      "execution_count": 14,
      "metadata": {
        "colab": {
          "base_uri": "https://localhost:8080/"
        },
        "id": "7YNv3NSWHsms",
        "outputId": "307132c2-bf0c-48f9-e39f-dc28d482dd9b"
      },
      "outputs": [
        {
          "name": "stdout",
          "output_type": "stream",
          "text": [
            "Downloading Images\n",
            "Unzipping files\n"
          ]
        }
      ],
      "source": [
        "# run the function created above, then check the folders to the left. Click the Refresh Button\n",
        "download_and_unzip_files() "
      ]
    },
    {
      "cell_type": "markdown",
      "metadata": {
        "id": "02KMG-H9RGAV"
      },
      "source": [
        "# 5. Listing Directories Contents\n",
        "\n",
        "os.listdir - creates a list of the files in the directory"
      ]
    },
    {
      "cell_type": "code",
      "execution_count": 15,
      "metadata": {
        "id": "J5w2-eWcRGI0"
      },
      "outputs": [],
      "source": [
        "# create a list containing of the objects in a specific directory\n",
        "my_directory_list_var = os.listdir(\"/content/TF_images_lab/c2/images\")"
      ]
    },
    {
      "cell_type": "code",
      "execution_count": 16,
      "metadata": {
        "colab": {
          "base_uri": "https://localhost:8080/"
        },
        "id": "kR1JyTozSaKj",
        "outputId": "a0f974f1-99ad-41fb-dfd9-3eac379966f8"
      },
      "outputs": [
        {
          "name": "stdout",
          "output_type": "stream",
          "text": [
            "['PetImages', 'cats-and-dogs.zip']\n"
          ]
        }
      ],
      "source": [
        "# print the list\n",
        "print(my_directory_list_var)"
      ]
    },
    {
      "cell_type": "code",
      "execution_count": 17,
      "metadata": {
        "colab": {
          "base_uri": "https://localhost:8080/"
        },
        "id": "Z3irzszqTG_0",
        "outputId": "202e0eb4-a0ea-4f75-8a4f-448cf947b679"
      },
      "outputs": [
        {
          "name": "stdout",
          "output_type": "stream",
          "text": [
            "PetImages\n",
            "cats-and-dogs.zip\n"
          ]
        }
      ],
      "source": [
        "# iterate through the list, printing each object name\n",
        "for x in my_directory_list_var:\n",
        "  print(x)"
      ]
    },
    {
      "cell_type": "markdown",
      "metadata": {
        "id": "9nkHO1OSUR2y"
      },
      "source": [
        "# Homework"
      ]
    },
    {
      "cell_type": "code",
      "execution_count": 18,
      "metadata": {
        "id": "erJG0ac-Tr6y"
      },
      "outputs": [],
      "source": [
        "# now it is your turn. Please print the first 10 objects in the /content/TF_images_lab/c2/images/PetImages/Cat directory\n",
        "\n",
        "# create a counter, then increment it\n",
        "\n",
        "# then check if it is bigger than 10, if so, break the loop"
      ]
    },
    {
      "cell_type": "code",
      "execution_count": 35,
      "metadata": {
        "colab": {
          "base_uri": "https://localhost:8080/"
        },
        "id": "NhZl0cVUUVjK",
        "outputId": "9f486c76-79d4-48a7-9f76-dcd9eb2a6e8e"
      },
      "outputs": [
        {
          "name": "stdout",
          "output_type": "stream",
          "text": [
            "3937.jpg\n",
            "11852.jpg\n",
            "9902.jpg\n",
            "11670.jpg\n",
            "12091.jpg\n",
            "1826.jpg\n",
            "11968.jpg\n",
            "3785.jpg\n",
            "2766.jpg\n",
            "4061.jpg\n"
          ]
        }
      ],
      "source": [
        "# create a counter, then increment it\n",
        "\n",
        "# list create the list\n",
        "my_directory_list_var = os.listdir(\"/content/TF_images_lab/c2/images/PetImages/Cat\")\n",
        "i=1\n",
        "# iterate\n",
        "for x in my_directory_list_var:\n",
        "  i= i+1      # increment the counter\n",
        "  print(x)\n",
        "  if i>10:    # check if it is bigger than 10\n",
        "    break     # if so, break the loop  \n",
        "\n",
        " \n"
      ]
    }
  ],
  "metadata": {
    "colab": {
      "collapsed_sections": [],
      "name": "Kevin_Tuei DL_with_Sam_Lesson_1.ipynb",
      "provenance": []
    },
    "kernelspec": {
      "display_name": "Python 3",
      "name": "python3"
    },
    "language_info": {
      "name": "python"
    }
  },
  "nbformat": 4,
  "nbformat_minor": 0
}
