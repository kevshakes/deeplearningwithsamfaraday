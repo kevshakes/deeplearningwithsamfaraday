{
  "nbformat": 4,
  "nbformat_minor": 0,
  "metadata": {
    "colab": {
      "name": "DL_with_Sam_Lesson_1.ipynb",
      "provenance": [],
      "collapsed_sections": [],
      "authorship_tag": "ABX9TyP43X2NeCqyuG7urVN/JIP8",
      "include_colab_link": true
    },
    "kernelspec": {
      "name": "python3",
      "display_name": "Python 3"
    },
    "language_info": {
      "name": "python"
    }
  },
  "cells": [
    {
      "cell_type": "markdown",
      "metadata": {
        "id": "view-in-github",
        "colab_type": "text"
      },
      "source": [
        "<a href=\"https://colab.research.google.com/github/saurater/deeplearningwithsamfaraday/blob/main/DL_with_Sam_Lesson_1.ipynb\" target=\"_parent\"><img src=\"https://colab.research.google.com/assets/colab-badge.svg\" alt=\"Open In Colab\"/></a>"
      ]
    },
    {
      "cell_type": "markdown",
      "source": [
        "### Deep Learning with Sam Faraday - from Zero to Hero - Lesson 1\n",
        "\n",
        "# Downloading Images and Working with the Operating System\n"
      ],
      "metadata": {
        "id": "rYMtREVH7qFo"
      }
    },
    {
      "cell_type": "markdown",
      "source": [
        "# Note\n",
        "\n",
        "In case you'd like to run the whole notebook from start, first go to Runtime --> Disconnect and Delete Runtime\n",
        "\n",
        "All folders and files will be deleted, then run each cell again\n",
        "\n",
        "Select the Files icon to left to see the Directories\n",
        "\n",
        "Use the Refresh Button whenever you create or delete any object\n",
        "\n",
        "**Linux** does not allow to delete a directory that contains any object, that's why it is easier to disconnect and  Delete Runtime."
      ],
      "metadata": {
        "id": "p-84YKJVLlI7"
      }
    },
    {
      "cell_type": "markdown",
      "source": [
        "# 1. Create Working Folders\n",
        "\n",
        "! is used to run Linux Commands in Google Colab\n",
        "\n",
        "mkdir - makes/ creates a directory"
      ],
      "metadata": {
        "id": "GxKDI_pOE5zP"
      }
    },
    {
      "cell_type": "code",
      "source": [
        "!mkdir TF_images_lab"
      ],
      "metadata": {
        "id": "3R9iFfGMDKSQ"
      },
      "execution_count": 1,
      "outputs": []
    },
    {
      "cell_type": "code",
      "source": [
        "!mkdir TF_images_lab/c2"
      ],
      "metadata": {
        "id": "mQoQYE5uDXMh"
      },
      "execution_count": 2,
      "outputs": []
    },
    {
      "cell_type": "code",
      "source": [
        "!mkdir TF_images_lab/c2/images"
      ],
      "metadata": {
        "id": "9aRKQ9AVET6h"
      },
      "execution_count": 3,
      "outputs": []
    },
    {
      "cell_type": "markdown",
      "source": [
        "# 2. Install and Import Working Libraries"
      ],
      "metadata": {
        "id": "35QUCbYXFlCw"
      }
    },
    {
      "cell_type": "code",
      "execution_count": 4,
      "metadata": {
        "id": "zjMF1ruw7jPl"
      },
      "outputs": [],
      "source": [
        "# os - Operating System - It allows you to run os commands\n",
        "# it is usually install with Python default installation\n",
        "import os"
      ]
    },
    {
      "cell_type": "code",
      "source": [
        "# pip is a command to install Python Libraries"
      ],
      "metadata": {
        "id": "uGx6FrgxGFP-"
      },
      "execution_count": 5,
      "outputs": []
    },
    {
      "cell_type": "code",
      "source": [
        "# wget - it downloads files from the web"
      ],
      "metadata": {
        "id": "O1hY7ZyOI88W"
      },
      "execution_count": 6,
      "outputs": []
    },
    {
      "cell_type": "code",
      "source": [
        "pip install wget"
      ],
      "metadata": {
        "colab": {
          "base_uri": "https://localhost:8080/"
        },
        "id": "dpRzx_mMGY9l",
        "outputId": "f699b646-8bdd-4f53-ab64-1e4160207bd2"
      },
      "execution_count": 5,
      "outputs": [
        {
          "output_type": "stream",
          "name": "stdout",
          "text": [
            "Looking in indexes: https://pypi.org/simple, https://us-python.pkg.dev/colab-wheels/public/simple/\n",
            "Collecting wget\n",
            "  Downloading wget-3.2.zip (10 kB)\n",
            "Building wheels for collected packages: wget\n",
            "  Building wheel for wget (setup.py) ... \u001b[?25l\u001b[?25hdone\n",
            "  Created wheel for wget: filename=wget-3.2-py3-none-any.whl size=9675 sha256=5dccfeb2cfdf623a5073e664212dbc598bae5e94c25b2d1f50658e3e6010c920\n",
            "  Stored in directory: /root/.cache/pip/wheels/a1/b6/7c/0e63e34eb06634181c63adacca38b79ff8f35c37e3c13e3c02\n",
            "Successfully built wget\n",
            "Installing collected packages: wget\n",
            "Successfully installed wget-3.2\n"
          ]
        }
      ]
    },
    {
      "cell_type": "code",
      "source": [
        "import wget"
      ],
      "metadata": {
        "id": "E-eqfpbXF1OO"
      },
      "execution_count": 6,
      "outputs": []
    },
    {
      "cell_type": "code",
      "source": [
        "# zipfile - Lib to zip and unzip files\n",
        "from zipfile import ZipFile"
      ],
      "metadata": {
        "id": "K1hkJOUqH_zU"
      },
      "execution_count": 12,
      "outputs": []
    },
    {
      "cell_type": "markdown",
      "source": [
        "# 3. Change Working Directory"
      ],
      "metadata": {
        "id": "hv50HPUdGyMW"
      }
    },
    {
      "cell_type": "code",
      "source": [
        "# Get the Current Working Directory\n",
        "os.getcwd()"
      ],
      "metadata": {
        "colab": {
          "base_uri": "https://localhost:8080/",
          "height": 36
        },
        "id": "kxy903_DFS6z",
        "outputId": "ee0f20f7-428a-4e95-807d-29970af8832b"
      },
      "execution_count": 7,
      "outputs": [
        {
          "output_type": "execute_result",
          "data": {
            "text/plain": [
              "'/content'"
            ],
            "application/vnd.google.colaboratory.intrinsic+json": {
              "type": "string"
            }
          },
          "metadata": {},
          "execution_count": 7
        }
      ]
    },
    {
      "cell_type": "code",
      "source": [
        "# Change Directory \n",
        "os.chdir(\"/content/TF_images_lab/c2\")"
      ],
      "metadata": {
        "id": "9vfB5L6BFWBE"
      },
      "execution_count": 23,
      "outputs": []
    },
    {
      "cell_type": "code",
      "source": [
        "# Get the Current Working Directory\n",
        "os.getcwd()"
      ],
      "metadata": {
        "colab": {
          "base_uri": "https://localhost:8080/",
          "height": 36
        },
        "id": "Zx2QVBHbHPAj",
        "outputId": "3c57838b-4050-4d17-81b8-3cdec9b72ebe"
      },
      "execution_count": 24,
      "outputs": [
        {
          "output_type": "execute_result",
          "data": {
            "text/plain": [
              "'/content/TF_images_lab/c2'"
            ],
            "application/vnd.google.colaboratory.intrinsic+json": {
              "type": "string"
            }
          },
          "metadata": {},
          "execution_count": 24
        }
      ]
    },
    {
      "cell_type": "markdown",
      "source": [
        "# 4. Create a function to download and unzip the images files"
      ],
      "metadata": {
        "id": "UU3Kfi3OHl4W"
      }
    },
    {
      "cell_type": "code",
      "source": [
        "# wget.download(\"file url\", out=\"folder and file name\")\n",
        "def download_and_unzip_files():\n",
        "    print(\"Downloading Images\")\n",
        "    wget.download(\"https://download.microsoft.com/download/3/E/1/3E1C3F21-ECDB-4869-8368-6DEBA77B919F/kagglecatsanddogs_5340.zip\",\n",
        "                  out=\"./images/cats-and-dogs.zip\")\n",
        "\n",
        "    \n",
        "    print(\"Unzipping files\")\n",
        "    with ZipFile('./images/cats-and-dogs.zip', 'r') as zipObject:\n",
        "        listOfFileNames = zipObject.namelist() # creates a list (listOfFileNames) and and the files names  retrived with zipObject.namelist()\n",
        "        for fileName in listOfFileNames:  # then iterate over the list to get the file names\n",
        "            if fileName.startswith(\"PetImages\"): # check it is PetImages as there are other files we do not need to unzip\n",
        "                zipObject.extract(fileName, \"./images\") # if so, download it to the folder images\n",
        "\n"
      ],
      "metadata": {
        "id": "a7SsTlJbHmU0"
      },
      "execution_count": 25,
      "outputs": []
    },
    {
      "cell_type": "code",
      "source": [
        "# run the function created above, then check the folders to the left. Click the Refresh Button\n",
        "download_and_unzip_files() "
      ],
      "metadata": {
        "colab": {
          "base_uri": "https://localhost:8080/"
        },
        "id": "7YNv3NSWHsms",
        "outputId": "bc87c127-10c6-4561-a96d-b09cd3dd6d5f"
      },
      "execution_count": 26,
      "outputs": [
        {
          "output_type": "stream",
          "name": "stdout",
          "text": [
            "Downloading Images\n",
            "Unzipping files\n"
          ]
        }
      ]
    },
    {
      "cell_type": "markdown",
      "source": [
        "# 5. Listing Directories Contents\n",
        "\n",
        "os.listdir - creates a list of the files in the directory"
      ],
      "metadata": {
        "id": "02KMG-H9RGAV"
      }
    },
    {
      "cell_type": "code",
      "source": [
        "# create a list containing of the objects in a specific directory\n",
        "my_directory_list_var = os.listdir(\"/content/TF_images_lab/c2/images\")"
      ],
      "metadata": {
        "id": "J5w2-eWcRGI0"
      },
      "execution_count": 31,
      "outputs": []
    },
    {
      "cell_type": "code",
      "source": [
        "# print the list\n",
        "print(my_directory_list_var)"
      ],
      "metadata": {
        "colab": {
          "base_uri": "https://localhost:8080/"
        },
        "id": "kR1JyTozSaKj",
        "outputId": "3fbeb566-6781-42d4-e19d-306c59076f56"
      },
      "execution_count": 33,
      "outputs": [
        {
          "output_type": "stream",
          "name": "stdout",
          "text": [
            "['PetImages', 'cats-and-dogs.zip', '.ipynb_checkpoints']\n"
          ]
        }
      ]
    },
    {
      "cell_type": "code",
      "source": [
        "# iterate through the list, printing each object name\n",
        "for x in my_directory_list_var:\n",
        "  print(x)"
      ],
      "metadata": {
        "colab": {
          "base_uri": "https://localhost:8080/"
        },
        "id": "Z3irzszqTG_0",
        "outputId": "61db6113-8ff1-4011-84b5-01cf4073c5fa"
      },
      "execution_count": 36,
      "outputs": [
        {
          "output_type": "stream",
          "name": "stdout",
          "text": [
            "PetImages\n",
            "cats-and-dogs.zip\n",
            ".ipynb_checkpoints\n"
          ]
        }
      ]
    },
    {
      "cell_type": "markdown",
      "source": [
        "# Homework"
      ],
      "metadata": {
        "id": "9nkHO1OSUR2y"
      }
    },
    {
      "cell_type": "code",
      "source": [
        "# now it is your turn. Please print the first 10 objects in the /content/TF_images_lab/c2/images/PetImages/Cat directory\n",
        "\n",
        "# create a counter, then increment it\n",
        "\n",
        "# then check if it is bigger than 10, if so, break the loop"
      ],
      "metadata": {
        "id": "erJG0ac-Tr6y"
      },
      "execution_count": null,
      "outputs": []
    },
    {
      "cell_type": "code",
      "source": [
        "# create a counter, then increment it\n",
        "\n",
        "# list create the list\n",
        "my_directory_list_var = os.listdir(\"path\")\n",
        "\n",
        "# iterate\n",
        "for x in my_directory_list_var:\n",
        "  # increment the counter\n",
        "\n",
        "  # check if it is bigger than 10\n",
        "\n",
        "  # if so, break the loop\n",
        "  print(x)"
      ],
      "metadata": {
        "id": "NhZl0cVUUVjK"
      },
      "execution_count": null,
      "outputs": []
    }
  ]
}