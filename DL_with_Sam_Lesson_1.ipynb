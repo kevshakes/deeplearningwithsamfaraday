{
  "nbformat": 4,
  "nbformat_minor": 0,
  "metadata": {
    "colab": {
      "name": "DL_with_Sam_Lesson_1.ipynb",
      "provenance": [],
      "collapsed_sections": [],
      "authorship_tag": "ABX9TyMhaEikgme3zAYqY//XGg6K",
      "include_colab_link": true
    },
    "kernelspec": {
      "name": "python3",
      "display_name": "Python 3"
    },
    "language_info": {
      "name": "python"
    }
  },
  "cells": [
    {
      "cell_type": "markdown",
      "metadata": {
        "id": "view-in-github",
        "colab_type": "text"
      },
      "source": [
        "<a href=\"https://colab.research.google.com/github/saurater/deeplearningwithsamfaraday/blob/main/DL_with_Sam_Lesson_1.ipynb\" target=\"_parent\"><img src=\"https://colab.research.google.com/assets/colab-badge.svg\" alt=\"Open In Colab\"/></a>"
      ]
    },
    {
      "cell_type": "markdown",
      "source": [
        "### Deep Learning with Sam Faraday - from Zero to Hero - Lesson 1\n",
        "\n",
        "# Downloading Images and Working with the Operating System\n"
      ],
      "metadata": {
        "id": "rYMtREVH7qFo"
      }
    },
    {
      "cell_type": "markdown",
      "source": [
        "# Note\n",
        "\n",
        "In case you'd like to run the whole notebook from start, first go to Runtime --> Disconnect and Delete Runtime\n",
        "\n",
        "All folders and files will be deleted, then run each cell again\n",
        "\n",
        "Select the Files icon to left to see the Directories\n",
        "\n",
        "Use the Refresh Button whenever you create or delete any object\n",
        "\n",
        "**Linux** does not allow to delete a directory that contains any object, that's why it is easier to disconnect and  Delete Runtime."
      ],
      "metadata": {
        "id": "p-84YKJVLlI7"
      }
    },
    {
      "cell_type": "markdown",
      "source": [
        "# 1. Create Working Folders\n",
        "\n",
        "! is used to run Linux Commands in Google Colab\n",
        "\n",
        "mkdir - makes/ creates a directory"
      ],
      "metadata": {
        "id": "GxKDI_pOE5zP"
      }
    },
    {
      "cell_type": "code",
      "source": [
        "!mkdir TF_images_lab"
      ],
      "metadata": {
        "id": "3R9iFfGMDKSQ"
      },
      "execution_count": 1,
      "outputs": []
    },
    {
      "cell_type": "code",
      "source": [
        "!mkdir TF_images_lab/c2"
      ],
      "metadata": {
        "id": "mQoQYE5uDXMh"
      },
      "execution_count": 2,
      "outputs": []
    },
    {
      "cell_type": "code",
      "source": [
        "!mkdir TF_images_lab/c2/images"
      ],
      "metadata": {
        "id": "9aRKQ9AVET6h"
      },
      "execution_count": 3,
      "outputs": []
    },
    {
      "cell_type": "markdown",
      "source": [
        "# 2. Install and Import Working Libraries"
      ],
      "metadata": {
        "id": "35QUCbYXFlCw"
      }
    },
    {
      "cell_type": "code",
      "execution_count": 4,
      "metadata": {
        "id": "zjMF1ruw7jPl"
      },
      "outputs": [],
      "source": [
        "# os - Operating System - It allows you to run os commands\n",
        "# it is usually install with Python default installation\n",
        "import os"
      ]
    },
    {
      "cell_type": "code",
      "source": [
        "# pip is a command to install Python Libraries"
      ],
      "metadata": {
        "id": "uGx6FrgxGFP-"
      },
      "execution_count": 5,
      "outputs": []
    },
    {
      "cell_type": "code",
      "source": [
        "# wget - it downloads files from the web"
      ],
      "metadata": {
        "id": "O1hY7ZyOI88W"
      },
      "execution_count": 6,
      "outputs": []
    },
    {
      "cell_type": "code",
      "source": [
        "pip install wget"
      ],
      "metadata": {
        "id": "dpRzx_mMGY9l"
      },
      "execution_count": null,
      "outputs": []
    },
    {
      "cell_type": "code",
      "source": [
        "import wget"
      ],
      "metadata": {
        "id": "E-eqfpbXF1OO"
      },
      "execution_count": 8,
      "outputs": []
    },
    {
      "cell_type": "code",
      "source": [
        "# zipfile - Lib to zip and unzip files\n",
        "from zipfile import ZipFile"
      ],
      "metadata": {
        "id": "K1hkJOUqH_zU"
      },
      "execution_count": 9,
      "outputs": []
    },
    {
      "cell_type": "markdown",
      "source": [
        "# 3. Change Working Directory"
      ],
      "metadata": {
        "id": "hv50HPUdGyMW"
      }
    },
    {
      "cell_type": "code",
      "source": [
        "# Get the Current Working Directory\n",
        "os.getcwd()"
      ],
      "metadata": {
        "colab": {
          "base_uri": "https://localhost:8080/",
          "height": 36
        },
        "id": "kxy903_DFS6z",
        "outputId": "463f69d8-b2b3-473e-ca34-2053d1e27151"
      },
      "execution_count": 10,
      "outputs": [
        {
          "output_type": "execute_result",
          "data": {
            "text/plain": [
              "'/content'"
            ],
            "application/vnd.google.colaboratory.intrinsic+json": {
              "type": "string"
            }
          },
          "metadata": {},
          "execution_count": 10
        }
      ]
    },
    {
      "cell_type": "code",
      "source": [
        "# Change Directory \n",
        "os.chdir(\"./TF_images_lab/c2\")"
      ],
      "metadata": {
        "id": "9vfB5L6BFWBE"
      },
      "execution_count": 11,
      "outputs": []
    },
    {
      "cell_type": "code",
      "source": [
        "# Get the Current Working Directory\n",
        "os.getcwd()"
      ],
      "metadata": {
        "colab": {
          "base_uri": "https://localhost:8080/",
          "height": 36
        },
        "id": "Zx2QVBHbHPAj",
        "outputId": "42e8778b-8391-4c23-83cf-b61ffa76a7da"
      },
      "execution_count": 12,
      "outputs": [
        {
          "output_type": "execute_result",
          "data": {
            "text/plain": [
              "'/content/TF_images_lab/c2'"
            ],
            "application/vnd.google.colaboratory.intrinsic+json": {
              "type": "string"
            }
          },
          "metadata": {},
          "execution_count": 12
        }
      ]
    },
    {
      "cell_type": "markdown",
      "source": [
        "# 4. Create a function to download and unzip the images files"
      ],
      "metadata": {
        "id": "UU3Kfi3OHl4W"
      }
    },
    {
      "cell_type": "code",
      "source": [
        "# wget.download(\"file url\", out=\"folder and file name\")\n",
        "def download_and_unzip_files():\n",
        "    print(\"Downloading Images\")\n",
        "    wget.download(\"https://download.microsoft.com/download/3/E/1/3E1C3F21-ECDB-4869-8368-6DEBA77B919F/kagglecatsanddogs_5340.zip\",\n",
        "                  out=\"./images/cats-and-dogs.zip\")\n",
        "\n",
        "    \n",
        "    print(\"Unzipping files\")\n",
        "    with ZipFile('./images/cats-and-dogs.zip', 'r') as zipObject:\n",
        "        listOfFileNames = zipObject.namelist() # creates a list (listOfFileNames) and and the files names  retrived with zipObject.namelist()\n",
        "        for fileName in listOfFileNames:  # then iterate over the list to get the file names\n",
        "            if fileName.startswith(\"PetImages\"): # check it is PetImages as there are other files we do not need to unzip\n",
        "                zipObject.extract(fileName, \"./images\") # if so, download it to the folder images\n",
        "\n"
      ],
      "metadata": {
        "id": "a7SsTlJbHmU0"
      },
      "execution_count": 19,
      "outputs": []
    },
    {
      "cell_type": "code",
      "source": [
        "# run the function created above, then check the folders to the left. Click the Refresh Button\n",
        "download_and_unzip_files() "
      ],
      "metadata": {
        "colab": {
          "base_uri": "https://localhost:8080/"
        },
        "id": "7YNv3NSWHsms",
        "outputId": "4b58fa1c-25e8-4441-8c87-87d259573606"
      },
      "execution_count": 20,
      "outputs": [
        {
          "output_type": "stream",
          "name": "stdout",
          "text": [
            "Downloading Images\n",
            "Unzipping files\n"
          ]
        }
      ]
    }
  ]
}