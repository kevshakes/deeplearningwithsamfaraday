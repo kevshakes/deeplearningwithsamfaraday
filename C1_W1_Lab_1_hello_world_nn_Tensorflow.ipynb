{
  "nbformat": 4,
  "nbformat_minor": 0,
  "metadata": {
    "colab": {
      "name": "C1_W1_Lab_1_hello_world_nn_Tensorflow.ipynb",
      "provenance": [],
      "collapsed_sections": [],
      "authorship_tag": "ABX9TyNIEQ0TP15SAi253CaZont8",
      "include_colab_link": true
    },
    "kernelspec": {
      "name": "python3",
      "display_name": "Python 3"
    },
    "language_info": {
      "name": "python"
    }
  },
  "cells": [
    {
      "cell_type": "markdown",
      "metadata": {
        "id": "view-in-github",
        "colab_type": "text"
      },
      "source": [
        "<a href=\"https://colab.research.google.com/github/saurater/deeplearningwithsamfaraday/blob/main/C1_W1_Lab_1_hello_world_nn_Tensorflow.ipynb\" target=\"_parent\"><img src=\"https://colab.research.google.com/assets/colab-badge.svg\" alt=\"Open In Colab\"/></a>"
      ]
    },
    {
      "cell_type": "markdown",
      "source": [
        "# Deep Learning with TensorFlow - Marathon Class I\n",
        "\n",
        "**With Sam Faraday and Josh**\n",
        "\n",
        "August 6th, 2022\n",
        "\n",
        "**Based on Andrew Ng and Laurance Deeplearning AI Specialization**\n",
        "\n",
        "**Google Machine Learning Preparation**"
      ],
      "metadata": {
        "id": "A1v5NWeVOg5R"
      }
    },
    {
      "cell_type": "markdown",
      "source": [
        "# Import Libraries"
      ],
      "metadata": {
        "id": "fbYQwyHTNDL5"
      }
    },
    {
      "cell_type": "code",
      "execution_count": null,
      "metadata": {
        "id": "U1VwKwxirBNN"
      },
      "outputs": [],
      "source": [
        "import tensorflow as tf"
      ]
    },
    {
      "cell_type": "code",
      "source": [
        "import numpy as np"
      ],
      "metadata": {
        "id": "LBK-Fmhprybq"
      },
      "execution_count": null,
      "outputs": []
    },
    {
      "cell_type": "code",
      "source": [
        "from tensorflow import keras"
      ],
      "metadata": {
        "id": "Py9e1229r0VP"
      },
      "execution_count": null,
      "outputs": []
    },
    {
      "cell_type": "markdown",
      "source": [
        "# Create a One Layer Model"
      ],
      "metadata": {
        "id": "qKZ_pmoeNM73"
      }
    },
    {
      "cell_type": "code",
      "source": [
        "model = tf.keras.Sequential([keras.layers.Dense(units=1, input_shape=[1])])"
      ],
      "metadata": {
        "id": "4DbTIbjKvb5V"
      },
      "execution_count": null,
      "outputs": []
    },
    {
      "cell_type": "markdown",
      "source": [
        "# Compile the Model"
      ],
      "metadata": {
        "id": "GzPwxRzcNSYP"
      }
    },
    {
      "cell_type": "code",
      "source": [
        "model.compile(optimizer='sgd', loss ='mean_squared_error')"
      ],
      "metadata": {
        "id": "_a8EEm0QEawZ"
      },
      "execution_count": null,
      "outputs": []
    },
    {
      "cell_type": "markdown",
      "source": [
        "# Create the Training Arrays\n",
        "When xs=1, ys=1\n",
        "\n",
        "When xs=2, ys=3\n"
      ],
      "metadata": {
        "id": "RnjgRDJ9NYy3"
      }
    },
    {
      "cell_type": "code",
      "source": [
        "xs = np.array([-1.0,  0.0, 1.0, 2.0, 3.0, 4.0], dtype=float)"
      ],
      "metadata": {
        "id": "pdHQQxCaFOyr"
      },
      "execution_count": null,
      "outputs": []
    },
    {
      "cell_type": "code",
      "source": [
        "ys = np.array([-3.0, -1.0, 1.0, 3.0, 5.0, 7.0], dtype=float)"
      ],
      "metadata": {
        "id": "ztMIXb7dItyQ"
      },
      "execution_count": null,
      "outputs": []
    },
    {
      "cell_type": "markdown",
      "source": [
        "# Traing the Model"
      ],
      "metadata": {
        "id": "reGIcRIHN6r5"
      }
    },
    {
      "cell_type": "code",
      "source": [
        "model.fit(xs, ys, epochs=500)"
      ],
      "metadata": {
        "id": "ezWx6K2kH1Qy"
      },
      "execution_count": null,
      "outputs": []
    },
    {
      "cell_type": "markdown",
      "source": [
        "# Make some Predictions\n",
        "For example, what is value of ys when xs=10?\n",
        "\n",
        "Test it with known values for xs like 1,2,3 or 4, then check if the model return then known ys value, then try again with new numbers"
      ],
      "metadata": {
        "id": "NpO2-RAAN9vx"
      }
    },
    {
      "cell_type": "code",
      "source": [
        "model.predict([10])"
      ],
      "metadata": {
        "colab": {
          "base_uri": "https://localhost:8080/"
        },
        "id": "UVq28raUIQMR",
        "outputId": "636905fc-be43-4c7e-db65-98c4ee2ffcae"
      },
      "execution_count": null,
      "outputs": [
        {
          "output_type": "execute_result",
          "data": {
            "text/plain": [
              "array([[18.987143]], dtype=float32)"
            ]
          },
          "metadata": {},
          "execution_count": 9
        }
      ]
    }
  ]
}