{
  "nbformat": 4,
  "nbformat_minor": 0,
  "metadata": {
    "colab": {
      "name": "Kevin_Tuei_DL_with_Sam_Lesson_2.ipynb",
      "provenance": [],
      "collapsed_sections": [],
      "include_colab_link": true
    },
    "kernelspec": {
      "name": "python3",
      "display_name": "Python 3"
    },
    "language_info": {
      "name": "python"
    }
  },
  "cells": [
    {
      "cell_type": "markdown",
      "metadata": {
        "id": "view-in-github",
        "colab_type": "text"
      },
      "source": [
        "<a href=\"https://colab.research.google.com/github/kevshakes/deeplearningwithsamfaraday/blob/main/Kevin_Tuei_DL_with_Sam_Lesson_2.ipynb\" target=\"_parent\"><img src=\"https://colab.research.google.com/assets/colab-badge.svg\" alt=\"Open In Colab\"/></a>"
      ]
    },
    {
      "cell_type": "markdown",
      "source": [
        "### Deep Learning with Sam Faraday - from Zero to Hero - Lesson 1\n",
        "\n",
        "# Downloading Images and Working with the Operating System\n"
      ],
      "metadata": {
        "id": "rYMtREVH7qFo"
      }
    },
    {
      "cell_type": "markdown",
      "source": [
        "# Note\n",
        "\n",
        "In case you'd like to run the whole notebook from start, first go to Runtime --> Disconnect and Delete Runtime\n",
        "\n",
        "All folders and files will be deleted, then run each cell again\n",
        "\n",
        "Select the Files icon to left to see the Directories\n",
        "\n",
        "Use the Refresh Button whenever you create or delete any object\n",
        "\n",
        "**Linux** does not allow to delete a directory that contains any object, that's why it is easier to disconnect and  Delete Runtime."
      ],
      "metadata": {
        "id": "p-84YKJVLlI7"
      }
    },
    {
      "cell_type": "markdown",
      "source": [
        "# 1. Create Working Folders\n",
        "\n",
        "! is used to run Linux Commands in Google Colab\n",
        "\n",
        "mkdir - makes/ creates a directory"
      ],
      "metadata": {
        "id": "GxKDI_pOE5zP"
      }
    },
    {
      "cell_type": "code",
      "source": [
        "!mkdir my_images_directory"
      ],
      "metadata": {
        "id": "3R9iFfGMDKSQ"
      },
      "execution_count": 1,
      "outputs": []
    },
    {
      "cell_type": "code",
      "source": [
        "!mkdir my_images_directory/images"
      ],
      "metadata": {
        "id": "Rg7rfvV4jxjf"
      },
      "execution_count": 2,
      "outputs": []
    },
    {
      "cell_type": "markdown",
      "source": [
        "# 2. Install and Import Working Libraries"
      ],
      "metadata": {
        "id": "35QUCbYXFlCw"
      }
    },
    {
      "cell_type": "code",
      "execution_count": 3,
      "metadata": {
        "id": "zjMF1ruw7jPl"
      },
      "outputs": [],
      "source": [
        "# os - Operating System - It allows you to run os commands\n",
        "# it is usually install with Python default installation\n",
        "import os"
      ]
    },
    {
      "cell_type": "code",
      "source": [
        "import sys"
      ],
      "metadata": {
        "id": "oBybMC2jsxqS"
      },
      "execution_count": 4,
      "outputs": []
    },
    {
      "cell_type": "code",
      "source": [
        "import glob"
      ],
      "metadata": {
        "id": "xi0Pcl-7sxIw"
      },
      "execution_count": 5,
      "outputs": []
    },
    {
      "cell_type": "code",
      "source": [
        "# pip is a command to install Python Libraries"
      ],
      "metadata": {
        "id": "uGx6FrgxGFP-"
      },
      "execution_count": 6,
      "outputs": []
    },
    {
      "cell_type": "code",
      "source": [
        "# wget - it downloads files from the web"
      ],
      "metadata": {
        "id": "O1hY7ZyOI88W"
      },
      "execution_count": 7,
      "outputs": []
    },
    {
      "cell_type": "code",
      "source": [
        "pip install wget"
      ],
      "metadata": {
        "colab": {
          "base_uri": "https://localhost:8080/"
        },
        "id": "dpRzx_mMGY9l",
        "outputId": "c7f7333c-f3a5-41e3-90f3-3abb9cc3a0f5"
      },
      "execution_count": 8,
      "outputs": [
        {
          "output_type": "stream",
          "name": "stdout",
          "text": [
            "Looking in indexes: https://pypi.org/simple, https://us-python.pkg.dev/colab-wheels/public/simple/\n",
            "Collecting wget\n",
            "  Downloading wget-3.2.zip (10 kB)\n",
            "Building wheels for collected packages: wget\n",
            "  Building wheel for wget (setup.py) ... \u001b[?25l\u001b[?25hdone\n",
            "  Created wheel for wget: filename=wget-3.2-py3-none-any.whl size=9675 sha256=c6fb847bd09d13028f8ca3e166471ea6b228447a34c026a0d35ce82819eae5e8\n",
            "  Stored in directory: /root/.cache/pip/wheels/a1/b6/7c/0e63e34eb06634181c63adacca38b79ff8f35c37e3c13e3c02\n",
            "Successfully built wget\n",
            "Installing collected packages: wget\n",
            "Successfully installed wget-3.2\n"
          ]
        }
      ]
    },
    {
      "cell_type": "code",
      "source": [
        "import wget"
      ],
      "metadata": {
        "id": "E-eqfpbXF1OO"
      },
      "execution_count": 9,
      "outputs": []
    },
    {
      "cell_type": "code",
      "source": [
        "# zipfile - Lib to zip and unzip files\n",
        "from zipfile import ZipFile"
      ],
      "metadata": {
        "id": "K1hkJOUqH_zU"
      },
      "execution_count": 10,
      "outputs": []
    },
    {
      "cell_type": "markdown",
      "source": [
        "# 3. Change Working Directory"
      ],
      "metadata": {
        "id": "hv50HPUdGyMW"
      }
    },
    {
      "cell_type": "code",
      "source": [
        "# Get the Current Working Directory\n",
        "os.getcwd()"
      ],
      "metadata": {
        "colab": {
          "base_uri": "https://localhost:8080/",
          "height": 35
        },
        "id": "kxy903_DFS6z",
        "outputId": "a597e4eb-0222-4493-fd18-c79ca06ab0c9"
      },
      "execution_count": 11,
      "outputs": [
        {
          "output_type": "execute_result",
          "data": {
            "text/plain": [
              "'/content'"
            ],
            "application/vnd.google.colaboratory.intrinsic+json": {
              "type": "string"
            }
          },
          "metadata": {},
          "execution_count": 11
        }
      ]
    },
    {
      "cell_type": "code",
      "source": [
        "# Change Directory \n",
        "os.chdir(\"/content/my_images_directory\")"
      ],
      "metadata": {
        "id": "9vfB5L6BFWBE"
      },
      "execution_count": 12,
      "outputs": []
    },
    {
      "cell_type": "code",
      "source": [
        "# Get the Current Working Directory\n",
        "os.getcwd()"
      ],
      "metadata": {
        "colab": {
          "base_uri": "https://localhost:8080/",
          "height": 35
        },
        "id": "Zx2QVBHbHPAj",
        "outputId": "383b447e-2ed0-453d-d192-5b836ec40b66"
      },
      "execution_count": 13,
      "outputs": [
        {
          "output_type": "execute_result",
          "data": {
            "text/plain": [
              "'/content/my_images_directory'"
            ],
            "application/vnd.google.colaboratory.intrinsic+json": {
              "type": "string"
            }
          },
          "metadata": {},
          "execution_count": 13
        }
      ]
    },
    {
      "cell_type": "markdown",
      "source": [
        "# 4. Create a function to download and unzip the images files"
      ],
      "metadata": {
        "id": "UU3Kfi3OHl4W"
      }
    },
    {
      "cell_type": "code",
      "source": [
        "# wget.download(\"file url\", out=\"folder and file name\")\n",
        "def download_and_unzip_files():\n",
        "    print(\"Downloading Images\")\n",
        "    wget.download(\"https://storage.googleapis.com/tensorflow-1-public/course2/cats_and_dogs_filtered.zip\",\n",
        "                  out=\"./images/cats_and_dogs_filtered.zip\")\n",
        "\n",
        "    \n",
        "    print(\"Unzipping files\")\n",
        "    ZipFile('./images/cats_and_dogs_filtered.zip', 'r').extractall(\"./images\")\n",
        "\n"
      ],
      "metadata": {
        "id": "a7SsTlJbHmU0"
      },
      "execution_count": 14,
      "outputs": []
    },
    {
      "cell_type": "code",
      "source": [
        "# run the function created above, then check the folders to the left. Click the Refresh Button\n",
        "download_and_unzip_files() "
      ],
      "metadata": {
        "colab": {
          "base_uri": "https://localhost:8080/"
        },
        "id": "7YNv3NSWHsms",
        "outputId": "b977fad2-6311-4b78-e161-b1e413bee3b4"
      },
      "execution_count": 15,
      "outputs": [
        {
          "output_type": "stream",
          "name": "stdout",
          "text": [
            "Downloading Images\n",
            "Unzipping files\n"
          ]
        }
      ]
    },
    {
      "cell_type": "markdown",
      "source": [
        "# 5. Listing Directories Contents\n",
        "\n",
        "os.listdir - creates a list of the files in the directory"
      ],
      "metadata": {
        "id": "02KMG-H9RGAV"
      }
    },
    {
      "cell_type": "code",
      "source": [
        "# create a list containing of the objects in a specific directory\n",
        "my_directory_list_var = os.listdir(\"/content/my_images_directory\")"
      ],
      "metadata": {
        "id": "J5w2-eWcRGI0"
      },
      "execution_count": 16,
      "outputs": []
    },
    {
      "cell_type": "code",
      "source": [
        "# print the list\n",
        "print(my_directory_list_var)"
      ],
      "metadata": {
        "colab": {
          "base_uri": "https://localhost:8080/"
        },
        "id": "kR1JyTozSaKj",
        "outputId": "158d994a-e597-4dad-bbc1-93ea83a21f78"
      },
      "execution_count": 17,
      "outputs": [
        {
          "output_type": "stream",
          "name": "stdout",
          "text": [
            "['images']\n"
          ]
        }
      ]
    },
    {
      "cell_type": "code",
      "source": [
        "# iterate through the list, printing each object name\n",
        "for x in my_directory_list_var:\n",
        "  print(x)"
      ],
      "metadata": {
        "colab": {
          "base_uri": "https://localhost:8080/"
        },
        "id": "Z3irzszqTG_0",
        "outputId": "55000e55-3091-4b5e-9a26-66a1faf6ff84"
      },
      "execution_count": 18,
      "outputs": [
        {
          "output_type": "stream",
          "name": "stdout",
          "text": [
            "images\n"
          ]
        }
      ]
    },
    {
      "cell_type": "markdown",
      "source": [
        "# Task"
      ],
      "metadata": {
        "id": "9nkHO1OSUR2y"
      }
    },
    {
      "cell_type": "code",
      "source": [
        "#Print the objects in the /images/cats_and_dogs_filtered directory\n",
        "\n",
        "# Delete all files whose extension is different from *.jpg\n"
      ],
      "metadata": {
        "id": "erJG0ac-Tr6y"
      },
      "execution_count": 19,
      "outputs": []
    },
    {
      "cell_type": "code",
      "source": [
        "\n",
        "\n",
        "# list create the list\n",
        "main_dir = \"./images/cats_and_dogs_filtered\"\n",
        "\n",
        "# Delete all files whose extension is different from *.jpg\n",
        "\n",
        "folders = os.listdir(main_dir)\n",
        "\n",
        "for (dirname, dirs, files) in os.walk(main_dir):\n",
        "   for file in files:\n",
        "    fname, fext = os.path.splitext(file)\n",
        "    fext = fext.lower()\n",
        "    if fext != \".jpg\":\n",
        "      print(dirname, fext)\n",
        "      print(file)\n",
        "      os.remove(os.path.join(dirname, file))\n",
        "\n",
        "\n",
        "\n",
        "\n",
        " \n"
      ],
      "metadata": {
        "id": "NhZl0cVUUVjK",
        "colab": {
          "base_uri": "https://localhost:8080/"
        },
        "outputId": "29636f8b-5b8b-4dcb-f1df-d9cf67e1044a"
      },
      "execution_count": 22,
      "outputs": [
        {
          "output_type": "stream",
          "name": "stdout",
          "text": [
            "./images/cats_and_dogs_filtered .py\n",
            "vectorize.py\n"
          ]
        }
      ]
    }
  ]
}