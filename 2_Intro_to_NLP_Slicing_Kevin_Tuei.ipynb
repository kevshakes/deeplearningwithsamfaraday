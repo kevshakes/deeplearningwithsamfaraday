{
  "nbformat": 4,
  "nbformat_minor": 0,
  "metadata": {
    "colab": {
      "provenance": [],
      "collapsed_sections": [],
      "include_colab_link": true
    },
    "kernelspec": {
      "name": "python3",
      "display_name": "Python 3"
    },
    "language_info": {
      "name": "python"
    }
  },
  "cells": [
    {
      "cell_type": "markdown",
      "metadata": {
        "id": "view-in-github",
        "colab_type": "text"
      },
      "source": [
        "<a href=\"https://colab.research.google.com/github/kevshakes/deeplearningwithsamfaraday/blob/main/2_Intro_to_NLP_Slicing_Kevin_Tuei.ipynb\" target=\"_parent\"><img src=\"https://colab.research.google.com/assets/colab-badge.svg\" alt=\"Open In Colab\"/></a>"
      ]
    },
    {
      "cell_type": "markdown",
      "source": [
        "![image.png](data:image/png;base64,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)"
      ],
      "metadata": {
        "id": "0tSXO4BTyt_t"
      }
    },
    {
      "cell_type": "markdown",
      "source": [
        "# String, List, DataFrame and Arrays Slicing"
      ],
      "metadata": {
        "id": "F9Yl-N5-cLWG"
      }
    },
    {
      "cell_type": "markdown",
      "source": [
        "# String"
      ],
      "metadata": {
        "id": "-kCkjd2NiqKY"
      }
    },
    {
      "cell_type": "code",
      "source": [
        "my_string = \"God save the Queen\""
      ],
      "metadata": {
        "id": "IHXVGJSsirom"
      },
      "execution_count": 1,
      "outputs": []
    },
    {
      "cell_type": "code",
      "source": [
        "# Get the First Letter\n",
        "my_string[0]"
      ],
      "metadata": {
        "colab": {
          "base_uri": "https://localhost:8080/",
          "height": 35
        },
        "id": "_MTaf5Ldiy6m",
        "outputId": "66cd3ff0-f13b-4e58-9075-51509189392c"
      },
      "execution_count": 2,
      "outputs": [
        {
          "output_type": "execute_result",
          "data": {
            "text/plain": [
              "'G'"
            ],
            "application/vnd.google.colaboratory.intrinsic+json": {
              "type": "string"
            }
          },
          "metadata": {},
          "execution_count": 2
        }
      ]
    },
    {
      "cell_type": "code",
      "source": [
        "# Get the Last Letter\n",
        "my_string[-1]"
      ],
      "metadata": {
        "colab": {
          "base_uri": "https://localhost:8080/",
          "height": 35
        },
        "id": "GvE7o9PYi-92",
        "outputId": "d4fedac3-5fa2-48bd-81a2-be7c488735a6"
      },
      "execution_count": 3,
      "outputs": [
        {
          "output_type": "execute_result",
          "data": {
            "text/plain": [
              "'n'"
            ],
            "application/vnd.google.colaboratory.intrinsic+json": {
              "type": "string"
            }
          },
          "metadata": {},
          "execution_count": 3
        }
      ]
    },
    {
      "cell_type": "code",
      "source": [
        "# Get the String Len\n",
        "len(my_string)"
      ],
      "metadata": {
        "colab": {
          "base_uri": "https://localhost:8080/"
        },
        "id": "L5-dpzejjHZV",
        "outputId": "00e88418-6637-4729-9ead-1d219e66631d"
      },
      "execution_count": 4,
      "outputs": [
        {
          "output_type": "execute_result",
          "data": {
            "text/plain": [
              "18"
            ]
          },
          "metadata": {},
          "execution_count": 4
        }
      ]
    },
    {
      "cell_type": "markdown",
      "source": [
        "# List"
      ],
      "metadata": {
        "id": "PYmlcXK8eVn8"
      }
    },
    {
      "cell_type": "code",
      "execution_count": 5,
      "metadata": {
        "id": "ZRKAHcPXcKgq"
      },
      "outputs": [],
      "source": [
        "queen_elizabeth = \"It's worth remembering that it is often the small steps, not the giant leaps, \\\n",
        "that bring about the most lasting change\""
      ]
    },
    {
      "cell_type": "code",
      "source": [
        "queen_elizabeth"
      ],
      "metadata": {
        "colab": {
          "base_uri": "https://localhost:8080/",
          "height": 35
        },
        "id": "qUMQ10toc7hU",
        "outputId": "80db8fd0-c65e-4a93-d342-8d73dbe2a8b9"
      },
      "execution_count": 6,
      "outputs": [
        {
          "output_type": "execute_result",
          "data": {
            "text/plain": [
              "\"It's worth remembering that it is often the small steps, not the giant leaps, that bring about the most lasting change\""
            ],
            "application/vnd.google.colaboratory.intrinsic+json": {
              "type": "string"
            }
          },
          "metadata": {},
          "execution_count": 6
        }
      ]
    },
    {
      "cell_type": "code",
      "source": [
        "# Check the Object Type\n",
        "type(queen_elizabeth)"
      ],
      "metadata": {
        "colab": {
          "base_uri": "https://localhost:8080/"
        },
        "id": "rjH8JCX5euDT",
        "outputId": "56ecfd80-6d6d-467a-ded1-f5f0c15f8eff"
      },
      "execution_count": 7,
      "outputs": [
        {
          "output_type": "execute_result",
          "data": {
            "text/plain": [
              "str"
            ]
          },
          "metadata": {},
          "execution_count": 7
        }
      ]
    },
    {
      "cell_type": "markdown",
      "source": [
        "**Splitting the string by spaces**\n",
        "\n",
        "It creates a list of words"
      ],
      "metadata": {
        "id": "-dTR4d1leabx"
      }
    },
    {
      "cell_type": "code",
      "source": [
        "queen_elizabeth_split_words = queen_elizabeth.split()"
      ],
      "metadata": {
        "id": "pSo0Rn9fdE5N"
      },
      "execution_count": 8,
      "outputs": []
    },
    {
      "cell_type": "code",
      "source": [
        "queen_elizabeth_split_words"
      ],
      "metadata": {
        "colab": {
          "base_uri": "https://localhost:8080/"
        },
        "id": "UMHhGhuqdocc",
        "outputId": "b5c14c28-c55e-4cb3-8aa0-ed01e87e89cb"
      },
      "execution_count": 9,
      "outputs": [
        {
          "output_type": "execute_result",
          "data": {
            "text/plain": [
              "[\"It's\",\n",
              " 'worth',\n",
              " 'remembering',\n",
              " 'that',\n",
              " 'it',\n",
              " 'is',\n",
              " 'often',\n",
              " 'the',\n",
              " 'small',\n",
              " 'steps,',\n",
              " 'not',\n",
              " 'the',\n",
              " 'giant',\n",
              " 'leaps,',\n",
              " 'that',\n",
              " 'bring',\n",
              " 'about',\n",
              " 'the',\n",
              " 'most',\n",
              " 'lasting',\n",
              " 'change']"
            ]
          },
          "metadata": {},
          "execution_count": 9
        }
      ]
    },
    {
      "cell_type": "code",
      "source": [
        "# Check the Object Type\n",
        "type(queen_elizabeth_split_words)"
      ],
      "metadata": {
        "colab": {
          "base_uri": "https://localhost:8080/"
        },
        "id": "aNWI2OTve3E8",
        "outputId": "2b761821-5189-425b-b896-10068c699fb8"
      },
      "execution_count": 10,
      "outputs": [
        {
          "output_type": "execute_result",
          "data": {
            "text/plain": [
              "list"
            ]
          },
          "metadata": {},
          "execution_count": 10
        }
      ]
    },
    {
      "cell_type": "markdown",
      "source": [
        "## String Slicing"
      ],
      "metadata": {
        "id": "Idip-2ubgisZ"
      }
    },
    {
      "cell_type": "code",
      "source": [
        "# Get the first word\n",
        "queen_elizabeth_split_words[0]"
      ],
      "metadata": {
        "colab": {
          "base_uri": "https://localhost:8080/",
          "height": 35
        },
        "id": "YXiiPafddrtz",
        "outputId": "2b77180b-2f7c-4222-b7f3-63ec5d7ff5f4"
      },
      "execution_count": 11,
      "outputs": [
        {
          "output_type": "execute_result",
          "data": {
            "text/plain": [
              "\"It's\""
            ],
            "application/vnd.google.colaboratory.intrinsic+json": {
              "type": "string"
            }
          },
          "metadata": {},
          "execution_count": 11
        }
      ]
    },
    {
      "cell_type": "code",
      "source": [
        "# Get the First letter of the First Word\n",
        "queen_elizabeth_split_words[0][0]"
      ],
      "metadata": {
        "colab": {
          "base_uri": "https://localhost:8080/",
          "height": 35
        },
        "id": "NYjcO2qlg6xA",
        "outputId": "956f175e-bca1-47ee-88e9-84f05ab250a7"
      },
      "execution_count": 14,
      "outputs": [
        {
          "output_type": "execute_result",
          "data": {
            "text/plain": [
              "'I'"
            ],
            "application/vnd.google.colaboratory.intrinsic+json": {
              "type": "string"
            }
          },
          "metadata": {},
          "execution_count": 14
        }
      ]
    },
    {
      "cell_type": "code",
      "source": [
        "# Get the Last letter of the First Word\n",
        "queen_elizabeth_split_words[0][-1]"
      ],
      "metadata": {
        "colab": {
          "base_uri": "https://localhost:8080/",
          "height": 35
        },
        "id": "DJ8ktQMNdwSs",
        "outputId": "73662893-27fd-4400-c2f7-cca28b696301"
      },
      "execution_count": 15,
      "outputs": [
        {
          "output_type": "execute_result",
          "data": {
            "text/plain": [
              "'s'"
            ],
            "application/vnd.google.colaboratory.intrinsic+json": {
              "type": "string"
            }
          },
          "metadata": {},
          "execution_count": 15
        }
      ]
    },
    {
      "cell_type": "code",
      "source": [
        "# Get the Last Word\n",
        "queen_elizabeth_split_words[-1]"
      ],
      "metadata": {
        "colab": {
          "base_uri": "https://localhost:8080/",
          "height": 35
        },
        "id": "RUUtvPxOhaYy",
        "outputId": "e7012828-b7f3-4bde-ecaf-75e17088f56c"
      },
      "execution_count": 16,
      "outputs": [
        {
          "output_type": "execute_result",
          "data": {
            "text/plain": [
              "'change'"
            ],
            "application/vnd.google.colaboratory.intrinsic+json": {
              "type": "string"
            }
          },
          "metadata": {},
          "execution_count": 16
        }
      ]
    },
    {
      "cell_type": "code",
      "source": [],
      "metadata": {
        "id": "j_pjKR0fhemY"
      },
      "execution_count": null,
      "outputs": []
    },
    {
      "cell_type": "markdown",
      "source": [
        "# Dataframe"
      ],
      "metadata": {
        "id": "75D-V18Bjapm"
      }
    },
    {
      "cell_type": "code",
      "source": [
        "import pandas as pd "
      ],
      "metadata": {
        "id": "XxLlX9vjjdXQ"
      },
      "execution_count": 17,
      "outputs": []
    },
    {
      "cell_type": "code",
      "source": [
        "# Create a Dictionary\n",
        "my_dict = {\n",
        "  \"Name\": [\"John\", \"Mike\", \"Josh\", \"Elizabeth\"],\n",
        "  \"Age\": [10, 12, 14, 94],\n",
        "  \"Country\": [\"USA\", \"England\", \"Nigeria\", \"England\"],\n",
        "\n",
        "}"
      ],
      "metadata": {
        "id": "qUpbRLN7jiyv"
      },
      "execution_count": 18,
      "outputs": []
    },
    {
      "cell_type": "code",
      "source": [
        "# Convert the Dictionary to DataFrame\n",
        "my_df = pd.DataFrame(my_dict)"
      ],
      "metadata": {
        "id": "d-x5lPMKkIzL"
      },
      "execution_count": 19,
      "outputs": []
    },
    {
      "cell_type": "code",
      "source": [
        "my_df"
      ],
      "metadata": {
        "colab": {
          "base_uri": "https://localhost:8080/",
          "height": 175
        },
        "id": "71qD8DIQkMXd",
        "outputId": "0cad34a4-4fbe-4c63-bf7b-3ad78d966e96"
      },
      "execution_count": 21,
      "outputs": [
        {
          "output_type": "execute_result",
          "data": {
            "text/plain": [
              "        Name  Age  Country\n",
              "0       John   10      USA\n",
              "1       Mike   12  England\n",
              "2       Josh   14  Nigeria\n",
              "3  Elizabeth   94  England"
            ],
            "text/html": [
              "\n",
              "  <div id=\"df-c89fae98-8faa-44c4-9670-24e6125b2344\">\n",
              "    <div class=\"colab-df-container\">\n",
              "      <div>\n",
              "<style scoped>\n",
              "    .dataframe tbody tr th:only-of-type {\n",
              "        vertical-align: middle;\n",
              "    }\n",
              "\n",
              "    .dataframe tbody tr th {\n",
              "        vertical-align: top;\n",
              "    }\n",
              "\n",
              "    .dataframe thead th {\n",
              "        text-align: right;\n",
              "    }\n",
              "</style>\n",
              "<table border=\"1\" class=\"dataframe\">\n",
              "  <thead>\n",
              "    <tr style=\"text-align: right;\">\n",
              "      <th></th>\n",
              "      <th>Name</th>\n",
              "      <th>Age</th>\n",
              "      <th>Country</th>\n",
              "    </tr>\n",
              "  </thead>\n",
              "  <tbody>\n",
              "    <tr>\n",
              "      <th>0</th>\n",
              "      <td>John</td>\n",
              "      <td>10</td>\n",
              "      <td>USA</td>\n",
              "    </tr>\n",
              "    <tr>\n",
              "      <th>1</th>\n",
              "      <td>Mike</td>\n",
              "      <td>12</td>\n",
              "      <td>England</td>\n",
              "    </tr>\n",
              "    <tr>\n",
              "      <th>2</th>\n",
              "      <td>Josh</td>\n",
              "      <td>14</td>\n",
              "      <td>Nigeria</td>\n",
              "    </tr>\n",
              "    <tr>\n",
              "      <th>3</th>\n",
              "      <td>Elizabeth</td>\n",
              "      <td>94</td>\n",
              "      <td>England</td>\n",
              "    </tr>\n",
              "  </tbody>\n",
              "</table>\n",
              "</div>\n",
              "      <button class=\"colab-df-convert\" onclick=\"convertToInteractive('df-c89fae98-8faa-44c4-9670-24e6125b2344')\"\n",
              "              title=\"Convert this dataframe to an interactive table.\"\n",
              "              style=\"display:none;\">\n",
              "        \n",
              "  <svg xmlns=\"http://www.w3.org/2000/svg\" height=\"24px\"viewBox=\"0 0 24 24\"\n",
              "       width=\"24px\">\n",
              "    <path d=\"M0 0h24v24H0V0z\" fill=\"none\"/>\n",
              "    <path d=\"M18.56 5.44l.94 2.06.94-2.06 2.06-.94-2.06-.94-.94-2.06-.94 2.06-2.06.94zm-11 1L8.5 8.5l.94-2.06 2.06-.94-2.06-.94L8.5 2.5l-.94 2.06-2.06.94zm10 10l.94 2.06.94-2.06 2.06-.94-2.06-.94-.94-2.06-.94 2.06-2.06.94z\"/><path d=\"M17.41 7.96l-1.37-1.37c-.4-.4-.92-.59-1.43-.59-.52 0-1.04.2-1.43.59L10.3 9.45l-7.72 7.72c-.78.78-.78 2.05 0 2.83L4 21.41c.39.39.9.59 1.41.59.51 0 1.02-.2 1.41-.59l7.78-7.78 2.81-2.81c.8-.78.8-2.07 0-2.86zM5.41 20L4 18.59l7.72-7.72 1.47 1.35L5.41 20z\"/>\n",
              "  </svg>\n",
              "      </button>\n",
              "      \n",
              "  <style>\n",
              "    .colab-df-container {\n",
              "      display:flex;\n",
              "      flex-wrap:wrap;\n",
              "      gap: 12px;\n",
              "    }\n",
              "\n",
              "    .colab-df-convert {\n",
              "      background-color: #E8F0FE;\n",
              "      border: none;\n",
              "      border-radius: 50%;\n",
              "      cursor: pointer;\n",
              "      display: none;\n",
              "      fill: #1967D2;\n",
              "      height: 32px;\n",
              "      padding: 0 0 0 0;\n",
              "      width: 32px;\n",
              "    }\n",
              "\n",
              "    .colab-df-convert:hover {\n",
              "      background-color: #E2EBFA;\n",
              "      box-shadow: 0px 1px 2px rgba(60, 64, 67, 0.3), 0px 1px 3px 1px rgba(60, 64, 67, 0.15);\n",
              "      fill: #174EA6;\n",
              "    }\n",
              "\n",
              "    [theme=dark] .colab-df-convert {\n",
              "      background-color: #3B4455;\n",
              "      fill: #D2E3FC;\n",
              "    }\n",
              "\n",
              "    [theme=dark] .colab-df-convert:hover {\n",
              "      background-color: #434B5C;\n",
              "      box-shadow: 0px 1px 3px 1px rgba(0, 0, 0, 0.15);\n",
              "      filter: drop-shadow(0px 1px 2px rgba(0, 0, 0, 0.3));\n",
              "      fill: #FFFFFF;\n",
              "    }\n",
              "  </style>\n",
              "\n",
              "      <script>\n",
              "        const buttonEl =\n",
              "          document.querySelector('#df-c89fae98-8faa-44c4-9670-24e6125b2344 button.colab-df-convert');\n",
              "        buttonEl.style.display =\n",
              "          google.colab.kernel.accessAllowed ? 'block' : 'none';\n",
              "\n",
              "        async function convertToInteractive(key) {\n",
              "          const element = document.querySelector('#df-c89fae98-8faa-44c4-9670-24e6125b2344');\n",
              "          const dataTable =\n",
              "            await google.colab.kernel.invokeFunction('convertToInteractive',\n",
              "                                                     [key], {});\n",
              "          if (!dataTable) return;\n",
              "\n",
              "          const docLinkHtml = 'Like what you see? Visit the ' +\n",
              "            '<a target=\"_blank\" href=https://colab.research.google.com/notebooks/data_table.ipynb>data table notebook</a>'\n",
              "            + ' to learn more about interactive tables.';\n",
              "          element.innerHTML = '';\n",
              "          dataTable['output_type'] = 'display_data';\n",
              "          await google.colab.output.renderOutput(dataTable, element);\n",
              "          const docLink = document.createElement('div');\n",
              "          docLink.innerHTML = docLinkHtml;\n",
              "          element.appendChild(docLink);\n",
              "        }\n",
              "      </script>\n",
              "    </div>\n",
              "  </div>\n",
              "  "
            ]
          },
          "metadata": {},
          "execution_count": 21
        }
      ]
    },
    {
      "cell_type": "markdown",
      "source": [
        "## Slicing the Dataframe"
      ],
      "metadata": {
        "id": "BjV6GxX2kqB9"
      }
    },
    {
      "cell_type": "markdown",
      "source": [
        "A dataframe is divided into rows and columns\n",
        "\n",
        "In case you have not numbers, like in the image below, it means \"get all rows and all columns\"\n"
      ],
      "metadata": {
        "id": "qI99cGlqlg9E"
      }
    },
    {
      "cell_type": "markdown",
      "source": [
        "![image.png](data:image/png;base64,iVBORw0KGgoAAAANSUhEUgAAA0QAAACjCAYAAACqsN6JAAAdEUlEQVR4nO3df2hc553v8Y+vBmUGC0aJ/piFritBPWpqCYnQEgcuqwgE15Ysx3WIZLchqXYvbK27WEZZcu3mj3icP5q6UAtL3FVS2EW73kssaamrtSwpfwgUly5xuGzuCMvJahzQbLbQ4WJXw0rMVIzQ/ePMj3OOZkajnzPSeb9AYM2cc55nzrTO+fh5nu9zaG1tbU0AAAAA4ED/pdgdAAAAAIBiIRABAAAAcCwCEQAAAADHIhABAAAAcCwCEQAAAADHIhABAAAAcCwCEQAAAADHIhABAAAAcCwCEQAAAADHIhABAAAAcCwCEQAAAADHIhABAAAAcCwCEQAAAADHIhABAAAAcCwCEQAAAADHIhABAAAAcCwCEQAAAADHIhABAAAAcCwCEQAAAADHIhABAAAAcCwCEQAAAADHIhABAAAAcCwCEQAAAADHIhABAAAAcCwCEQAAAADHIhABAAAAcCwCEQAcKCHFWvx6esT4WRoPFbtDAACUNFexOwAgaX5Ssb4BrYyHtJp+0a+y9lZ5ek+qvNZfxM5hY5NaOtKjlY0Oq+2Rd/qiyvaiS5JWyUMAAOTFCBFQAlb72vS0pUcxSxiSpJBWx/u11DJge9C2jwLsZW9Lof0SNP/Y9t3lOs7+HQMAtiaha3cjOnTL+OkMJ4rdIexTjBABxTbeo+iNjf4Z/7FW5yXV7kWHsKtq/Xs2OgSgQItxXZtd1mg4obn0iy7VVbt1teEZdVTyuGQVV+etqEY3OqyyQg9PH1bdXnRJ0qPoHjWEA4f/hwNFtnJv0vRbqyqm+1WeCj7zIa30XVJs/KjKCEP7SvlgSBXtxe4FgI3MzT5RfTDbyEJCc+EldYYTGnnDqw7T69fuPlFg0fito8mnkeq96WtptC9pcVWPCjouoUfSngUiYKuYMgcUVcgY+Ulpb82EIUmq9at8cELer/tVnnxppduvp0faFDOdZ7yWZfra/KRi3W2Kmqa3PT3iV7SlLfti+/kBRVPHdU9KCinW3ZY8r02x8U22j7xWx3ts9y2kle62zHdwpE1LfZM5p9itjvdYvtto9wDT8YDNCEdzhCGzhB4t7klvDp5Kl44Vuw9AARghAkrJ+IBiva3ybGM0aDUUkuSXxnuSoSbLMfMhrXa3KXqvX97B1hxXeqxYS48p+BhrXzaa7pVuHxsLPTb9eUDRI/3r1pCt3OjRyny/nrN9Tyvd60Pt6ni/ouOTjCYCBRoNx02/uTVy2quOyuSviwmNzkZ1LezSscpsZyOlKKNUwA4iEAFF5Vd5u1+x9Boio1jBSnuPPL0XraNFBSrzG2Fk1fywncNqvgA23q/Y5ptPt+90K91+Pe22v9qqCtNon+X4G/25L2b/nsZ78pTTto06AsghYV1zUv1MJgxJUqVLHU1Vpqly0uj9iDrD1quM3o/oUPLPlmCQWpcUTWjONMJUV+nSsQavRqptj2CLy6q/u2SsYar2aq3JpWv3owqEE5JcCjRV6Vh4E+2XmLlwVPX3jQBq9DOh0ftRXUuv23Kpo/Gwrja4s06xmwtHdW42nr6XddUVGm56Zo96j4OOKXNAkZVlCT5GZTm/nrb0aGXe+uBbPhjSc19PWEKM8Zrxk1q3UuY/Ksmv8rf65Z3OvO8d7DGN8mz88Fw+OGGcOz2hivbC28dW+OVJflfet8wjQiGt3Mv878C67sxv+o76txSiAUgKL+vaNqfGPYomp9+Fozp01wgzc7Zrzi0mNHr/STocZLdqrBNKV00zF3sooP1SZO5bdFn1t56o01LEIqHRYDTrfUndL/O9nAsvqb6Qwg5AAQhEQNG1qmJ6Qp72LCMr85NaamlTNMfUt7za+/Xc1xOq6G21TKEqaz9peWg2prhlV/bWhCpS/WIfpF3ml2c6EzTLei/mmDppX3d20fQdJYty7HJPgYPBpdcsozQJBe5GVH9/WaNbDEbHvMb15goIJnP5Alh4KV00YSvt77XR+5nS15mf3GFlNLiUO+DZ70s4mqec9vrACWwFU+aAkuCXZ3BCnl5jc9bYurUhPYrWTsjbu9lQEtJK34Bi44+1Or/ZHTr9Kj9FCNqqTVeZq20tcHTnsSUQlZ+yrwFLViRk2hywobqGw+oIRy0ByKgstyRVujXyZ4ctJbc7mnxaK6DKW10ymHQ0HtbVb7pVV5m69rLO3U+FgYTmopLyrE/qaKoyptYtJozjqgtrf39wKXC6SlcrpbnZqOqDqZGhhEb/PaGryftuXeflUkdTcrrhYlydv4luObwCZowQAaWktlWewQljZMc2YrR6w7456wbmBxQ90qalG5NbCEMoWYVuAAugAG6NnK5SwL6eRzIeuO9uNLUth2qv1t6o0khDJgxJUp1tnVK+KW51jVWZdUYHbh+kTBiSjGAayBoM7eu8DpvuSbIIxi73FM5w0P4fBhwQyXLbtW2mTVs3szlrSLFuU8WyWr/K2y+q3G9cZ6WvXyuMIOxPtUdVJhGKgB3j0tWmKl1NFkEI2KZnzYWjqp916WHDZh+ZEhqdXTaKBixudm2PSx3f3D+PaJsepap067WCKvdZp8R1VLtt77tUVylGibBtjBABJcwojJCyic1Z56dMgceYjlfR26ry9laVt5/csHQ29g9rgQXJPqUOQIEq3braVGWM7NhGjOaCy5tbvL+YLBoQjG8hDCGt0A1ggW0iEAHFlJzWFu0eWFdNbnV+QEvmYgq1/pxBZuVeavPOUJaRg5BpylxIK92XLJuq7oT87WNntarcvDZp3LTmbH5SSy09m5taCcDGKLf9sNFacKHwzVkTuvYbU9GASpc6Gr0aafJqpKnCWtob+VWWsbEr9sT+GY8FDqyQVsdDWhrPsw+NpPLei6ZA5LcunB/vUXTc+GPZWxPy9lqnVa10t2XZE2c7NmqfYgzZ9yGS8u1FVKjyU63SeCoshxTrblNsR79fAEZhhNToziY2Z138o2kKl0uBP8uslZESejS7RKnoLRoNxyXLtDmqzGFnMEIE7ANG+Wvra+uri5m1yvPW7oaS/O1jV7X356lg55fnLb4bYEPJaW1GmW3buqHFZXWaiylUunKOVIyG45mqceveTZhKcBsbkW6lnHY++dvf79zqMK9NChtrsiQli16wDxF2BiNEQDHVXlTF9FGt9BlT5ixrP2r9Kqu9uG4fobT2fnnVo6W+ycx5ta3pUtllvRPy+gcUMxdQSBZX8PgnC9jb6Gj+tUYbtO84Wyl24D8qKVcFQH/e8tnlgxOqqB1Q7MZkus2y9n5VDLaqbLxHsc30A3CsRKbMdh4dDYdVl/7NpWNeSalgE46q/pZRCq2usUoPG4xpXqlwMnr/iQ7taJ83an/vH+1G70dyfEa3Rt7YXiW4jmq3FM6U5A7cf6LANq4HZHNobW1trdidAAAA2FOLy6q/m2eD0KSsISMc1aEs5bhTx87NPlF9cONiCpZrW/pjLUu9zgbt77oC7505EFnuSWWFHp42h0zr3kr2zzF6P6LOcLbruxRodCmQ3MOoWIEQ+x9T5gAAgPNUHtbwaa8C1S7LXkHGey7VVXv18LQv+wN2tVcPm6x7DKnSnS6VXddQpYf2AgrJ4goPm+ylo7PJPUWvkPZ33VaKHXjz9S056pVDR1OVRhrdpgAl4/t5o0pX85wHFIoRIgAAAACOxQgRAAAAAMciEAEAAABwLAIRAAAAAMciEAEAAABwLAIRAAAAAMciEAEAAABwLAIRAAAAAMciEAEAAABwLAIRAAAAAMciEAEAAABwLAIRAAAAAMciEAEAAABwLAIRAAAAAMciEAEAAABwLAIRAAAAAMciEAEAAABwLAIRAAAAAMdyxePxYvcBAAAAAPaM2+1O/5kRIgAAAACORSACAAAA4FgEIgAAAACORSACAAAA4FgEol0R14O+s/qO5zs6OxDU/ipbEdHw6x55PNaf658Vu18AAAA4qCIj59c9f3o81/VgD9o+kIEodUPzPsQvfamx97vV+r2aXXjwD2rmnSktaEFT/3NKwQ36afl5fy++dgAAAADSAQ1EG4oHdf3UCzr/3pBm5iK70ECjmn96UjWq0cmfn1TjLrSw614d0kIspljy5/KLxe4QAAAADipf5+30c2csNqPAHrbtyEAUnR5S4DPJ98NBffofMdPN36kHf7eO997RF7EvdOdio9w5jrJ88Y+HdGYnmgYAAABQMEcGooVHdyRJ3T/uUmNVkTsDAAAAoGgKDEQPdN3j0fmRiOKzH+h8vUee+vP6YDYuhad05fvfkcfzHXX/asE4PDqlXo9HnpqAZrJWFFjQ0Pc98ni6NfZkm58gMqMPLp1Xc31yDU59s7p+/mneU+KJ3Zgmt0drgp4ENfx+t+Xzdr8/rGC++2i7RzXfO6vev5lRJLGzXQP2RqZoyfl/+LLYnQGAfWZBY3/1gmpqWhX4JFrszgAlYXMjROHb+skrvRr7StJXY+q9fVtD75zVzY8XJC1o6PWbmopK8jbrzNs+KTKkmQdZEtFXMxr+WPK9fU4ntjFCE//supprWtX7yzE9+Cp17Qfr1wX9bljnTSGl+T3j5cDLtvDy+rB2JyrtjPjsTZ397kvqem/I8nmH3uvSS9/t0nB4/TkL93rX3aPI3JQ++OtWXfpVKX9aIJdM0ZKxH4/tSfUZADgwfvdAH/3dl4pEZnT9l1Ml/dwD7JVNBaKxd6/oTsuQvvjPz9XXIqmvW92/vaQ7v49p5ieSdEfBryTJrebXetWoiK5//Om6stMLnwxrRo3qfa055/qaDT2Z0k86A3rga9blX3+hP/xnci3O/1vQzE+bt3rVbdndNUFBfXjxiqYiPp37X5/q939ItvMfn2rofxyXIsPq+umYLP/W87thXXntAz3QcV34cEYLqXP+8Ht9/uuf6YUt33ygmBrV/F6zfKrRmZv7tGgJABTLN47rB2/WSL5mXXqzWb5i9wcoAZtcQ3RSgXfOqcb1rJ71Gq+c+XmvTnqlmufPSIpIqWlYDWd04YSkvjHNWJ7Sgxr7cEY6cUFnGrbe8cj0kD6ISF39txU4USO3K/lGhU813/BaD/7GOd02FU6Yedd4OfCJtaBC7H+fK9m/GOKf3FHfZ1Lju8P64C8a5U2FmapGnfvFkAZPSPqHjzT1u8w5wZE+jUk687dD6nvzuHypc9xePX/iki6/UqqfFsjHreNvT2oh9oVu/2XuoiUAgGxqdObDLxRbmNTPTvAcAEibDUSvnFfzt8wvXNKFnA/VNWr94RlJH2jMPEd1dkYfzUpdf3FWNZvsbEZcX/zfMUln1Pxd74ZHHwT/NjuliHw6e+J4lgfAGjW/0ixpTAvpQLSgz6eDki7pwqtbv9MAAADAQba5QOSSPJYXnpUnzz/P+lp+oC5JQ/dm0lO5gtMfKei7rHP/bTtBJqpIWJJeUM03tnGZfSS+FJT0kmpy5E9Phf1+RhSZlvTKC6rhn9ABAACArHa37HbVCZ1722eayhXUzO2gGi+dVfM2H9Ldbkn6Qr/PshowdgCrp7ldPkmfaiHH6sfYkr1SjFvuBkn/vMCCSQAAACCHXd6HKFVcYUx3fhtJTpc7qQuvbHcZtE81z/skzehLe2W18LAC74xt8/qlp+bYWUkR3fkkmOXdoMb+fkbSBTV+O32Gvv2SJN3R5L9krX0OAAAAON7ub8za0KwfNEhjvxjSzV/3Kfhml85+a+PTNvLtF7vkU0SBn97UgyeSFFfkk+s6+3KXhnd4SCT+2U2dNe+9VATel07ogk8KvnNJvSNBRVPdeBLU8F9f0pXPpMZ3z6s5PXPOq+ZXL8unoK7/8Ae6/vGXmXPiUX358U1d/2fGjrAfsQ8RSlv8X43/ZtR8r1tjWbZDAIqLfYgAu90PRGrUmb86Kc0GdOX9iC51ntBOlEFwv9ylwAlJH19R85965PE8q5qTAU1VBzTz68AOtJAS0ccfXtFUau+le9lGaIzjhl837Wl0tEtjkvRec459jjZ5fNVJXbrRpRo90Ac/ekl/8mzymD99SV1/80C+lwO6edFacMH98hUNv3tcikwp8P0XMuc8+yd64ftX9DkDR9iX2IcIpe3ffvuRpr6SInNDOn9jSjxyoqSwDxGwzh4EIqnmVJe6JMl3WSf/606t8K9R1z9+rqHek0a1Ot/zOvfubX1+77KOP7tDTUiSfDrx45/p5LckfeuM+k4Vb9eTmlcH9en/ua3Am816PllcoebFM7rwi0k9GL+s4xX2M9w6/pMZLUz16cKrx9NV/VLn3HyVcpvYj9iHCKWt8c9vKvBi8pdfBsU4JkoK+xAB6xyKxWJru91I/LPrOvlyQM9++IXuvEkJ6NIW0fDrNerSkBZKeF8mAChlD973qPk9ST+8rYW/PcPfpQCwKQ903dOsgAKaiV3W8V1owe3ODNK48hy3fYm4Fn57U70/CujBiwF92kkYAgAcYMn/7v3sQ0ny6cKr/As8AJS63QlEn12X52XTOh7fOQ3+3SU1Zp0tl0qAhTqjoce3dc4h+w8Vza+6VOPpSv8a+CSmyy/mOR4AHC4ycl41P8pUOT3+9pACp5yxeTgAbJf979C9tLsjRL7ndfLMj3XpnQtq5p/IAAAHne95NZ84r67/3qVzL/IfPgDYD/ZkDREAAAAAlArzGqI9qTIHAAAAAKWIQAQAAADAsQhEAAAAAByLQAQAAADAsQhEAAAAAByLQAQAAADAsQ6tra1RdhsAAACAIzFCBAAAAMCxCEQAAAAAHItABAAAAMCxCEQAAAAAHItABAAAAMCxXMXuAErP0yP+YncBAErac1+Hit0FAMAOoew2LAhDAFCYnQ5Fh25FdvR6ALAfrL3hK3YXmDIHAECxEYYAOFUp/P1HIAIAAADgWAQiWDAvHgA2xt+VAHBwsIYIAIASUArTRgBgr5XCGiICEQAAAADHYsocAAAAAMciEAEAAABwLAIRAAAAAMciEAEAAABwLAIRAAAAAMciEAEAAABwLAIRAAAAAMciEAEAAABwLAIRAAAAAMciEAEAAABwLAIRAAAAAMciEAEAAABwLAIRAAAAAMciEAEAAABwLAIRAABAqVmMq/NWRIduRXTo1hNdWyx2h4CDi0AEAABQclb1qNhdAByCQAQAAADAsQhEAAAAAByLQAQAAADAsVzF7gAAAMC+sxjXtdlljYYTmku9VulSR4NXV6tdqrMcnNBc+I+6NhvX6GIi83KlSx3Vh3X1m27VVRbe9Fw4qvr78eQ1KvTw9GFTewmN3n+izrDxW11jlR42JB/3wlEdSp5nvC6Nzi7rWjCe/gx11RUabkpeL/kZA+FUn13qaPJqpNr6+GjuT0eTTyPVCY3ej+pa+t641NF4WFcb3Lb7ImkxodFZ87Gm+5LteGAXEIgAAAA2IxkA5uyvLxphRE0+jVSnXoyr825Uo9mqxC0mNLoY1WhwWR1NVaZzNhBN5H37UbSAayz+UZ13l9b1ay68pPq70khDQtfWfUbj89WbQ5a9P9Fl1d9aWn9e0LgHa01uUx+WVX/XfqzS9+WRXNZ2gF3ClDkAAIBCLS5nD0Mmj9IBIaFrucKQhTGiMrozPSzIXHh9GEpbXFJnns84F1zO2dfRYJaAkxJetpQPH53NcyywhwhEAAAABbI/xHc0VWntDZ/W3vDpYVOFOiqlY97UFLVlBUwBoK7aq4fJY9feqLJNPYvr2mz+kZ+d50r3/2FTxfrpaZVujZxO9rXR2tfRcP7rBk4n70mjaURICY3+e+ozmq/hUkeTL30f10571VHJyBD2DoEIwNbMDyh6xK+nR/x62j0pKaRYd5vx+5E2xcbtJ4S0Oj6gpZbUMcmfljYt9U1qdd569Gqf6bjuSa0q//t2K92ZNqJ9IVO/Q1rpbsv03dyHHbgtAA6yhHU6WrV1PU1d9WGNnM5MlxsNxzPHVlZouMm8JsZYjxMwrR2aC/9xD0dMXAqczoSyuurDumqZsufWyGmvOiqTfW04rI5NXPdq8nPVNRy2fEbzcZl1UwmNzi5nRqwq3Ro5XcV0OewZAhGAHfBYsZY2xcZTwSNkCxeTWmppU7S7XyvzIeup8yGt3OhRtKVNS6YQVeY/mvll3B5WQloZD1neX7G1t2K5lj/Z1kCyHVv/kn1Y6rP1DQAsEpozjfh0VLtzH2oLT3XVz2QpEODSa+ZRosXEHm7G6tKxfIUcqp+xBSBXYYUfKt16raACEfbPvqTOuxEdumsUWAD2EoEIwPaN9ys2n+vNkGItPVrJ+X7muJXunkywaW9Vefo9a8CRHttGlGy/zz82BZ5Wlbcbf1rp62cUCMDWLa5uIrBYw1N6Gh3S6hqq9LDRdl8W4wrcf6JDBa29AnYGgQjAjikfnNBzX4f03PSEKpIhROMDlrBU1t4v79ch47ivJ1TR7jddYVKx9CjNUZXVZt5ZuWeaFrduRCiklXuZ0Z3Ve6YRpVq/ypLXzoQqv8oHU30I6bnpfpXXmvsBADvr0QaV4SRJlS4d2/2ulJS6hqrkGiVbie3FuDp/s0zRBewJAhGAHVH2lincmMKFJcjU9qhisDUZUCQjmNyUxxR8VsenkmHGr3JzWDKN+qyGHq9rf3X+senPmXBU1n4y2Z45YIW00jeQGbWqbVXF9IS8vYQiAHlUllkCS/6QY51iln19UEL/ZJ4e5i3b/L47ezrNbrcY+zc9fMOnh5ay3HH9E6NE2AMEIgA7wK/yU9nCRMgylS0TTmznWoJPZn1P2SlTeJqfTAYY0/qh2laVp0JOetTINhKU7pe9nX4ttfj1tKXHtPYJAPJxq8NUeGAuGFWnKdDMLcbVeTei+tmEsq2ROTdrLmVtlNoOFLwmKaPOm6M63WJcnXefWK5ZuuLqvPXEKGFursTntW9qC+w+JrQC2EXWtT3p4gaFqj2p8trU+iRjWpynNnPNsvaLKk8HJSMIldea1g+ZA5Okst4JedWm6A1z1blJxbonFetrVcVgv+V4ALDrqHZL6epxxkalh2zH1CVDU13DYXUEM/sLzQWjqg/m2DW1ssJW5S2PZGhIhau54BMdChb6CUpJQnPhqOrDue5JoQUagO1hhAjAnlkNFTASk17zI0l+yzqi1fnHlvVDZX6/yk+1Wq5vXT90dN2IVFnvhLF26a1W63vzk1rqHqDoAoD8qr3rCwHk5NZIk3vjEY9Kt0ZOHy58ZKTSXiLbzKVAY2EjTaXNKPXNaBH2AoEIwC6yFkbIrA8ys5XQtoUYc+DR+KRi6fVDyepxpmp0q+NTlrLelnMt/CrvNYo7eAdNx6RHmwAgt7qGquQmrNZgVFdpbHQ6bN4/p9qrh6eTRQNsox11lW4Fmqr08LQ3yx4/ZXkLLHQ0GZuemgNDXXWFRk5X6ao311kbTEfb6maoeSvouXQsa3+MfY4C1fY+udKfY6TQETNgmw6tra2tFbsTAPah+QFFW/rTBRA80xOW4ggpq33WKWplb/Wrojc1OhPSSvclLZkCUflgKFOhTpI0qaUjPbaqcpJqe+SdvqgyhYw9kNYFmVZVfN1vKd29dGRAq+0XjfZTfS3wcwAAgIOJNUQAdlVZ70WV38gEmtUbPYreyHFwbY887fYXjZEg6z5E5gINRrGE2A3bdDzL1LuUkFbHexQdX/dG8pxW1hABAOAwTJkDsMtabaW2c6htVcX0xazHlWXZI8hcoKHMf3T9+1kr2uXjV3lv9vYBAMDBRSACsAPWFy+waO+XdzpZyMA2AlNW2yrP4IS80+bpbbZjTrXa3kuuH0pfv9U2zS1bGfBWVUz3y9NuHznyq6y9RxXmzWQBAIBjsIYIAAAAgGMxQgQAAADAsQhEAAAAAByLQAQAAADAsQhEAAAAAByLQAQAAADAsQhEAAAAAByLQAQAAADAsQhEAAAAAByLQAQAAADAsQhEAAAAAByLQAQAAADAsQhEAAAAAByLQAQAAADAsQhEAAAAAByLQAQAAADAsQhEAAAAABzr/wOoEVlVviCGqwAAAABJRU5ErkJggg==)"
      ],
      "metadata": {
        "id": "bS8pdjJmnTqU"
      }
    },
    {
      "cell_type": "code",
      "source": [
        "# Get All Rows and All Columns\n",
        "my_df.iloc[             :             ,             :             ]"
      ],
      "metadata": {
        "colab": {
          "base_uri": "https://localhost:8080/",
          "height": 175
        },
        "id": "OVBwhRCHktbw",
        "outputId": "7048ef56-7bae-4ddf-902d-dc531989ce2a"
      },
      "execution_count": 22,
      "outputs": [
        {
          "output_type": "execute_result",
          "data": {
            "text/plain": [
              "        Name  Age  Country\n",
              "0       John   10      USA\n",
              "1       Mike   12  England\n",
              "2       Josh   14  Nigeria\n",
              "3  Elizabeth   94  England"
            ],
            "text/html": [
              "\n",
              "  <div id=\"df-cb4fd784-4c44-4414-9800-2873290ca1ba\">\n",
              "    <div class=\"colab-df-container\">\n",
              "      <div>\n",
              "<style scoped>\n",
              "    .dataframe tbody tr th:only-of-type {\n",
              "        vertical-align: middle;\n",
              "    }\n",
              "\n",
              "    .dataframe tbody tr th {\n",
              "        vertical-align: top;\n",
              "    }\n",
              "\n",
              "    .dataframe thead th {\n",
              "        text-align: right;\n",
              "    }\n",
              "</style>\n",
              "<table border=\"1\" class=\"dataframe\">\n",
              "  <thead>\n",
              "    <tr style=\"text-align: right;\">\n",
              "      <th></th>\n",
              "      <th>Name</th>\n",
              "      <th>Age</th>\n",
              "      <th>Country</th>\n",
              "    </tr>\n",
              "  </thead>\n",
              "  <tbody>\n",
              "    <tr>\n",
              "      <th>0</th>\n",
              "      <td>John</td>\n",
              "      <td>10</td>\n",
              "      <td>USA</td>\n",
              "    </tr>\n",
              "    <tr>\n",
              "      <th>1</th>\n",
              "      <td>Mike</td>\n",
              "      <td>12</td>\n",
              "      <td>England</td>\n",
              "    </tr>\n",
              "    <tr>\n",
              "      <th>2</th>\n",
              "      <td>Josh</td>\n",
              "      <td>14</td>\n",
              "      <td>Nigeria</td>\n",
              "    </tr>\n",
              "    <tr>\n",
              "      <th>3</th>\n",
              "      <td>Elizabeth</td>\n",
              "      <td>94</td>\n",
              "      <td>England</td>\n",
              "    </tr>\n",
              "  </tbody>\n",
              "</table>\n",
              "</div>\n",
              "      <button class=\"colab-df-convert\" onclick=\"convertToInteractive('df-cb4fd784-4c44-4414-9800-2873290ca1ba')\"\n",
              "              title=\"Convert this dataframe to an interactive table.\"\n",
              "              style=\"display:none;\">\n",
              "        \n",
              "  <svg xmlns=\"http://www.w3.org/2000/svg\" height=\"24px\"viewBox=\"0 0 24 24\"\n",
              "       width=\"24px\">\n",
              "    <path d=\"M0 0h24v24H0V0z\" fill=\"none\"/>\n",
              "    <path d=\"M18.56 5.44l.94 2.06.94-2.06 2.06-.94-2.06-.94-.94-2.06-.94 2.06-2.06.94zm-11 1L8.5 8.5l.94-2.06 2.06-.94-2.06-.94L8.5 2.5l-.94 2.06-2.06.94zm10 10l.94 2.06.94-2.06 2.06-.94-2.06-.94-.94-2.06-.94 2.06-2.06.94z\"/><path d=\"M17.41 7.96l-1.37-1.37c-.4-.4-.92-.59-1.43-.59-.52 0-1.04.2-1.43.59L10.3 9.45l-7.72 7.72c-.78.78-.78 2.05 0 2.83L4 21.41c.39.39.9.59 1.41.59.51 0 1.02-.2 1.41-.59l7.78-7.78 2.81-2.81c.8-.78.8-2.07 0-2.86zM5.41 20L4 18.59l7.72-7.72 1.47 1.35L5.41 20z\"/>\n",
              "  </svg>\n",
              "      </button>\n",
              "      \n",
              "  <style>\n",
              "    .colab-df-container {\n",
              "      display:flex;\n",
              "      flex-wrap:wrap;\n",
              "      gap: 12px;\n",
              "    }\n",
              "\n",
              "    .colab-df-convert {\n",
              "      background-color: #E8F0FE;\n",
              "      border: none;\n",
              "      border-radius: 50%;\n",
              "      cursor: pointer;\n",
              "      display: none;\n",
              "      fill: #1967D2;\n",
              "      height: 32px;\n",
              "      padding: 0 0 0 0;\n",
              "      width: 32px;\n",
              "    }\n",
              "\n",
              "    .colab-df-convert:hover {\n",
              "      background-color: #E2EBFA;\n",
              "      box-shadow: 0px 1px 2px rgba(60, 64, 67, 0.3), 0px 1px 3px 1px rgba(60, 64, 67, 0.15);\n",
              "      fill: #174EA6;\n",
              "    }\n",
              "\n",
              "    [theme=dark] .colab-df-convert {\n",
              "      background-color: #3B4455;\n",
              "      fill: #D2E3FC;\n",
              "    }\n",
              "\n",
              "    [theme=dark] .colab-df-convert:hover {\n",
              "      background-color: #434B5C;\n",
              "      box-shadow: 0px 1px 3px 1px rgba(0, 0, 0, 0.15);\n",
              "      filter: drop-shadow(0px 1px 2px rgba(0, 0, 0, 0.3));\n",
              "      fill: #FFFFFF;\n",
              "    }\n",
              "  </style>\n",
              "\n",
              "      <script>\n",
              "        const buttonEl =\n",
              "          document.querySelector('#df-cb4fd784-4c44-4414-9800-2873290ca1ba button.colab-df-convert');\n",
              "        buttonEl.style.display =\n",
              "          google.colab.kernel.accessAllowed ? 'block' : 'none';\n",
              "\n",
              "        async function convertToInteractive(key) {\n",
              "          const element = document.querySelector('#df-cb4fd784-4c44-4414-9800-2873290ca1ba');\n",
              "          const dataTable =\n",
              "            await google.colab.kernel.invokeFunction('convertToInteractive',\n",
              "                                                     [key], {});\n",
              "          if (!dataTable) return;\n",
              "\n",
              "          const docLinkHtml = 'Like what you see? Visit the ' +\n",
              "            '<a target=\"_blank\" href=https://colab.research.google.com/notebooks/data_table.ipynb>data table notebook</a>'\n",
              "            + ' to learn more about interactive tables.';\n",
              "          element.innerHTML = '';\n",
              "          dataTable['output_type'] = 'display_data';\n",
              "          await google.colab.output.renderOutput(dataTable, element);\n",
              "          const docLink = document.createElement('div');\n",
              "          docLink.innerHTML = docLinkHtml;\n",
              "          element.appendChild(docLink);\n",
              "        }\n",
              "      </script>\n",
              "    </div>\n",
              "  </div>\n",
              "  "
            ]
          },
          "metadata": {},
          "execution_count": 22
        }
      ]
    },
    {
      "cell_type": "code",
      "source": [
        "# Get All rows, starting at 1, and all columns\n",
        "my_df.iloc[      1       :             ,             :             ]"
      ],
      "metadata": {
        "colab": {
          "base_uri": "https://localhost:8080/",
          "height": 143
        },
        "id": "06AHErTNnwsr",
        "outputId": "6fc6016c-439c-419c-8485-425cdcd66006"
      },
      "execution_count": 23,
      "outputs": [
        {
          "output_type": "execute_result",
          "data": {
            "text/plain": [
              "        Name  Age  Country\n",
              "1       Mike   12  England\n",
              "2       Josh   14  Nigeria\n",
              "3  Elizabeth   94  England"
            ],
            "text/html": [
              "\n",
              "  <div id=\"df-f3ec4f4f-2c19-4b93-a532-e63e240ebc8a\">\n",
              "    <div class=\"colab-df-container\">\n",
              "      <div>\n",
              "<style scoped>\n",
              "    .dataframe tbody tr th:only-of-type {\n",
              "        vertical-align: middle;\n",
              "    }\n",
              "\n",
              "    .dataframe tbody tr th {\n",
              "        vertical-align: top;\n",
              "    }\n",
              "\n",
              "    .dataframe thead th {\n",
              "        text-align: right;\n",
              "    }\n",
              "</style>\n",
              "<table border=\"1\" class=\"dataframe\">\n",
              "  <thead>\n",
              "    <tr style=\"text-align: right;\">\n",
              "      <th></th>\n",
              "      <th>Name</th>\n",
              "      <th>Age</th>\n",
              "      <th>Country</th>\n",
              "    </tr>\n",
              "  </thead>\n",
              "  <tbody>\n",
              "    <tr>\n",
              "      <th>1</th>\n",
              "      <td>Mike</td>\n",
              "      <td>12</td>\n",
              "      <td>England</td>\n",
              "    </tr>\n",
              "    <tr>\n",
              "      <th>2</th>\n",
              "      <td>Josh</td>\n",
              "      <td>14</td>\n",
              "      <td>Nigeria</td>\n",
              "    </tr>\n",
              "    <tr>\n",
              "      <th>3</th>\n",
              "      <td>Elizabeth</td>\n",
              "      <td>94</td>\n",
              "      <td>England</td>\n",
              "    </tr>\n",
              "  </tbody>\n",
              "</table>\n",
              "</div>\n",
              "      <button class=\"colab-df-convert\" onclick=\"convertToInteractive('df-f3ec4f4f-2c19-4b93-a532-e63e240ebc8a')\"\n",
              "              title=\"Convert this dataframe to an interactive table.\"\n",
              "              style=\"display:none;\">\n",
              "        \n",
              "  <svg xmlns=\"http://www.w3.org/2000/svg\" height=\"24px\"viewBox=\"0 0 24 24\"\n",
              "       width=\"24px\">\n",
              "    <path d=\"M0 0h24v24H0V0z\" fill=\"none\"/>\n",
              "    <path d=\"M18.56 5.44l.94 2.06.94-2.06 2.06-.94-2.06-.94-.94-2.06-.94 2.06-2.06.94zm-11 1L8.5 8.5l.94-2.06 2.06-.94-2.06-.94L8.5 2.5l-.94 2.06-2.06.94zm10 10l.94 2.06.94-2.06 2.06-.94-2.06-.94-.94-2.06-.94 2.06-2.06.94z\"/><path d=\"M17.41 7.96l-1.37-1.37c-.4-.4-.92-.59-1.43-.59-.52 0-1.04.2-1.43.59L10.3 9.45l-7.72 7.72c-.78.78-.78 2.05 0 2.83L4 21.41c.39.39.9.59 1.41.59.51 0 1.02-.2 1.41-.59l7.78-7.78 2.81-2.81c.8-.78.8-2.07 0-2.86zM5.41 20L4 18.59l7.72-7.72 1.47 1.35L5.41 20z\"/>\n",
              "  </svg>\n",
              "      </button>\n",
              "      \n",
              "  <style>\n",
              "    .colab-df-container {\n",
              "      display:flex;\n",
              "      flex-wrap:wrap;\n",
              "      gap: 12px;\n",
              "    }\n",
              "\n",
              "    .colab-df-convert {\n",
              "      background-color: #E8F0FE;\n",
              "      border: none;\n",
              "      border-radius: 50%;\n",
              "      cursor: pointer;\n",
              "      display: none;\n",
              "      fill: #1967D2;\n",
              "      height: 32px;\n",
              "      padding: 0 0 0 0;\n",
              "      width: 32px;\n",
              "    }\n",
              "\n",
              "    .colab-df-convert:hover {\n",
              "      background-color: #E2EBFA;\n",
              "      box-shadow: 0px 1px 2px rgba(60, 64, 67, 0.3), 0px 1px 3px 1px rgba(60, 64, 67, 0.15);\n",
              "      fill: #174EA6;\n",
              "    }\n",
              "\n",
              "    [theme=dark] .colab-df-convert {\n",
              "      background-color: #3B4455;\n",
              "      fill: #D2E3FC;\n",
              "    }\n",
              "\n",
              "    [theme=dark] .colab-df-convert:hover {\n",
              "      background-color: #434B5C;\n",
              "      box-shadow: 0px 1px 3px 1px rgba(0, 0, 0, 0.15);\n",
              "      filter: drop-shadow(0px 1px 2px rgba(0, 0, 0, 0.3));\n",
              "      fill: #FFFFFF;\n",
              "    }\n",
              "  </style>\n",
              "\n",
              "      <script>\n",
              "        const buttonEl =\n",
              "          document.querySelector('#df-f3ec4f4f-2c19-4b93-a532-e63e240ebc8a button.colab-df-convert');\n",
              "        buttonEl.style.display =\n",
              "          google.colab.kernel.accessAllowed ? 'block' : 'none';\n",
              "\n",
              "        async function convertToInteractive(key) {\n",
              "          const element = document.querySelector('#df-f3ec4f4f-2c19-4b93-a532-e63e240ebc8a');\n",
              "          const dataTable =\n",
              "            await google.colab.kernel.invokeFunction('convertToInteractive',\n",
              "                                                     [key], {});\n",
              "          if (!dataTable) return;\n",
              "\n",
              "          const docLinkHtml = 'Like what you see? Visit the ' +\n",
              "            '<a target=\"_blank\" href=https://colab.research.google.com/notebooks/data_table.ipynb>data table notebook</a>'\n",
              "            + ' to learn more about interactive tables.';\n",
              "          element.innerHTML = '';\n",
              "          dataTable['output_type'] = 'display_data';\n",
              "          await google.colab.output.renderOutput(dataTable, element);\n",
              "          const docLink = document.createElement('div');\n",
              "          docLink.innerHTML = docLinkHtml;\n",
              "          element.appendChild(docLink);\n",
              "        }\n",
              "      </script>\n",
              "    </div>\n",
              "  </div>\n",
              "  "
            ]
          },
          "metadata": {},
          "execution_count": 23
        }
      ]
    },
    {
      "cell_type": "code",
      "source": [
        "# Get All rows, starting at 2, and all columns\n",
        "my_df.iloc[      2       :             ,             :             ]"
      ],
      "metadata": {
        "colab": {
          "base_uri": "https://localhost:8080/",
          "height": 112
        },
        "id": "sl6N6CkFn_tA",
        "outputId": "bae00990-fd0a-4a82-db4e-c850bec43ad7"
      },
      "execution_count": 24,
      "outputs": [
        {
          "output_type": "execute_result",
          "data": {
            "text/plain": [
              "        Name  Age  Country\n",
              "2       Josh   14  Nigeria\n",
              "3  Elizabeth   94  England"
            ],
            "text/html": [
              "\n",
              "  <div id=\"df-da1ceefa-bc71-4067-8a19-bdfb1cfa3bc7\">\n",
              "    <div class=\"colab-df-container\">\n",
              "      <div>\n",
              "<style scoped>\n",
              "    .dataframe tbody tr th:only-of-type {\n",
              "        vertical-align: middle;\n",
              "    }\n",
              "\n",
              "    .dataframe tbody tr th {\n",
              "        vertical-align: top;\n",
              "    }\n",
              "\n",
              "    .dataframe thead th {\n",
              "        text-align: right;\n",
              "    }\n",
              "</style>\n",
              "<table border=\"1\" class=\"dataframe\">\n",
              "  <thead>\n",
              "    <tr style=\"text-align: right;\">\n",
              "      <th></th>\n",
              "      <th>Name</th>\n",
              "      <th>Age</th>\n",
              "      <th>Country</th>\n",
              "    </tr>\n",
              "  </thead>\n",
              "  <tbody>\n",
              "    <tr>\n",
              "      <th>2</th>\n",
              "      <td>Josh</td>\n",
              "      <td>14</td>\n",
              "      <td>Nigeria</td>\n",
              "    </tr>\n",
              "    <tr>\n",
              "      <th>3</th>\n",
              "      <td>Elizabeth</td>\n",
              "      <td>94</td>\n",
              "      <td>England</td>\n",
              "    </tr>\n",
              "  </tbody>\n",
              "</table>\n",
              "</div>\n",
              "      <button class=\"colab-df-convert\" onclick=\"convertToInteractive('df-da1ceefa-bc71-4067-8a19-bdfb1cfa3bc7')\"\n",
              "              title=\"Convert this dataframe to an interactive table.\"\n",
              "              style=\"display:none;\">\n",
              "        \n",
              "  <svg xmlns=\"http://www.w3.org/2000/svg\" height=\"24px\"viewBox=\"0 0 24 24\"\n",
              "       width=\"24px\">\n",
              "    <path d=\"M0 0h24v24H0V0z\" fill=\"none\"/>\n",
              "    <path d=\"M18.56 5.44l.94 2.06.94-2.06 2.06-.94-2.06-.94-.94-2.06-.94 2.06-2.06.94zm-11 1L8.5 8.5l.94-2.06 2.06-.94-2.06-.94L8.5 2.5l-.94 2.06-2.06.94zm10 10l.94 2.06.94-2.06 2.06-.94-2.06-.94-.94-2.06-.94 2.06-2.06.94z\"/><path d=\"M17.41 7.96l-1.37-1.37c-.4-.4-.92-.59-1.43-.59-.52 0-1.04.2-1.43.59L10.3 9.45l-7.72 7.72c-.78.78-.78 2.05 0 2.83L4 21.41c.39.39.9.59 1.41.59.51 0 1.02-.2 1.41-.59l7.78-7.78 2.81-2.81c.8-.78.8-2.07 0-2.86zM5.41 20L4 18.59l7.72-7.72 1.47 1.35L5.41 20z\"/>\n",
              "  </svg>\n",
              "      </button>\n",
              "      \n",
              "  <style>\n",
              "    .colab-df-container {\n",
              "      display:flex;\n",
              "      flex-wrap:wrap;\n",
              "      gap: 12px;\n",
              "    }\n",
              "\n",
              "    .colab-df-convert {\n",
              "      background-color: #E8F0FE;\n",
              "      border: none;\n",
              "      border-radius: 50%;\n",
              "      cursor: pointer;\n",
              "      display: none;\n",
              "      fill: #1967D2;\n",
              "      height: 32px;\n",
              "      padding: 0 0 0 0;\n",
              "      width: 32px;\n",
              "    }\n",
              "\n",
              "    .colab-df-convert:hover {\n",
              "      background-color: #E2EBFA;\n",
              "      box-shadow: 0px 1px 2px rgba(60, 64, 67, 0.3), 0px 1px 3px 1px rgba(60, 64, 67, 0.15);\n",
              "      fill: #174EA6;\n",
              "    }\n",
              "\n",
              "    [theme=dark] .colab-df-convert {\n",
              "      background-color: #3B4455;\n",
              "      fill: #D2E3FC;\n",
              "    }\n",
              "\n",
              "    [theme=dark] .colab-df-convert:hover {\n",
              "      background-color: #434B5C;\n",
              "      box-shadow: 0px 1px 3px 1px rgba(0, 0, 0, 0.15);\n",
              "      filter: drop-shadow(0px 1px 2px rgba(0, 0, 0, 0.3));\n",
              "      fill: #FFFFFF;\n",
              "    }\n",
              "  </style>\n",
              "\n",
              "      <script>\n",
              "        const buttonEl =\n",
              "          document.querySelector('#df-da1ceefa-bc71-4067-8a19-bdfb1cfa3bc7 button.colab-df-convert');\n",
              "        buttonEl.style.display =\n",
              "          google.colab.kernel.accessAllowed ? 'block' : 'none';\n",
              "\n",
              "        async function convertToInteractive(key) {\n",
              "          const element = document.querySelector('#df-da1ceefa-bc71-4067-8a19-bdfb1cfa3bc7');\n",
              "          const dataTable =\n",
              "            await google.colab.kernel.invokeFunction('convertToInteractive',\n",
              "                                                     [key], {});\n",
              "          if (!dataTable) return;\n",
              "\n",
              "          const docLinkHtml = 'Like what you see? Visit the ' +\n",
              "            '<a target=\"_blank\" href=https://colab.research.google.com/notebooks/data_table.ipynb>data table notebook</a>'\n",
              "            + ' to learn more about interactive tables.';\n",
              "          element.innerHTML = '';\n",
              "          dataTable['output_type'] = 'display_data';\n",
              "          await google.colab.output.renderOutput(dataTable, element);\n",
              "          const docLink = document.createElement('div');\n",
              "          docLink.innerHTML = docLinkHtml;\n",
              "          element.appendChild(docLink);\n",
              "        }\n",
              "      </script>\n",
              "    </div>\n",
              "  </div>\n",
              "  "
            ]
          },
          "metadata": {},
          "execution_count": 24
        }
      ]
    },
    {
      "cell_type": "code",
      "source": [
        "# Get All rows and all columns starting at column 1\n",
        "my_df.iloc[             :             ,      1       :             ]"
      ],
      "metadata": {
        "colab": {
          "base_uri": "https://localhost:8080/",
          "height": 175
        },
        "id": "eVNajKhfoDlK",
        "outputId": "55d69c30-4e0d-40cf-df12-ad77a882e598"
      },
      "execution_count": 25,
      "outputs": [
        {
          "output_type": "execute_result",
          "data": {
            "text/plain": [
              "   Age  Country\n",
              "0   10      USA\n",
              "1   12  England\n",
              "2   14  Nigeria\n",
              "3   94  England"
            ],
            "text/html": [
              "\n",
              "  <div id=\"df-ff8579b9-22d4-4d68-9478-e81fb914d9d2\">\n",
              "    <div class=\"colab-df-container\">\n",
              "      <div>\n",
              "<style scoped>\n",
              "    .dataframe tbody tr th:only-of-type {\n",
              "        vertical-align: middle;\n",
              "    }\n",
              "\n",
              "    .dataframe tbody tr th {\n",
              "        vertical-align: top;\n",
              "    }\n",
              "\n",
              "    .dataframe thead th {\n",
              "        text-align: right;\n",
              "    }\n",
              "</style>\n",
              "<table border=\"1\" class=\"dataframe\">\n",
              "  <thead>\n",
              "    <tr style=\"text-align: right;\">\n",
              "      <th></th>\n",
              "      <th>Age</th>\n",
              "      <th>Country</th>\n",
              "    </tr>\n",
              "  </thead>\n",
              "  <tbody>\n",
              "    <tr>\n",
              "      <th>0</th>\n",
              "      <td>10</td>\n",
              "      <td>USA</td>\n",
              "    </tr>\n",
              "    <tr>\n",
              "      <th>1</th>\n",
              "      <td>12</td>\n",
              "      <td>England</td>\n",
              "    </tr>\n",
              "    <tr>\n",
              "      <th>2</th>\n",
              "      <td>14</td>\n",
              "      <td>Nigeria</td>\n",
              "    </tr>\n",
              "    <tr>\n",
              "      <th>3</th>\n",
              "      <td>94</td>\n",
              "      <td>England</td>\n",
              "    </tr>\n",
              "  </tbody>\n",
              "</table>\n",
              "</div>\n",
              "      <button class=\"colab-df-convert\" onclick=\"convertToInteractive('df-ff8579b9-22d4-4d68-9478-e81fb914d9d2')\"\n",
              "              title=\"Convert this dataframe to an interactive table.\"\n",
              "              style=\"display:none;\">\n",
              "        \n",
              "  <svg xmlns=\"http://www.w3.org/2000/svg\" height=\"24px\"viewBox=\"0 0 24 24\"\n",
              "       width=\"24px\">\n",
              "    <path d=\"M0 0h24v24H0V0z\" fill=\"none\"/>\n",
              "    <path d=\"M18.56 5.44l.94 2.06.94-2.06 2.06-.94-2.06-.94-.94-2.06-.94 2.06-2.06.94zm-11 1L8.5 8.5l.94-2.06 2.06-.94-2.06-.94L8.5 2.5l-.94 2.06-2.06.94zm10 10l.94 2.06.94-2.06 2.06-.94-2.06-.94-.94-2.06-.94 2.06-2.06.94z\"/><path d=\"M17.41 7.96l-1.37-1.37c-.4-.4-.92-.59-1.43-.59-.52 0-1.04.2-1.43.59L10.3 9.45l-7.72 7.72c-.78.78-.78 2.05 0 2.83L4 21.41c.39.39.9.59 1.41.59.51 0 1.02-.2 1.41-.59l7.78-7.78 2.81-2.81c.8-.78.8-2.07 0-2.86zM5.41 20L4 18.59l7.72-7.72 1.47 1.35L5.41 20z\"/>\n",
              "  </svg>\n",
              "      </button>\n",
              "      \n",
              "  <style>\n",
              "    .colab-df-container {\n",
              "      display:flex;\n",
              "      flex-wrap:wrap;\n",
              "      gap: 12px;\n",
              "    }\n",
              "\n",
              "    .colab-df-convert {\n",
              "      background-color: #E8F0FE;\n",
              "      border: none;\n",
              "      border-radius: 50%;\n",
              "      cursor: pointer;\n",
              "      display: none;\n",
              "      fill: #1967D2;\n",
              "      height: 32px;\n",
              "      padding: 0 0 0 0;\n",
              "      width: 32px;\n",
              "    }\n",
              "\n",
              "    .colab-df-convert:hover {\n",
              "      background-color: #E2EBFA;\n",
              "      box-shadow: 0px 1px 2px rgba(60, 64, 67, 0.3), 0px 1px 3px 1px rgba(60, 64, 67, 0.15);\n",
              "      fill: #174EA6;\n",
              "    }\n",
              "\n",
              "    [theme=dark] .colab-df-convert {\n",
              "      background-color: #3B4455;\n",
              "      fill: #D2E3FC;\n",
              "    }\n",
              "\n",
              "    [theme=dark] .colab-df-convert:hover {\n",
              "      background-color: #434B5C;\n",
              "      box-shadow: 0px 1px 3px 1px rgba(0, 0, 0, 0.15);\n",
              "      filter: drop-shadow(0px 1px 2px rgba(0, 0, 0, 0.3));\n",
              "      fill: #FFFFFF;\n",
              "    }\n",
              "  </style>\n",
              "\n",
              "      <script>\n",
              "        const buttonEl =\n",
              "          document.querySelector('#df-ff8579b9-22d4-4d68-9478-e81fb914d9d2 button.colab-df-convert');\n",
              "        buttonEl.style.display =\n",
              "          google.colab.kernel.accessAllowed ? 'block' : 'none';\n",
              "\n",
              "        async function convertToInteractive(key) {\n",
              "          const element = document.querySelector('#df-ff8579b9-22d4-4d68-9478-e81fb914d9d2');\n",
              "          const dataTable =\n",
              "            await google.colab.kernel.invokeFunction('convertToInteractive',\n",
              "                                                     [key], {});\n",
              "          if (!dataTable) return;\n",
              "\n",
              "          const docLinkHtml = 'Like what you see? Visit the ' +\n",
              "            '<a target=\"_blank\" href=https://colab.research.google.com/notebooks/data_table.ipynb>data table notebook</a>'\n",
              "            + ' to learn more about interactive tables.';\n",
              "          element.innerHTML = '';\n",
              "          dataTable['output_type'] = 'display_data';\n",
              "          await google.colab.output.renderOutput(dataTable, element);\n",
              "          const docLink = document.createElement('div');\n",
              "          docLink.innerHTML = docLinkHtml;\n",
              "          element.appendChild(docLink);\n",
              "        }\n",
              "      </script>\n",
              "    </div>\n",
              "  </div>\n",
              "  "
            ]
          },
          "metadata": {},
          "execution_count": 25
        }
      ]
    },
    {
      "cell_type": "code",
      "source": [
        "# Get All rows and all columns starting at column 2\n",
        "my_df.iloc[             :             ,      2       :             ]"
      ],
      "metadata": {
        "colab": {
          "base_uri": "https://localhost:8080/",
          "height": 175
        },
        "id": "nrV0pceboYuY",
        "outputId": "ef27a847-4ace-4c2f-aca1-8c3776fcf8b3"
      },
      "execution_count": 26,
      "outputs": [
        {
          "output_type": "execute_result",
          "data": {
            "text/plain": [
              "   Country\n",
              "0      USA\n",
              "1  England\n",
              "2  Nigeria\n",
              "3  England"
            ],
            "text/html": [
              "\n",
              "  <div id=\"df-ca1baa57-b684-4eb3-bb96-aabb76e9659f\">\n",
              "    <div class=\"colab-df-container\">\n",
              "      <div>\n",
              "<style scoped>\n",
              "    .dataframe tbody tr th:only-of-type {\n",
              "        vertical-align: middle;\n",
              "    }\n",
              "\n",
              "    .dataframe tbody tr th {\n",
              "        vertical-align: top;\n",
              "    }\n",
              "\n",
              "    .dataframe thead th {\n",
              "        text-align: right;\n",
              "    }\n",
              "</style>\n",
              "<table border=\"1\" class=\"dataframe\">\n",
              "  <thead>\n",
              "    <tr style=\"text-align: right;\">\n",
              "      <th></th>\n",
              "      <th>Country</th>\n",
              "    </tr>\n",
              "  </thead>\n",
              "  <tbody>\n",
              "    <tr>\n",
              "      <th>0</th>\n",
              "      <td>USA</td>\n",
              "    </tr>\n",
              "    <tr>\n",
              "      <th>1</th>\n",
              "      <td>England</td>\n",
              "    </tr>\n",
              "    <tr>\n",
              "      <th>2</th>\n",
              "      <td>Nigeria</td>\n",
              "    </tr>\n",
              "    <tr>\n",
              "      <th>3</th>\n",
              "      <td>England</td>\n",
              "    </tr>\n",
              "  </tbody>\n",
              "</table>\n",
              "</div>\n",
              "      <button class=\"colab-df-convert\" onclick=\"convertToInteractive('df-ca1baa57-b684-4eb3-bb96-aabb76e9659f')\"\n",
              "              title=\"Convert this dataframe to an interactive table.\"\n",
              "              style=\"display:none;\">\n",
              "        \n",
              "  <svg xmlns=\"http://www.w3.org/2000/svg\" height=\"24px\"viewBox=\"0 0 24 24\"\n",
              "       width=\"24px\">\n",
              "    <path d=\"M0 0h24v24H0V0z\" fill=\"none\"/>\n",
              "    <path d=\"M18.56 5.44l.94 2.06.94-2.06 2.06-.94-2.06-.94-.94-2.06-.94 2.06-2.06.94zm-11 1L8.5 8.5l.94-2.06 2.06-.94-2.06-.94L8.5 2.5l-.94 2.06-2.06.94zm10 10l.94 2.06.94-2.06 2.06-.94-2.06-.94-.94-2.06-.94 2.06-2.06.94z\"/><path d=\"M17.41 7.96l-1.37-1.37c-.4-.4-.92-.59-1.43-.59-.52 0-1.04.2-1.43.59L10.3 9.45l-7.72 7.72c-.78.78-.78 2.05 0 2.83L4 21.41c.39.39.9.59 1.41.59.51 0 1.02-.2 1.41-.59l7.78-7.78 2.81-2.81c.8-.78.8-2.07 0-2.86zM5.41 20L4 18.59l7.72-7.72 1.47 1.35L5.41 20z\"/>\n",
              "  </svg>\n",
              "      </button>\n",
              "      \n",
              "  <style>\n",
              "    .colab-df-container {\n",
              "      display:flex;\n",
              "      flex-wrap:wrap;\n",
              "      gap: 12px;\n",
              "    }\n",
              "\n",
              "    .colab-df-convert {\n",
              "      background-color: #E8F0FE;\n",
              "      border: none;\n",
              "      border-radius: 50%;\n",
              "      cursor: pointer;\n",
              "      display: none;\n",
              "      fill: #1967D2;\n",
              "      height: 32px;\n",
              "      padding: 0 0 0 0;\n",
              "      width: 32px;\n",
              "    }\n",
              "\n",
              "    .colab-df-convert:hover {\n",
              "      background-color: #E2EBFA;\n",
              "      box-shadow: 0px 1px 2px rgba(60, 64, 67, 0.3), 0px 1px 3px 1px rgba(60, 64, 67, 0.15);\n",
              "      fill: #174EA6;\n",
              "    }\n",
              "\n",
              "    [theme=dark] .colab-df-convert {\n",
              "      background-color: #3B4455;\n",
              "      fill: #D2E3FC;\n",
              "    }\n",
              "\n",
              "    [theme=dark] .colab-df-convert:hover {\n",
              "      background-color: #434B5C;\n",
              "      box-shadow: 0px 1px 3px 1px rgba(0, 0, 0, 0.15);\n",
              "      filter: drop-shadow(0px 1px 2px rgba(0, 0, 0, 0.3));\n",
              "      fill: #FFFFFF;\n",
              "    }\n",
              "  </style>\n",
              "\n",
              "      <script>\n",
              "        const buttonEl =\n",
              "          document.querySelector('#df-ca1baa57-b684-4eb3-bb96-aabb76e9659f button.colab-df-convert');\n",
              "        buttonEl.style.display =\n",
              "          google.colab.kernel.accessAllowed ? 'block' : 'none';\n",
              "\n",
              "        async function convertToInteractive(key) {\n",
              "          const element = document.querySelector('#df-ca1baa57-b684-4eb3-bb96-aabb76e9659f');\n",
              "          const dataTable =\n",
              "            await google.colab.kernel.invokeFunction('convertToInteractive',\n",
              "                                                     [key], {});\n",
              "          if (!dataTable) return;\n",
              "\n",
              "          const docLinkHtml = 'Like what you see? Visit the ' +\n",
              "            '<a target=\"_blank\" href=https://colab.research.google.com/notebooks/data_table.ipynb>data table notebook</a>'\n",
              "            + ' to learn more about interactive tables.';\n",
              "          element.innerHTML = '';\n",
              "          dataTable['output_type'] = 'display_data';\n",
              "          await google.colab.output.renderOutput(dataTable, element);\n",
              "          const docLink = document.createElement('div');\n",
              "          docLink.innerHTML = docLinkHtml;\n",
              "          element.appendChild(docLink);\n",
              "        }\n",
              "      </script>\n",
              "    </div>\n",
              "  </div>\n",
              "  "
            ]
          },
          "metadata": {},
          "execution_count": 26
        }
      ]
    },
    {
      "cell_type": "code",
      "source": [
        "# Get All rows, but just the Fisrt (0) column\n",
        "my_df.iloc[ : , 0]"
      ],
      "metadata": {
        "colab": {
          "base_uri": "https://localhost:8080/"
        },
        "id": "A9erjav8ogjf",
        "outputId": "259938da-58d1-4f78-90e6-88a759145224"
      },
      "execution_count": 27,
      "outputs": [
        {
          "output_type": "execute_result",
          "data": {
            "text/plain": [
              "0         John\n",
              "1         Mike\n",
              "2         Josh\n",
              "3    Elizabeth\n",
              "Name: Name, dtype: object"
            ]
          },
          "metadata": {},
          "execution_count": 27
        }
      ]
    },
    {
      "cell_type": "code",
      "source": [
        "# Get All rows, but just last (-1) column\n",
        "my_df.iloc[ : ,-1 ]"
      ],
      "metadata": {
        "colab": {
          "base_uri": "https://localhost:8080/"
        },
        "id": "Jxc6PIXJorix",
        "outputId": "91d3aeee-43da-4e1d-8455-306bd3886581"
      },
      "execution_count": 28,
      "outputs": [
        {
          "output_type": "execute_result",
          "data": {
            "text/plain": [
              "0        USA\n",
              "1    England\n",
              "2    Nigeria\n",
              "3    England\n",
              "Name: Country, dtype: object"
            ]
          },
          "metadata": {},
          "execution_count": 28
        }
      ]
    },
    {
      "cell_type": "code",
      "source": [
        "# Get only the First row\n",
        "my_df.iloc[ 0:1 , : ]"
      ],
      "metadata": {
        "colab": {
          "base_uri": "https://localhost:8080/",
          "height": 81
        },
        "id": "pLgAkVcClKe2",
        "outputId": "77c86768-cf2d-475f-f1b0-63877c8010b2"
      },
      "execution_count": 29,
      "outputs": [
        {
          "output_type": "execute_result",
          "data": {
            "text/plain": [
              "   Name  Age Country\n",
              "0  John   10     USA"
            ],
            "text/html": [
              "\n",
              "  <div id=\"df-21edb9a2-f429-46a2-b032-b4e4ae74b566\">\n",
              "    <div class=\"colab-df-container\">\n",
              "      <div>\n",
              "<style scoped>\n",
              "    .dataframe tbody tr th:only-of-type {\n",
              "        vertical-align: middle;\n",
              "    }\n",
              "\n",
              "    .dataframe tbody tr th {\n",
              "        vertical-align: top;\n",
              "    }\n",
              "\n",
              "    .dataframe thead th {\n",
              "        text-align: right;\n",
              "    }\n",
              "</style>\n",
              "<table border=\"1\" class=\"dataframe\">\n",
              "  <thead>\n",
              "    <tr style=\"text-align: right;\">\n",
              "      <th></th>\n",
              "      <th>Name</th>\n",
              "      <th>Age</th>\n",
              "      <th>Country</th>\n",
              "    </tr>\n",
              "  </thead>\n",
              "  <tbody>\n",
              "    <tr>\n",
              "      <th>0</th>\n",
              "      <td>John</td>\n",
              "      <td>10</td>\n",
              "      <td>USA</td>\n",
              "    </tr>\n",
              "  </tbody>\n",
              "</table>\n",
              "</div>\n",
              "      <button class=\"colab-df-convert\" onclick=\"convertToInteractive('df-21edb9a2-f429-46a2-b032-b4e4ae74b566')\"\n",
              "              title=\"Convert this dataframe to an interactive table.\"\n",
              "              style=\"display:none;\">\n",
              "        \n",
              "  <svg xmlns=\"http://www.w3.org/2000/svg\" height=\"24px\"viewBox=\"0 0 24 24\"\n",
              "       width=\"24px\">\n",
              "    <path d=\"M0 0h24v24H0V0z\" fill=\"none\"/>\n",
              "    <path d=\"M18.56 5.44l.94 2.06.94-2.06 2.06-.94-2.06-.94-.94-2.06-.94 2.06-2.06.94zm-11 1L8.5 8.5l.94-2.06 2.06-.94-2.06-.94L8.5 2.5l-.94 2.06-2.06.94zm10 10l.94 2.06.94-2.06 2.06-.94-2.06-.94-.94-2.06-.94 2.06-2.06.94z\"/><path d=\"M17.41 7.96l-1.37-1.37c-.4-.4-.92-.59-1.43-.59-.52 0-1.04.2-1.43.59L10.3 9.45l-7.72 7.72c-.78.78-.78 2.05 0 2.83L4 21.41c.39.39.9.59 1.41.59.51 0 1.02-.2 1.41-.59l7.78-7.78 2.81-2.81c.8-.78.8-2.07 0-2.86zM5.41 20L4 18.59l7.72-7.72 1.47 1.35L5.41 20z\"/>\n",
              "  </svg>\n",
              "      </button>\n",
              "      \n",
              "  <style>\n",
              "    .colab-df-container {\n",
              "      display:flex;\n",
              "      flex-wrap:wrap;\n",
              "      gap: 12px;\n",
              "    }\n",
              "\n",
              "    .colab-df-convert {\n",
              "      background-color: #E8F0FE;\n",
              "      border: none;\n",
              "      border-radius: 50%;\n",
              "      cursor: pointer;\n",
              "      display: none;\n",
              "      fill: #1967D2;\n",
              "      height: 32px;\n",
              "      padding: 0 0 0 0;\n",
              "      width: 32px;\n",
              "    }\n",
              "\n",
              "    .colab-df-convert:hover {\n",
              "      background-color: #E2EBFA;\n",
              "      box-shadow: 0px 1px 2px rgba(60, 64, 67, 0.3), 0px 1px 3px 1px rgba(60, 64, 67, 0.15);\n",
              "      fill: #174EA6;\n",
              "    }\n",
              "\n",
              "    [theme=dark] .colab-df-convert {\n",
              "      background-color: #3B4455;\n",
              "      fill: #D2E3FC;\n",
              "    }\n",
              "\n",
              "    [theme=dark] .colab-df-convert:hover {\n",
              "      background-color: #434B5C;\n",
              "      box-shadow: 0px 1px 3px 1px rgba(0, 0, 0, 0.15);\n",
              "      filter: drop-shadow(0px 1px 2px rgba(0, 0, 0, 0.3));\n",
              "      fill: #FFFFFF;\n",
              "    }\n",
              "  </style>\n",
              "\n",
              "      <script>\n",
              "        const buttonEl =\n",
              "          document.querySelector('#df-21edb9a2-f429-46a2-b032-b4e4ae74b566 button.colab-df-convert');\n",
              "        buttonEl.style.display =\n",
              "          google.colab.kernel.accessAllowed ? 'block' : 'none';\n",
              "\n",
              "        async function convertToInteractive(key) {\n",
              "          const element = document.querySelector('#df-21edb9a2-f429-46a2-b032-b4e4ae74b566');\n",
              "          const dataTable =\n",
              "            await google.colab.kernel.invokeFunction('convertToInteractive',\n",
              "                                                     [key], {});\n",
              "          if (!dataTable) return;\n",
              "\n",
              "          const docLinkHtml = 'Like what you see? Visit the ' +\n",
              "            '<a target=\"_blank\" href=https://colab.research.google.com/notebooks/data_table.ipynb>data table notebook</a>'\n",
              "            + ' to learn more about interactive tables.';\n",
              "          element.innerHTML = '';\n",
              "          dataTable['output_type'] = 'display_data';\n",
              "          await google.colab.output.renderOutput(dataTable, element);\n",
              "          const docLink = document.createElement('div');\n",
              "          docLink.innerHTML = docLinkHtml;\n",
              "          element.appendChild(docLink);\n",
              "        }\n",
              "      </script>\n",
              "    </div>\n",
              "  </div>\n",
              "  "
            ]
          },
          "metadata": {},
          "execution_count": 29
        }
      ]
    },
    {
      "cell_type": "code",
      "source": [
        "# Get only the Last row\n",
        "my_df.iloc[ -1: , : ]"
      ],
      "metadata": {
        "colab": {
          "base_uri": "https://localhost:8080/",
          "height": 81
        },
        "id": "u0I22Oj9pYWa",
        "outputId": "af41df4e-6d68-45c9-b521-2c2890124791"
      },
      "execution_count": 30,
      "outputs": [
        {
          "output_type": "execute_result",
          "data": {
            "text/plain": [
              "        Name  Age  Country\n",
              "3  Elizabeth   94  England"
            ],
            "text/html": [
              "\n",
              "  <div id=\"df-bf5b1a9d-70d6-4348-bbd4-1aa2d94520fa\">\n",
              "    <div class=\"colab-df-container\">\n",
              "      <div>\n",
              "<style scoped>\n",
              "    .dataframe tbody tr th:only-of-type {\n",
              "        vertical-align: middle;\n",
              "    }\n",
              "\n",
              "    .dataframe tbody tr th {\n",
              "        vertical-align: top;\n",
              "    }\n",
              "\n",
              "    .dataframe thead th {\n",
              "        text-align: right;\n",
              "    }\n",
              "</style>\n",
              "<table border=\"1\" class=\"dataframe\">\n",
              "  <thead>\n",
              "    <tr style=\"text-align: right;\">\n",
              "      <th></th>\n",
              "      <th>Name</th>\n",
              "      <th>Age</th>\n",
              "      <th>Country</th>\n",
              "    </tr>\n",
              "  </thead>\n",
              "  <tbody>\n",
              "    <tr>\n",
              "      <th>3</th>\n",
              "      <td>Elizabeth</td>\n",
              "      <td>94</td>\n",
              "      <td>England</td>\n",
              "    </tr>\n",
              "  </tbody>\n",
              "</table>\n",
              "</div>\n",
              "      <button class=\"colab-df-convert\" onclick=\"convertToInteractive('df-bf5b1a9d-70d6-4348-bbd4-1aa2d94520fa')\"\n",
              "              title=\"Convert this dataframe to an interactive table.\"\n",
              "              style=\"display:none;\">\n",
              "        \n",
              "  <svg xmlns=\"http://www.w3.org/2000/svg\" height=\"24px\"viewBox=\"0 0 24 24\"\n",
              "       width=\"24px\">\n",
              "    <path d=\"M0 0h24v24H0V0z\" fill=\"none\"/>\n",
              "    <path d=\"M18.56 5.44l.94 2.06.94-2.06 2.06-.94-2.06-.94-.94-2.06-.94 2.06-2.06.94zm-11 1L8.5 8.5l.94-2.06 2.06-.94-2.06-.94L8.5 2.5l-.94 2.06-2.06.94zm10 10l.94 2.06.94-2.06 2.06-.94-2.06-.94-.94-2.06-.94 2.06-2.06.94z\"/><path d=\"M17.41 7.96l-1.37-1.37c-.4-.4-.92-.59-1.43-.59-.52 0-1.04.2-1.43.59L10.3 9.45l-7.72 7.72c-.78.78-.78 2.05 0 2.83L4 21.41c.39.39.9.59 1.41.59.51 0 1.02-.2 1.41-.59l7.78-7.78 2.81-2.81c.8-.78.8-2.07 0-2.86zM5.41 20L4 18.59l7.72-7.72 1.47 1.35L5.41 20z\"/>\n",
              "  </svg>\n",
              "      </button>\n",
              "      \n",
              "  <style>\n",
              "    .colab-df-container {\n",
              "      display:flex;\n",
              "      flex-wrap:wrap;\n",
              "      gap: 12px;\n",
              "    }\n",
              "\n",
              "    .colab-df-convert {\n",
              "      background-color: #E8F0FE;\n",
              "      border: none;\n",
              "      border-radius: 50%;\n",
              "      cursor: pointer;\n",
              "      display: none;\n",
              "      fill: #1967D2;\n",
              "      height: 32px;\n",
              "      padding: 0 0 0 0;\n",
              "      width: 32px;\n",
              "    }\n",
              "\n",
              "    .colab-df-convert:hover {\n",
              "      background-color: #E2EBFA;\n",
              "      box-shadow: 0px 1px 2px rgba(60, 64, 67, 0.3), 0px 1px 3px 1px rgba(60, 64, 67, 0.15);\n",
              "      fill: #174EA6;\n",
              "    }\n",
              "\n",
              "    [theme=dark] .colab-df-convert {\n",
              "      background-color: #3B4455;\n",
              "      fill: #D2E3FC;\n",
              "    }\n",
              "\n",
              "    [theme=dark] .colab-df-convert:hover {\n",
              "      background-color: #434B5C;\n",
              "      box-shadow: 0px 1px 3px 1px rgba(0, 0, 0, 0.15);\n",
              "      filter: drop-shadow(0px 1px 2px rgba(0, 0, 0, 0.3));\n",
              "      fill: #FFFFFF;\n",
              "    }\n",
              "  </style>\n",
              "\n",
              "      <script>\n",
              "        const buttonEl =\n",
              "          document.querySelector('#df-bf5b1a9d-70d6-4348-bbd4-1aa2d94520fa button.colab-df-convert');\n",
              "        buttonEl.style.display =\n",
              "          google.colab.kernel.accessAllowed ? 'block' : 'none';\n",
              "\n",
              "        async function convertToInteractive(key) {\n",
              "          const element = document.querySelector('#df-bf5b1a9d-70d6-4348-bbd4-1aa2d94520fa');\n",
              "          const dataTable =\n",
              "            await google.colab.kernel.invokeFunction('convertToInteractive',\n",
              "                                                     [key], {});\n",
              "          if (!dataTable) return;\n",
              "\n",
              "          const docLinkHtml = 'Like what you see? Visit the ' +\n",
              "            '<a target=\"_blank\" href=https://colab.research.google.com/notebooks/data_table.ipynb>data table notebook</a>'\n",
              "            + ' to learn more about interactive tables.';\n",
              "          element.innerHTML = '';\n",
              "          dataTable['output_type'] = 'display_data';\n",
              "          await google.colab.output.renderOutput(dataTable, element);\n",
              "          const docLink = document.createElement('div');\n",
              "          docLink.innerHTML = docLinkHtml;\n",
              "          element.appendChild(docLink);\n",
              "        }\n",
              "      </script>\n",
              "    </div>\n",
              "  </div>\n",
              "  "
            ]
          },
          "metadata": {},
          "execution_count": 30
        }
      ]
    },
    {
      "cell_type": "markdown",
      "source": [
        "## Split the Dataframe into Features and Labels"
      ],
      "metadata": {
        "id": "bty-3yW6ptTv"
      }
    },
    {
      "cell_type": "code",
      "source": [
        "my_features = my_df.iloc[             :             ,      3       :             ]\n",
        "my_labels = my_df.iloc[ : ,-1]"
      ],
      "metadata": {
        "id": "Oji36_C4rBJw"
      },
      "execution_count": 60,
      "outputs": []
    },
    {
      "cell_type": "code",
      "source": [
        "# the line below does the very same thing as the previous one and it is the most used style\n",
        "my_features, my_labels = my_df.iloc[ : , : 2], my_df.iloc[ : ,-1]"
      ],
      "metadata": {
        "id": "kOdX2xVxl_a2"
      },
      "execution_count": 33,
      "outputs": []
    },
    {
      "cell_type": "code",
      "source": [
        "my_features"
      ],
      "metadata": {
        "colab": {
          "base_uri": "https://localhost:8080/",
          "height": 175
        },
        "id": "-iJGx7fmqD4l",
        "outputId": "32769c69-61bd-400e-f77e-685eda3f8e67"
      },
      "execution_count": 34,
      "outputs": [
        {
          "output_type": "execute_result",
          "data": {
            "text/plain": [
              "        Name  Age\n",
              "0       John   10\n",
              "1       Mike   12\n",
              "2       Josh   14\n",
              "3  Elizabeth   94"
            ],
            "text/html": [
              "\n",
              "  <div id=\"df-af57fdff-f9c1-4e3d-91d8-3c0ea24abae2\">\n",
              "    <div class=\"colab-df-container\">\n",
              "      <div>\n",
              "<style scoped>\n",
              "    .dataframe tbody tr th:only-of-type {\n",
              "        vertical-align: middle;\n",
              "    }\n",
              "\n",
              "    .dataframe tbody tr th {\n",
              "        vertical-align: top;\n",
              "    }\n",
              "\n",
              "    .dataframe thead th {\n",
              "        text-align: right;\n",
              "    }\n",
              "</style>\n",
              "<table border=\"1\" class=\"dataframe\">\n",
              "  <thead>\n",
              "    <tr style=\"text-align: right;\">\n",
              "      <th></th>\n",
              "      <th>Name</th>\n",
              "      <th>Age</th>\n",
              "    </tr>\n",
              "  </thead>\n",
              "  <tbody>\n",
              "    <tr>\n",
              "      <th>0</th>\n",
              "      <td>John</td>\n",
              "      <td>10</td>\n",
              "    </tr>\n",
              "    <tr>\n",
              "      <th>1</th>\n",
              "      <td>Mike</td>\n",
              "      <td>12</td>\n",
              "    </tr>\n",
              "    <tr>\n",
              "      <th>2</th>\n",
              "      <td>Josh</td>\n",
              "      <td>14</td>\n",
              "    </tr>\n",
              "    <tr>\n",
              "      <th>3</th>\n",
              "      <td>Elizabeth</td>\n",
              "      <td>94</td>\n",
              "    </tr>\n",
              "  </tbody>\n",
              "</table>\n",
              "</div>\n",
              "      <button class=\"colab-df-convert\" onclick=\"convertToInteractive('df-af57fdff-f9c1-4e3d-91d8-3c0ea24abae2')\"\n",
              "              title=\"Convert this dataframe to an interactive table.\"\n",
              "              style=\"display:none;\">\n",
              "        \n",
              "  <svg xmlns=\"http://www.w3.org/2000/svg\" height=\"24px\"viewBox=\"0 0 24 24\"\n",
              "       width=\"24px\">\n",
              "    <path d=\"M0 0h24v24H0V0z\" fill=\"none\"/>\n",
              "    <path d=\"M18.56 5.44l.94 2.06.94-2.06 2.06-.94-2.06-.94-.94-2.06-.94 2.06-2.06.94zm-11 1L8.5 8.5l.94-2.06 2.06-.94-2.06-.94L8.5 2.5l-.94 2.06-2.06.94zm10 10l.94 2.06.94-2.06 2.06-.94-2.06-.94-.94-2.06-.94 2.06-2.06.94z\"/><path d=\"M17.41 7.96l-1.37-1.37c-.4-.4-.92-.59-1.43-.59-.52 0-1.04.2-1.43.59L10.3 9.45l-7.72 7.72c-.78.78-.78 2.05 0 2.83L4 21.41c.39.39.9.59 1.41.59.51 0 1.02-.2 1.41-.59l7.78-7.78 2.81-2.81c.8-.78.8-2.07 0-2.86zM5.41 20L4 18.59l7.72-7.72 1.47 1.35L5.41 20z\"/>\n",
              "  </svg>\n",
              "      </button>\n",
              "      \n",
              "  <style>\n",
              "    .colab-df-container {\n",
              "      display:flex;\n",
              "      flex-wrap:wrap;\n",
              "      gap: 12px;\n",
              "    }\n",
              "\n",
              "    .colab-df-convert {\n",
              "      background-color: #E8F0FE;\n",
              "      border: none;\n",
              "      border-radius: 50%;\n",
              "      cursor: pointer;\n",
              "      display: none;\n",
              "      fill: #1967D2;\n",
              "      height: 32px;\n",
              "      padding: 0 0 0 0;\n",
              "      width: 32px;\n",
              "    }\n",
              "\n",
              "    .colab-df-convert:hover {\n",
              "      background-color: #E2EBFA;\n",
              "      box-shadow: 0px 1px 2px rgba(60, 64, 67, 0.3), 0px 1px 3px 1px rgba(60, 64, 67, 0.15);\n",
              "      fill: #174EA6;\n",
              "    }\n",
              "\n",
              "    [theme=dark] .colab-df-convert {\n",
              "      background-color: #3B4455;\n",
              "      fill: #D2E3FC;\n",
              "    }\n",
              "\n",
              "    [theme=dark] .colab-df-convert:hover {\n",
              "      background-color: #434B5C;\n",
              "      box-shadow: 0px 1px 3px 1px rgba(0, 0, 0, 0.15);\n",
              "      filter: drop-shadow(0px 1px 2px rgba(0, 0, 0, 0.3));\n",
              "      fill: #FFFFFF;\n",
              "    }\n",
              "  </style>\n",
              "\n",
              "      <script>\n",
              "        const buttonEl =\n",
              "          document.querySelector('#df-af57fdff-f9c1-4e3d-91d8-3c0ea24abae2 button.colab-df-convert');\n",
              "        buttonEl.style.display =\n",
              "          google.colab.kernel.accessAllowed ? 'block' : 'none';\n",
              "\n",
              "        async function convertToInteractive(key) {\n",
              "          const element = document.querySelector('#df-af57fdff-f9c1-4e3d-91d8-3c0ea24abae2');\n",
              "          const dataTable =\n",
              "            await google.colab.kernel.invokeFunction('convertToInteractive',\n",
              "                                                     [key], {});\n",
              "          if (!dataTable) return;\n",
              "\n",
              "          const docLinkHtml = 'Like what you see? Visit the ' +\n",
              "            '<a target=\"_blank\" href=https://colab.research.google.com/notebooks/data_table.ipynb>data table notebook</a>'\n",
              "            + ' to learn more about interactive tables.';\n",
              "          element.innerHTML = '';\n",
              "          dataTable['output_type'] = 'display_data';\n",
              "          await google.colab.output.renderOutput(dataTable, element);\n",
              "          const docLink = document.createElement('div');\n",
              "          docLink.innerHTML = docLinkHtml;\n",
              "          element.appendChild(docLink);\n",
              "        }\n",
              "      </script>\n",
              "    </div>\n",
              "  </div>\n",
              "  "
            ]
          },
          "metadata": {},
          "execution_count": 34
        }
      ]
    },
    {
      "cell_type": "code",
      "source": [
        "my_labels"
      ],
      "metadata": {
        "colab": {
          "base_uri": "https://localhost:8080/"
        },
        "id": "BEWIDBVxqLEI",
        "outputId": "b661d397-ade6-4fa9-a642-b069b8d8bc33"
      },
      "execution_count": 35,
      "outputs": [
        {
          "output_type": "execute_result",
          "data": {
            "text/plain": [
              "0        USA\n",
              "1    England\n",
              "2    Nigeria\n",
              "3    England\n",
              "Name: Country, dtype: object"
            ]
          },
          "metadata": {},
          "execution_count": 35
        }
      ]
    },
    {
      "cell_type": "markdown",
      "source": [
        "# Your Turn"
      ],
      "metadata": {
        "id": "1V8V4V5Rw_t5"
      }
    },
    {
      "cell_type": "code",
      "source": [
        "# download the data\n",
        "!wget https://github.com/x4nth055/pythoncode-tutorials/raw/master/machine-learning/customer-churn-detection/Churn_Modelling.csv"
      ],
      "metadata": {
        "id": "-Om-pf14sRmF",
        "colab": {
          "base_uri": "https://localhost:8080/"
        },
        "outputId": "f7b0824f-ed1e-472a-973d-b70f59323f73"
      },
      "execution_count": 36,
      "outputs": [
        {
          "output_type": "stream",
          "name": "stdout",
          "text": [
            "--2022-09-10 16:34:30--  https://github.com/x4nth055/pythoncode-tutorials/raw/master/machine-learning/customer-churn-detection/Churn_Modelling.csv\n",
            "Resolving github.com (github.com)... 140.82.114.3\n",
            "Connecting to github.com (github.com)|140.82.114.3|:443... connected.\n",
            "HTTP request sent, awaiting response... 302 Found\n",
            "Location: https://raw.githubusercontent.com/x4nth055/pythoncode-tutorials/master/machine-learning/customer-churn-detection/Churn_Modelling.csv [following]\n",
            "--2022-09-10 16:34:30--  https://raw.githubusercontent.com/x4nth055/pythoncode-tutorials/master/machine-learning/customer-churn-detection/Churn_Modelling.csv\n",
            "Resolving raw.githubusercontent.com (raw.githubusercontent.com)... 185.199.111.133, 185.199.109.133, 185.199.110.133, ...\n",
            "Connecting to raw.githubusercontent.com (raw.githubusercontent.com)|185.199.111.133|:443... connected.\n",
            "HTTP request sent, awaiting response... 200 OK\n",
            "Length: 674857 (659K) [text/plain]\n",
            "Saving to: ‘Churn_Modelling.csv’\n",
            "\n",
            "Churn_Modelling.csv 100%[===================>] 659.04K  --.-KB/s    in 0.04s   \n",
            "\n",
            "2022-09-10 16:34:31 (15.2 MB/s) - ‘Churn_Modelling.csv’ saved [674857/674857]\n",
            "\n"
          ]
        }
      ]
    },
    {
      "cell_type": "code",
      "source": [
        "my_df_churn_modeling = pd.read_csv(\"Churn_Modelling.csv\")"
      ],
      "metadata": {
        "id": "Drv8samTsT-G"
      },
      "execution_count": 37,
      "outputs": []
    },
    {
      "cell_type": "code",
      "source": [
        "my_df_churn_modeling.info()"
      ],
      "metadata": {
        "colab": {
          "base_uri": "https://localhost:8080/"
        },
        "id": "6ca2tU95thhE",
        "outputId": "287fabdb-165f-4f8b-a02b-794258df03ac"
      },
      "execution_count": 38,
      "outputs": [
        {
          "output_type": "stream",
          "name": "stdout",
          "text": [
            "<class 'pandas.core.frame.DataFrame'>\n",
            "RangeIndex: 10000 entries, 0 to 9999\n",
            "Data columns (total 14 columns):\n",
            " #   Column           Non-Null Count  Dtype  \n",
            "---  ------           --------------  -----  \n",
            " 0   RowNumber        10000 non-null  int64  \n",
            " 1   CustomerId       10000 non-null  int64  \n",
            " 2   Surname          10000 non-null  object \n",
            " 3   CreditScore      10000 non-null  int64  \n",
            " 4   Geography        10000 non-null  object \n",
            " 5   Gender           10000 non-null  object \n",
            " 6   Age              10000 non-null  int64  \n",
            " 7   Tenure           10000 non-null  int64  \n",
            " 8   Balance          10000 non-null  float64\n",
            " 9   NumOfProducts    10000 non-null  int64  \n",
            " 10  HasCrCard        10000 non-null  int64  \n",
            " 11  IsActiveMember   10000 non-null  int64  \n",
            " 12  EstimatedSalary  10000 non-null  float64\n",
            " 13  Exited           10000 non-null  int64  \n",
            "dtypes: float64(2), int64(9), object(3)\n",
            "memory usage: 1.1+ MB\n"
          ]
        }
      ]
    },
    {
      "cell_type": "code",
      "source": [
        "my_df_churn_modeling.head(5)"
      ],
      "metadata": {
        "colab": {
          "base_uri": "https://localhost:8080/",
          "height": 270
        },
        "id": "RBAOj-HgsU-M",
        "outputId": "f1066d1c-d5d2-4fa1-ef88-4e2b0d22095b"
      },
      "execution_count": 39,
      "outputs": [
        {
          "output_type": "execute_result",
          "data": {
            "text/plain": [
              "   RowNumber  CustomerId   Surname  CreditScore Geography  Gender  Age  \\\n",
              "0          1    15634602  Hargrave          619    France  Female   42   \n",
              "1          2    15647311      Hill          608     Spain  Female   41   \n",
              "2          3    15619304      Onio          502    France  Female   42   \n",
              "3          4    15701354      Boni          699    France  Female   39   \n",
              "4          5    15737888  Mitchell          850     Spain  Female   43   \n",
              "\n",
              "   Tenure    Balance  NumOfProducts  HasCrCard  IsActiveMember  \\\n",
              "0       2       0.00              1          1               1   \n",
              "1       1   83807.86              1          0               1   \n",
              "2       8  159660.80              3          1               0   \n",
              "3       1       0.00              2          0               0   \n",
              "4       2  125510.82              1          1               1   \n",
              "\n",
              "   EstimatedSalary  Exited  \n",
              "0        101348.88       1  \n",
              "1        112542.58       0  \n",
              "2        113931.57       1  \n",
              "3         93826.63       0  \n",
              "4         79084.10       0  "
            ],
            "text/html": [
              "\n",
              "  <div id=\"df-77781b30-5536-498d-acd6-7cffc8de0bea\">\n",
              "    <div class=\"colab-df-container\">\n",
              "      <div>\n",
              "<style scoped>\n",
              "    .dataframe tbody tr th:only-of-type {\n",
              "        vertical-align: middle;\n",
              "    }\n",
              "\n",
              "    .dataframe tbody tr th {\n",
              "        vertical-align: top;\n",
              "    }\n",
              "\n",
              "    .dataframe thead th {\n",
              "        text-align: right;\n",
              "    }\n",
              "</style>\n",
              "<table border=\"1\" class=\"dataframe\">\n",
              "  <thead>\n",
              "    <tr style=\"text-align: right;\">\n",
              "      <th></th>\n",
              "      <th>RowNumber</th>\n",
              "      <th>CustomerId</th>\n",
              "      <th>Surname</th>\n",
              "      <th>CreditScore</th>\n",
              "      <th>Geography</th>\n",
              "      <th>Gender</th>\n",
              "      <th>Age</th>\n",
              "      <th>Tenure</th>\n",
              "      <th>Balance</th>\n",
              "      <th>NumOfProducts</th>\n",
              "      <th>HasCrCard</th>\n",
              "      <th>IsActiveMember</th>\n",
              "      <th>EstimatedSalary</th>\n",
              "      <th>Exited</th>\n",
              "    </tr>\n",
              "  </thead>\n",
              "  <tbody>\n",
              "    <tr>\n",
              "      <th>0</th>\n",
              "      <td>1</td>\n",
              "      <td>15634602</td>\n",
              "      <td>Hargrave</td>\n",
              "      <td>619</td>\n",
              "      <td>France</td>\n",
              "      <td>Female</td>\n",
              "      <td>42</td>\n",
              "      <td>2</td>\n",
              "      <td>0.00</td>\n",
              "      <td>1</td>\n",
              "      <td>1</td>\n",
              "      <td>1</td>\n",
              "      <td>101348.88</td>\n",
              "      <td>1</td>\n",
              "    </tr>\n",
              "    <tr>\n",
              "      <th>1</th>\n",
              "      <td>2</td>\n",
              "      <td>15647311</td>\n",
              "      <td>Hill</td>\n",
              "      <td>608</td>\n",
              "      <td>Spain</td>\n",
              "      <td>Female</td>\n",
              "      <td>41</td>\n",
              "      <td>1</td>\n",
              "      <td>83807.86</td>\n",
              "      <td>1</td>\n",
              "      <td>0</td>\n",
              "      <td>1</td>\n",
              "      <td>112542.58</td>\n",
              "      <td>0</td>\n",
              "    </tr>\n",
              "    <tr>\n",
              "      <th>2</th>\n",
              "      <td>3</td>\n",
              "      <td>15619304</td>\n",
              "      <td>Onio</td>\n",
              "      <td>502</td>\n",
              "      <td>France</td>\n",
              "      <td>Female</td>\n",
              "      <td>42</td>\n",
              "      <td>8</td>\n",
              "      <td>159660.80</td>\n",
              "      <td>3</td>\n",
              "      <td>1</td>\n",
              "      <td>0</td>\n",
              "      <td>113931.57</td>\n",
              "      <td>1</td>\n",
              "    </tr>\n",
              "    <tr>\n",
              "      <th>3</th>\n",
              "      <td>4</td>\n",
              "      <td>15701354</td>\n",
              "      <td>Boni</td>\n",
              "      <td>699</td>\n",
              "      <td>France</td>\n",
              "      <td>Female</td>\n",
              "      <td>39</td>\n",
              "      <td>1</td>\n",
              "      <td>0.00</td>\n",
              "      <td>2</td>\n",
              "      <td>0</td>\n",
              "      <td>0</td>\n",
              "      <td>93826.63</td>\n",
              "      <td>0</td>\n",
              "    </tr>\n",
              "    <tr>\n",
              "      <th>4</th>\n",
              "      <td>5</td>\n",
              "      <td>15737888</td>\n",
              "      <td>Mitchell</td>\n",
              "      <td>850</td>\n",
              "      <td>Spain</td>\n",
              "      <td>Female</td>\n",
              "      <td>43</td>\n",
              "      <td>2</td>\n",
              "      <td>125510.82</td>\n",
              "      <td>1</td>\n",
              "      <td>1</td>\n",
              "      <td>1</td>\n",
              "      <td>79084.10</td>\n",
              "      <td>0</td>\n",
              "    </tr>\n",
              "  </tbody>\n",
              "</table>\n",
              "</div>\n",
              "      <button class=\"colab-df-convert\" onclick=\"convertToInteractive('df-77781b30-5536-498d-acd6-7cffc8de0bea')\"\n",
              "              title=\"Convert this dataframe to an interactive table.\"\n",
              "              style=\"display:none;\">\n",
              "        \n",
              "  <svg xmlns=\"http://www.w3.org/2000/svg\" height=\"24px\"viewBox=\"0 0 24 24\"\n",
              "       width=\"24px\">\n",
              "    <path d=\"M0 0h24v24H0V0z\" fill=\"none\"/>\n",
              "    <path d=\"M18.56 5.44l.94 2.06.94-2.06 2.06-.94-2.06-.94-.94-2.06-.94 2.06-2.06.94zm-11 1L8.5 8.5l.94-2.06 2.06-.94-2.06-.94L8.5 2.5l-.94 2.06-2.06.94zm10 10l.94 2.06.94-2.06 2.06-.94-2.06-.94-.94-2.06-.94 2.06-2.06.94z\"/><path d=\"M17.41 7.96l-1.37-1.37c-.4-.4-.92-.59-1.43-.59-.52 0-1.04.2-1.43.59L10.3 9.45l-7.72 7.72c-.78.78-.78 2.05 0 2.83L4 21.41c.39.39.9.59 1.41.59.51 0 1.02-.2 1.41-.59l7.78-7.78 2.81-2.81c.8-.78.8-2.07 0-2.86zM5.41 20L4 18.59l7.72-7.72 1.47 1.35L5.41 20z\"/>\n",
              "  </svg>\n",
              "      </button>\n",
              "      \n",
              "  <style>\n",
              "    .colab-df-container {\n",
              "      display:flex;\n",
              "      flex-wrap:wrap;\n",
              "      gap: 12px;\n",
              "    }\n",
              "\n",
              "    .colab-df-convert {\n",
              "      background-color: #E8F0FE;\n",
              "      border: none;\n",
              "      border-radius: 50%;\n",
              "      cursor: pointer;\n",
              "      display: none;\n",
              "      fill: #1967D2;\n",
              "      height: 32px;\n",
              "      padding: 0 0 0 0;\n",
              "      width: 32px;\n",
              "    }\n",
              "\n",
              "    .colab-df-convert:hover {\n",
              "      background-color: #E2EBFA;\n",
              "      box-shadow: 0px 1px 2px rgba(60, 64, 67, 0.3), 0px 1px 3px 1px rgba(60, 64, 67, 0.15);\n",
              "      fill: #174EA6;\n",
              "    }\n",
              "\n",
              "    [theme=dark] .colab-df-convert {\n",
              "      background-color: #3B4455;\n",
              "      fill: #D2E3FC;\n",
              "    }\n",
              "\n",
              "    [theme=dark] .colab-df-convert:hover {\n",
              "      background-color: #434B5C;\n",
              "      box-shadow: 0px 1px 3px 1px rgba(0, 0, 0, 0.15);\n",
              "      filter: drop-shadow(0px 1px 2px rgba(0, 0, 0, 0.3));\n",
              "      fill: #FFFFFF;\n",
              "    }\n",
              "  </style>\n",
              "\n",
              "      <script>\n",
              "        const buttonEl =\n",
              "          document.querySelector('#df-77781b30-5536-498d-acd6-7cffc8de0bea button.colab-df-convert');\n",
              "        buttonEl.style.display =\n",
              "          google.colab.kernel.accessAllowed ? 'block' : 'none';\n",
              "\n",
              "        async function convertToInteractive(key) {\n",
              "          const element = document.querySelector('#df-77781b30-5536-498d-acd6-7cffc8de0bea');\n",
              "          const dataTable =\n",
              "            await google.colab.kernel.invokeFunction('convertToInteractive',\n",
              "                                                     [key], {});\n",
              "          if (!dataTable) return;\n",
              "\n",
              "          const docLinkHtml = 'Like what you see? Visit the ' +\n",
              "            '<a target=\"_blank\" href=https://colab.research.google.com/notebooks/data_table.ipynb>data table notebook</a>'\n",
              "            + ' to learn more about interactive tables.';\n",
              "          element.innerHTML = '';\n",
              "          dataTable['output_type'] = 'display_data';\n",
              "          await google.colab.output.renderOutput(dataTable, element);\n",
              "          const docLink = document.createElement('div');\n",
              "          docLink.innerHTML = docLinkHtml;\n",
              "          element.appendChild(docLink);\n",
              "        }\n",
              "      </script>\n",
              "    </div>\n",
              "  </div>\n",
              "  "
            ]
          },
          "metadata": {},
          "execution_count": 39
        }
      ]
    },
    {
      "cell_type": "markdown",
      "source": [
        "## Instructions\n",
        "\n",
        "my_df_churn_modeling dataframe has 14 columns, from 0 to 13\n",
        "\n",
        "1. Split the dataframe into features, starting from column 3, you do not need columns RowNumber, CustomerId and Surname\n",
        "\n",
        "2. Label - Exited, last column"
      ],
      "metadata": {
        "id": "B8y8h0e2t3XU"
      }
    },
    {
      "cell_type": "code",
      "source": [
        "my_features = my_df_churn_modeling.iloc[ :,3 :-1 ]"
      ],
      "metadata": {
        "id": "EnU-PgIix0De"
      },
      "execution_count": 73,
      "outputs": []
    },
    {
      "cell_type": "code",
      "source": [
        "my_labels = my_df_churn_modeling.iloc[ : ,-1]"
      ],
      "metadata": {
        "id": "zoXjcQGkx-An"
      },
      "execution_count": 71,
      "outputs": []
    },
    {
      "cell_type": "code",
      "source": [
        "my_features"
      ],
      "metadata": {
        "colab": {
          "base_uri": "https://localhost:8080/",
          "height": 424
        },
        "id": "R5Wnc0IiRE8z",
        "outputId": "3882bc8e-1342-4ca0-c57c-465ad2f279d8"
      },
      "execution_count": 74,
      "outputs": [
        {
          "output_type": "execute_result",
          "data": {
            "text/plain": [
              "      CreditScore Geography  Gender  Age  Tenure    Balance  NumOfProducts  \\\n",
              "0             619    France  Female   42       2       0.00              1   \n",
              "1             608     Spain  Female   41       1   83807.86              1   \n",
              "2             502    France  Female   42       8  159660.80              3   \n",
              "3             699    France  Female   39       1       0.00              2   \n",
              "4             850     Spain  Female   43       2  125510.82              1   \n",
              "...           ...       ...     ...  ...     ...        ...            ...   \n",
              "9995          771    France    Male   39       5       0.00              2   \n",
              "9996          516    France    Male   35      10   57369.61              1   \n",
              "9997          709    France  Female   36       7       0.00              1   \n",
              "9998          772   Germany    Male   42       3   75075.31              2   \n",
              "9999          792    France  Female   28       4  130142.79              1   \n",
              "\n",
              "      HasCrCard  IsActiveMember  EstimatedSalary  \n",
              "0             1               1        101348.88  \n",
              "1             0               1        112542.58  \n",
              "2             1               0        113931.57  \n",
              "3             0               0         93826.63  \n",
              "4             1               1         79084.10  \n",
              "...         ...             ...              ...  \n",
              "9995          1               0         96270.64  \n",
              "9996          1               1        101699.77  \n",
              "9997          0               1         42085.58  \n",
              "9998          1               0         92888.52  \n",
              "9999          1               0         38190.78  \n",
              "\n",
              "[10000 rows x 10 columns]"
            ],
            "text/html": [
              "\n",
              "  <div id=\"df-c71f3747-c076-4e1e-b60e-d42b2ba57884\">\n",
              "    <div class=\"colab-df-container\">\n",
              "      <div>\n",
              "<style scoped>\n",
              "    .dataframe tbody tr th:only-of-type {\n",
              "        vertical-align: middle;\n",
              "    }\n",
              "\n",
              "    .dataframe tbody tr th {\n",
              "        vertical-align: top;\n",
              "    }\n",
              "\n",
              "    .dataframe thead th {\n",
              "        text-align: right;\n",
              "    }\n",
              "</style>\n",
              "<table border=\"1\" class=\"dataframe\">\n",
              "  <thead>\n",
              "    <tr style=\"text-align: right;\">\n",
              "      <th></th>\n",
              "      <th>CreditScore</th>\n",
              "      <th>Geography</th>\n",
              "      <th>Gender</th>\n",
              "      <th>Age</th>\n",
              "      <th>Tenure</th>\n",
              "      <th>Balance</th>\n",
              "      <th>NumOfProducts</th>\n",
              "      <th>HasCrCard</th>\n",
              "      <th>IsActiveMember</th>\n",
              "      <th>EstimatedSalary</th>\n",
              "    </tr>\n",
              "  </thead>\n",
              "  <tbody>\n",
              "    <tr>\n",
              "      <th>0</th>\n",
              "      <td>619</td>\n",
              "      <td>France</td>\n",
              "      <td>Female</td>\n",
              "      <td>42</td>\n",
              "      <td>2</td>\n",
              "      <td>0.00</td>\n",
              "      <td>1</td>\n",
              "      <td>1</td>\n",
              "      <td>1</td>\n",
              "      <td>101348.88</td>\n",
              "    </tr>\n",
              "    <tr>\n",
              "      <th>1</th>\n",
              "      <td>608</td>\n",
              "      <td>Spain</td>\n",
              "      <td>Female</td>\n",
              "      <td>41</td>\n",
              "      <td>1</td>\n",
              "      <td>83807.86</td>\n",
              "      <td>1</td>\n",
              "      <td>0</td>\n",
              "      <td>1</td>\n",
              "      <td>112542.58</td>\n",
              "    </tr>\n",
              "    <tr>\n",
              "      <th>2</th>\n",
              "      <td>502</td>\n",
              "      <td>France</td>\n",
              "      <td>Female</td>\n",
              "      <td>42</td>\n",
              "      <td>8</td>\n",
              "      <td>159660.80</td>\n",
              "      <td>3</td>\n",
              "      <td>1</td>\n",
              "      <td>0</td>\n",
              "      <td>113931.57</td>\n",
              "    </tr>\n",
              "    <tr>\n",
              "      <th>3</th>\n",
              "      <td>699</td>\n",
              "      <td>France</td>\n",
              "      <td>Female</td>\n",
              "      <td>39</td>\n",
              "      <td>1</td>\n",
              "      <td>0.00</td>\n",
              "      <td>2</td>\n",
              "      <td>0</td>\n",
              "      <td>0</td>\n",
              "      <td>93826.63</td>\n",
              "    </tr>\n",
              "    <tr>\n",
              "      <th>4</th>\n",
              "      <td>850</td>\n",
              "      <td>Spain</td>\n",
              "      <td>Female</td>\n",
              "      <td>43</td>\n",
              "      <td>2</td>\n",
              "      <td>125510.82</td>\n",
              "      <td>1</td>\n",
              "      <td>1</td>\n",
              "      <td>1</td>\n",
              "      <td>79084.10</td>\n",
              "    </tr>\n",
              "    <tr>\n",
              "      <th>...</th>\n",
              "      <td>...</td>\n",
              "      <td>...</td>\n",
              "      <td>...</td>\n",
              "      <td>...</td>\n",
              "      <td>...</td>\n",
              "      <td>...</td>\n",
              "      <td>...</td>\n",
              "      <td>...</td>\n",
              "      <td>...</td>\n",
              "      <td>...</td>\n",
              "    </tr>\n",
              "    <tr>\n",
              "      <th>9995</th>\n",
              "      <td>771</td>\n",
              "      <td>France</td>\n",
              "      <td>Male</td>\n",
              "      <td>39</td>\n",
              "      <td>5</td>\n",
              "      <td>0.00</td>\n",
              "      <td>2</td>\n",
              "      <td>1</td>\n",
              "      <td>0</td>\n",
              "      <td>96270.64</td>\n",
              "    </tr>\n",
              "    <tr>\n",
              "      <th>9996</th>\n",
              "      <td>516</td>\n",
              "      <td>France</td>\n",
              "      <td>Male</td>\n",
              "      <td>35</td>\n",
              "      <td>10</td>\n",
              "      <td>57369.61</td>\n",
              "      <td>1</td>\n",
              "      <td>1</td>\n",
              "      <td>1</td>\n",
              "      <td>101699.77</td>\n",
              "    </tr>\n",
              "    <tr>\n",
              "      <th>9997</th>\n",
              "      <td>709</td>\n",
              "      <td>France</td>\n",
              "      <td>Female</td>\n",
              "      <td>36</td>\n",
              "      <td>7</td>\n",
              "      <td>0.00</td>\n",
              "      <td>1</td>\n",
              "      <td>0</td>\n",
              "      <td>1</td>\n",
              "      <td>42085.58</td>\n",
              "    </tr>\n",
              "    <tr>\n",
              "      <th>9998</th>\n",
              "      <td>772</td>\n",
              "      <td>Germany</td>\n",
              "      <td>Male</td>\n",
              "      <td>42</td>\n",
              "      <td>3</td>\n",
              "      <td>75075.31</td>\n",
              "      <td>2</td>\n",
              "      <td>1</td>\n",
              "      <td>0</td>\n",
              "      <td>92888.52</td>\n",
              "    </tr>\n",
              "    <tr>\n",
              "      <th>9999</th>\n",
              "      <td>792</td>\n",
              "      <td>France</td>\n",
              "      <td>Female</td>\n",
              "      <td>28</td>\n",
              "      <td>4</td>\n",
              "      <td>130142.79</td>\n",
              "      <td>1</td>\n",
              "      <td>1</td>\n",
              "      <td>0</td>\n",
              "      <td>38190.78</td>\n",
              "    </tr>\n",
              "  </tbody>\n",
              "</table>\n",
              "<p>10000 rows × 10 columns</p>\n",
              "</div>\n",
              "      <button class=\"colab-df-convert\" onclick=\"convertToInteractive('df-c71f3747-c076-4e1e-b60e-d42b2ba57884')\"\n",
              "              title=\"Convert this dataframe to an interactive table.\"\n",
              "              style=\"display:none;\">\n",
              "        \n",
              "  <svg xmlns=\"http://www.w3.org/2000/svg\" height=\"24px\"viewBox=\"0 0 24 24\"\n",
              "       width=\"24px\">\n",
              "    <path d=\"M0 0h24v24H0V0z\" fill=\"none\"/>\n",
              "    <path d=\"M18.56 5.44l.94 2.06.94-2.06 2.06-.94-2.06-.94-.94-2.06-.94 2.06-2.06.94zm-11 1L8.5 8.5l.94-2.06 2.06-.94-2.06-.94L8.5 2.5l-.94 2.06-2.06.94zm10 10l.94 2.06.94-2.06 2.06-.94-2.06-.94-.94-2.06-.94 2.06-2.06.94z\"/><path d=\"M17.41 7.96l-1.37-1.37c-.4-.4-.92-.59-1.43-.59-.52 0-1.04.2-1.43.59L10.3 9.45l-7.72 7.72c-.78.78-.78 2.05 0 2.83L4 21.41c.39.39.9.59 1.41.59.51 0 1.02-.2 1.41-.59l7.78-7.78 2.81-2.81c.8-.78.8-2.07 0-2.86zM5.41 20L4 18.59l7.72-7.72 1.47 1.35L5.41 20z\"/>\n",
              "  </svg>\n",
              "      </button>\n",
              "      \n",
              "  <style>\n",
              "    .colab-df-container {\n",
              "      display:flex;\n",
              "      flex-wrap:wrap;\n",
              "      gap: 12px;\n",
              "    }\n",
              "\n",
              "    .colab-df-convert {\n",
              "      background-color: #E8F0FE;\n",
              "      border: none;\n",
              "      border-radius: 50%;\n",
              "      cursor: pointer;\n",
              "      display: none;\n",
              "      fill: #1967D2;\n",
              "      height: 32px;\n",
              "      padding: 0 0 0 0;\n",
              "      width: 32px;\n",
              "    }\n",
              "\n",
              "    .colab-df-convert:hover {\n",
              "      background-color: #E2EBFA;\n",
              "      box-shadow: 0px 1px 2px rgba(60, 64, 67, 0.3), 0px 1px 3px 1px rgba(60, 64, 67, 0.15);\n",
              "      fill: #174EA6;\n",
              "    }\n",
              "\n",
              "    [theme=dark] .colab-df-convert {\n",
              "      background-color: #3B4455;\n",
              "      fill: #D2E3FC;\n",
              "    }\n",
              "\n",
              "    [theme=dark] .colab-df-convert:hover {\n",
              "      background-color: #434B5C;\n",
              "      box-shadow: 0px 1px 3px 1px rgba(0, 0, 0, 0.15);\n",
              "      filter: drop-shadow(0px 1px 2px rgba(0, 0, 0, 0.3));\n",
              "      fill: #FFFFFF;\n",
              "    }\n",
              "  </style>\n",
              "\n",
              "      <script>\n",
              "        const buttonEl =\n",
              "          document.querySelector('#df-c71f3747-c076-4e1e-b60e-d42b2ba57884 button.colab-df-convert');\n",
              "        buttonEl.style.display =\n",
              "          google.colab.kernel.accessAllowed ? 'block' : 'none';\n",
              "\n",
              "        async function convertToInteractive(key) {\n",
              "          const element = document.querySelector('#df-c71f3747-c076-4e1e-b60e-d42b2ba57884');\n",
              "          const dataTable =\n",
              "            await google.colab.kernel.invokeFunction('convertToInteractive',\n",
              "                                                     [key], {});\n",
              "          if (!dataTable) return;\n",
              "\n",
              "          const docLinkHtml = 'Like what you see? Visit the ' +\n",
              "            '<a target=\"_blank\" href=https://colab.research.google.com/notebooks/data_table.ipynb>data table notebook</a>'\n",
              "            + ' to learn more about interactive tables.';\n",
              "          element.innerHTML = '';\n",
              "          dataTable['output_type'] = 'display_data';\n",
              "          await google.colab.output.renderOutput(dataTable, element);\n",
              "          const docLink = document.createElement('div');\n",
              "          docLink.innerHTML = docLinkHtml;\n",
              "          element.appendChild(docLink);\n",
              "        }\n",
              "      </script>\n",
              "    </div>\n",
              "  </div>\n",
              "  "
            ]
          },
          "metadata": {},
          "execution_count": 74
        }
      ]
    },
    {
      "cell_type": "code",
      "source": [
        "my_labels"
      ],
      "metadata": {
        "colab": {
          "base_uri": "https://localhost:8080/"
        },
        "id": "-x-bEZjKRGGi",
        "outputId": "9b51769c-9831-4ce1-df10-25b94899b5ad"
      },
      "execution_count": 75,
      "outputs": [
        {
          "output_type": "execute_result",
          "data": {
            "text/plain": [
              "0       1\n",
              "1       0\n",
              "2       1\n",
              "3       0\n",
              "4       0\n",
              "       ..\n",
              "9995    0\n",
              "9996    0\n",
              "9997    1\n",
              "9998    1\n",
              "9999    0\n",
              "Name: Exited, Length: 10000, dtype: int64"
            ]
          },
          "metadata": {},
          "execution_count": 75
        }
      ]
    },
    {
      "cell_type": "markdown",
      "source": [
        "## Expected Results"
      ],
      "metadata": {
        "id": "zbpahW6mxU35"
      }
    },
    {
      "cell_type": "markdown",
      "source": [
        "### Features\n",
        "\n",
        "![image.png](data:image/png;base64,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)\n"
      ],
      "metadata": {
        "id": "BhrxaHqgxYFA"
      }
    },
    {
      "cell_type": "markdown",
      "source": [
        "### Labels\n",
        "![image.png](data:image/png;base64,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)"
      ],
      "metadata": {
        "id": "jTBN79uqxpNR"
      }
    }
  ]
}